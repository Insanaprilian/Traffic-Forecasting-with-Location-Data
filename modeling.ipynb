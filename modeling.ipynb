{
 "cells": [
  {
   "cell_type": "markdown",
   "metadata": {},
   "source": [
    "# Import Packages\n",
    "\n",
    "- `time` - datetime - ability to get current time for logs\n",
    "- `math` - basic mathematical functions (as logarithm etc.))\n",
    "- `numpy` - for mathematical,and numerical calculations\n",
    "- `scipy` - for metrics evaluation calculations\n",
    "- `pandas` - for work with large data structures\n",
    "- `scikit` - all important machine learning (and statistical) algorithms used for training the models\n",
    "- `matplotlib` - for plotting the charts\n",
    "- `seaborn` - for statistical visualisations\n",
    "- `xgboost` - gradient boosting used for training the models\n",
    "- `category_encoders` - for category type transformation\n",
    "- `ia_pkg` - for combined function used in this notebook"
   ]
  },
  {
   "cell_type": "code",
   "execution_count": 1,
   "metadata": {},
   "outputs": [],
   "source": [
    "import pandas as pd\n",
    "import numpy as np\n",
    "import time\n",
    "import datetime\n",
    "\n",
    "import ia_pkg\n",
    "\n",
    "import matplotlib.pyplot as plt\n",
    "import seaborn as sns\n",
    "\n",
    "from IPython.display import display, HTML, Markdown\n",
    "\n",
    "from numpy import sqrt\n",
    "from numpy import argmax\n",
    "from numpy import arange\n",
    "\n",
    "from sklearn.metrics import roc_curve\n",
    "from sklearn.metrics import f1_score\n",
    "\n",
    "import warnings\n",
    "warnings.filterwarnings('ignore')"
   ]
  },
  {
   "cell_type": "code",
   "execution_count": 2,
   "metadata": {},
   "outputs": [
    {
     "name": "stdout",
     "output_type": "stream",
     "text": [
      " Package version check\n",
      "numpy: 1.19.2\n",
      "pandas: 1.1.3\n",
      "sklearn: 0.23.2\n",
      "matplotlib: 3.3.2\n",
      "seaborn: 0.11.0\n",
      "scipy: 1.5.2\n",
      "xgboost: 0.90\n",
      "category_encoders : 2.2.2\n",
      "\n"
     ]
    }
   ],
   "source": [
    "#Checking used library version\n",
    "ia_pkg.pkg_version()"
   ]
  },
  {
   "cell_type": "markdown",
   "metadata": {},
   "source": [
    "# Import Data"
   ]
  },
  {
   "cell_type": "code",
   "execution_count": 3,
   "metadata": {},
   "outputs": [
    {
     "name": "stdout",
     "output_type": "stream",
     "text": [
      "Data loaded on 2021-03-16 19:31:58\n"
     ]
    }
   ],
   "source": [
    "#Import data from CSV\n",
    "\n",
    "data = pd.read_csv('traintest_base_v2.csv',index_col='Ids')\n",
    "alerts = pd.read_csv('alerts_v3.csv')\n",
    "target = pd.read_csv('D:\\\\Downloads\\\\danthon\\\\data_train.csv',index_col='Ids')\n",
    "irr1 = pd.read_csv('D:\\\\Downloads\\\\danthon\\\\Irreg_Rhesa.csv',sep=';')\n",
    "irr2 = pd.read_csv('irr_part2.csv')\n",
    "print('Data loaded on', datetime.datetime.fromtimestamp(time.time()).strftime('%Y-%m-%d %H:%M:%S'))"
   ]
  },
  {
   "cell_type": "code",
   "execution_count": 4,
   "metadata": {},
   "outputs": [
    {
     "name": "stdout",
     "output_type": "stream",
     "text": [
      "(85177, 10)\n",
      "(71336, 1)\n"
     ]
    }
   ],
   "source": [
    "print(data.shape)\n",
    "print(target.shape)"
   ]
  },
  {
   "cell_type": "markdown",
   "metadata": {},
   "source": [
    "## Join base and target"
   ]
  },
  {
   "cell_type": "code",
   "execution_count": 5,
   "metadata": {},
   "outputs": [],
   "source": [
    "data = pd.merge(data,target, how='left', on='Ids')"
   ]
  },
  {
   "cell_type": "code",
   "execution_count": 6,
   "metadata": {},
   "outputs": [],
   "source": [
    "# masking row for modeling and kaggle submit\n",
    "mask_dev =  data['train_test'] == 'train'\n",
    "mask_submit = data['train_test'] == 'test'"
   ]
  },
  {
   "cell_type": "code",
   "execution_count": 7,
   "metadata": {},
   "outputs": [],
   "source": [
    "# change label datatype to integer\n",
    "data['target'] = np.where(data['Labels'] == True,1,\n",
    "                         np.where(data['Labels'] == False,0,np.nan)).astype('int64')"
   ]
  },
  {
   "cell_type": "markdown",
   "metadata": {},
   "source": [
    "## Initial check"
   ]
  },
  {
   "cell_type": "code",
   "execution_count": 8,
   "metadata": {},
   "outputs": [
    {
     "name": "stdout",
     "output_type": "stream",
     "text": [
      "Memory usage of dataframe is: 8.45 MB\n",
      "Memory usage after optimization is: 6.42 MB\n",
      "Decreased by 24.0%\n"
     ]
    }
   ],
   "source": [
    "#Running DataFrame optimizer to reduce memory usage\n",
    "from ia_pkg.function import optimizer\n",
    "data = optimizer(data)"
   ]
  },
  {
   "cell_type": "code",
   "execution_count": 9,
   "metadata": {},
   "outputs": [],
   "source": [
    "#Remove rows with duplicated index\n",
    "data=data[~data.index.duplicated(keep='first')]"
   ]
  },
  {
   "cell_type": "code",
   "execution_count": 10,
   "metadata": {},
   "outputs": [
    {
     "name": "stdout",
     "output_type": "stream",
     "text": [
      "Number of rows: 85177\n",
      "Number of columns: 12\n"
     ]
    }
   ],
   "source": [
    "print('Number of rows:',data.shape[0])\n",
    "print('Number of columns:',data.shape[1])"
   ]
  },
  {
   "cell_type": "code",
   "execution_count": 11,
   "metadata": {},
   "outputs": [
    {
     "name": "stdout",
     "output_type": "stream",
     "text": [
      "<class 'pandas.core.frame.DataFrame'>\n",
      "Index: 85177 entries, 2e69e9384_2020-10-06_13 to 2e698d804_2020-11-25_19\n",
      "Data columns (total 12 columns):\n",
      " #   Column         Non-Null Count  Dtype  \n",
      "---  ------         --------------  -----  \n",
      " 0   train_test     85177 non-null  object \n",
      " 1   daytime        85177 non-null  object \n",
      " 2   weekofmonth    85177 non-null  object \n",
      " 3   isweekend      85177 non-null  uint8  \n",
      " 4   isrushhour     85177 non-null  uint8  \n",
      " 5   ispayday       85177 non-null  uint8  \n",
      " 6   city_pred      85177 non-null  object \n",
      " 7   street_pred    80635 non-null  object \n",
      " 8   roadtype_pred  83273 non-null  float32\n",
      " 9   highway_pred   1904 non-null   object \n",
      " 10  Labels         71336 non-null  object \n",
      " 11  target         85177 non-null  int64  \n",
      "dtypes: float32(1), int64(1), object(7), uint8(3)\n",
      "memory usage: 6.4+ MB\n"
     ]
    }
   ],
   "source": [
    "data.info()"
   ]
  },
  {
   "cell_type": "code",
   "execution_count": 12,
   "metadata": {},
   "outputs": [],
   "source": [
    "#change roadtype to category\n",
    "data['roadtype_pred'] = data['roadtype_pred'].astype('str')"
   ]
  },
  {
   "cell_type": "code",
   "execution_count": 13,
   "metadata": {},
   "outputs": [
    {
     "data": {
      "text/html": [
       "<div>\n",
       "<style scoped>\n",
       "    .dataframe tbody tr th:only-of-type {\n",
       "        vertical-align: middle;\n",
       "    }\n",
       "\n",
       "    .dataframe tbody tr th {\n",
       "        vertical-align: top;\n",
       "    }\n",
       "\n",
       "    .dataframe thead th {\n",
       "        text-align: right;\n",
       "    }\n",
       "</style>\n",
       "<table border=\"1\" class=\"dataframe\">\n",
       "  <thead>\n",
       "    <tr style=\"text-align: right;\">\n",
       "      <th></th>\n",
       "      <th>train_test</th>\n",
       "      <th>daytime</th>\n",
       "      <th>weekofmonth</th>\n",
       "      <th>isweekend</th>\n",
       "      <th>isrushhour</th>\n",
       "      <th>ispayday</th>\n",
       "      <th>city_pred</th>\n",
       "      <th>street_pred</th>\n",
       "      <th>roadtype_pred</th>\n",
       "      <th>highway_pred</th>\n",
       "      <th>Labels</th>\n",
       "      <th>target</th>\n",
       "    </tr>\n",
       "    <tr>\n",
       "      <th>Ids</th>\n",
       "      <th></th>\n",
       "      <th></th>\n",
       "      <th></th>\n",
       "      <th></th>\n",
       "      <th></th>\n",
       "      <th></th>\n",
       "      <th></th>\n",
       "      <th></th>\n",
       "      <th></th>\n",
       "      <th></th>\n",
       "      <th></th>\n",
       "      <th></th>\n",
       "    </tr>\n",
       "  </thead>\n",
       "  <tbody>\n",
       "    <tr>\n",
       "      <th>2e69e9384_2020-10-06_13</th>\n",
       "      <td>train</td>\n",
       "      <td>noon</td>\n",
       "      <td>w_1</td>\n",
       "      <td>0</td>\n",
       "      <td>0</td>\n",
       "      <td>1</td>\n",
       "      <td>Depok</td>\n",
       "      <td>Sawangan Raya</td>\n",
       "      <td>7.0</td>\n",
       "      <td>NaN</td>\n",
       "      <td>True</td>\n",
       "      <td>1</td>\n",
       "    </tr>\n",
       "    <tr>\n",
       "      <th>2e6992c7c_2020-10-02_17</th>\n",
       "      <td>train</td>\n",
       "      <td>evening</td>\n",
       "      <td>w_1</td>\n",
       "      <td>0</td>\n",
       "      <td>1</td>\n",
       "      <td>1</td>\n",
       "      <td>Bekasi</td>\n",
       "      <td>Hankam Raya</td>\n",
       "      <td>2.0</td>\n",
       "      <td>NaN</td>\n",
       "      <td>True</td>\n",
       "      <td>1</td>\n",
       "    </tr>\n",
       "    <tr>\n",
       "      <th>2e69ef474_2020-09-13_19</th>\n",
       "      <td>train</td>\n",
       "      <td>evening</td>\n",
       "      <td>w_2</td>\n",
       "      <td>1</td>\n",
       "      <td>1</td>\n",
       "      <td>0</td>\n",
       "      <td>Depok</td>\n",
       "      <td>N6 Cinangka Raya</td>\n",
       "      <td>6.0</td>\n",
       "      <td>NaN</td>\n",
       "      <td>True</td>\n",
       "      <td>1</td>\n",
       "    </tr>\n",
       "    <tr>\n",
       "      <th>2e69c5fd4_2020-10-10_15</th>\n",
       "      <td>train</td>\n",
       "      <td>noon</td>\n",
       "      <td>w_2</td>\n",
       "      <td>1</td>\n",
       "      <td>0</td>\n",
       "      <td>0</td>\n",
       "      <td>Bogor</td>\n",
       "      <td>N9 Jalan Raya Pajajaran</td>\n",
       "      <td>6.0</td>\n",
       "      <td>NaN</td>\n",
       "      <td>True</td>\n",
       "      <td>1</td>\n",
       "    </tr>\n",
       "    <tr>\n",
       "      <th>2e6992134_2020-09-12_11</th>\n",
       "      <td>train</td>\n",
       "      <td>morning</td>\n",
       "      <td>w_2</td>\n",
       "      <td>1</td>\n",
       "      <td>0</td>\n",
       "      <td>0</td>\n",
       "      <td>Bekasi</td>\n",
       "      <td>Narogong Raya</td>\n",
       "      <td>7.0</td>\n",
       "      <td>NaN</td>\n",
       "      <td>True</td>\n",
       "      <td>1</td>\n",
       "    </tr>\n",
       "  </tbody>\n",
       "</table>\n",
       "</div>"
      ],
      "text/plain": [
       "                        train_test  daytime weekofmonth  isweekend  \\\n",
       "Ids                                                                  \n",
       "2e69e9384_2020-10-06_13      train     noon         w_1          0   \n",
       "2e6992c7c_2020-10-02_17      train  evening         w_1          0   \n",
       "2e69ef474_2020-09-13_19      train  evening         w_2          1   \n",
       "2e69c5fd4_2020-10-10_15      train     noon         w_2          1   \n",
       "2e6992134_2020-09-12_11      train  morning         w_2          1   \n",
       "\n",
       "                         isrushhour  ispayday city_pred  \\\n",
       "Ids                                                       \n",
       "2e69e9384_2020-10-06_13           0         1     Depok   \n",
       "2e6992c7c_2020-10-02_17           1         1    Bekasi   \n",
       "2e69ef474_2020-09-13_19           1         0     Depok   \n",
       "2e69c5fd4_2020-10-10_15           0         0     Bogor   \n",
       "2e6992134_2020-09-12_11           0         0    Bekasi   \n",
       "\n",
       "                                     street_pred roadtype_pred highway_pred  \\\n",
       "Ids                                                                           \n",
       "2e69e9384_2020-10-06_13            Sawangan Raya           7.0          NaN   \n",
       "2e6992c7c_2020-10-02_17              Hankam Raya           2.0          NaN   \n",
       "2e69ef474_2020-09-13_19         N6 Cinangka Raya           6.0          NaN   \n",
       "2e69c5fd4_2020-10-10_15  N9 Jalan Raya Pajajaran           6.0          NaN   \n",
       "2e6992134_2020-09-12_11            Narogong Raya           7.0          NaN   \n",
       "\n",
       "                        Labels  target  \n",
       "Ids                                     \n",
       "2e69e9384_2020-10-06_13   True       1  \n",
       "2e6992c7c_2020-10-02_17   True       1  \n",
       "2e69ef474_2020-09-13_19   True       1  \n",
       "2e69c5fd4_2020-10-10_15   True       1  \n",
       "2e6992134_2020-09-12_11   True       1  "
      ]
     },
     "execution_count": 13,
     "metadata": {},
     "output_type": "execute_result"
    }
   ],
   "source": [
    "data.head()"
   ]
  },
  {
   "cell_type": "markdown",
   "metadata": {},
   "source": [
    "## Metadata Definition"
   ]
  },
  {
   "cell_type": "code",
   "execution_count": 14,
   "metadata": {},
   "outputs": [
    {
     "name": "stdout",
     "output_type": "stream",
     "text": [
      "List of numerical predictors: 3 \n",
      "\n",
      " isweekend     uint8\n",
      "isrushhour    uint8\n",
      "ispayday      uint8\n",
      "dtype: object\n",
      "\n",
      "List of categorical predictors:  6 \n",
      "\n",
      " daytime          object\n",
      "weekofmonth      object\n",
      "city_pred        object\n",
      "street_pred      object\n",
      "roadtype_pred    object\n",
      "highway_pred     object\n",
      "dtype: object\n"
     ]
    }
   ],
   "source": [
    "col_target = 'target'\n",
    "\n",
    "cols_pred = list(data.columns[1:-2])\n",
    "\n",
    "cols_pred_num = list(data[cols_pred].select_dtypes(include=np.number).columns)\n",
    "cols_pred_cat = list(data[cols_pred].select_dtypes(include=np.object).columns)\n",
    "\n",
    "print('List of numerical predictors:', len(cols_pred_num),'\\n\\n', data[cols_pred_num].dtypes)\n",
    "print('\\nList of categorical predictors: ', len(cols_pred_cat), '\\n\\n', data[cols_pred_cat].dtypes)"
   ]
  },
  {
   "cell_type": "markdown",
   "metadata": {},
   "source": [
    "# Data Exploration"
   ]
  },
  {
   "cell_type": "markdown",
   "metadata": {},
   "source": [
    "Showing the statistical summary, could help us on preliminary investigation on dataset"
   ]
  },
  {
   "cell_type": "code",
   "execution_count": 15,
   "metadata": {
    "scrolled": true
   },
   "outputs": [
    {
     "data": {
      "text/html": [
       "<div>\n",
       "<style scoped>\n",
       "    .dataframe tbody tr th:only-of-type {\n",
       "        vertical-align: middle;\n",
       "    }\n",
       "\n",
       "    .dataframe tbody tr th {\n",
       "        vertical-align: top;\n",
       "    }\n",
       "\n",
       "    .dataframe thead th {\n",
       "        text-align: right;\n",
       "    }\n",
       "</style>\n",
       "<table border=\"1\" class=\"dataframe\">\n",
       "  <thead>\n",
       "    <tr style=\"text-align: right;\">\n",
       "      <th></th>\n",
       "      <th>count</th>\n",
       "      <th>unique</th>\n",
       "      <th>top</th>\n",
       "      <th>freq</th>\n",
       "      <th>mean</th>\n",
       "      <th>std</th>\n",
       "      <th>min</th>\n",
       "      <th>25%</th>\n",
       "      <th>50%</th>\n",
       "      <th>75%</th>\n",
       "      <th>max</th>\n",
       "    </tr>\n",
       "  </thead>\n",
       "  <tbody>\n",
       "    <tr>\n",
       "      <th>train_test</th>\n",
       "      <td>71336</td>\n",
       "      <td>1</td>\n",
       "      <td>train</td>\n",
       "      <td>71336</td>\n",
       "      <td>NaN</td>\n",
       "      <td>NaN</td>\n",
       "      <td>NaN</td>\n",
       "      <td>NaN</td>\n",
       "      <td>NaN</td>\n",
       "      <td>NaN</td>\n",
       "      <td>NaN</td>\n",
       "    </tr>\n",
       "    <tr>\n",
       "      <th>daytime</th>\n",
       "      <td>71336</td>\n",
       "      <td>4</td>\n",
       "      <td>evening</td>\n",
       "      <td>34797</td>\n",
       "      <td>NaN</td>\n",
       "      <td>NaN</td>\n",
       "      <td>NaN</td>\n",
       "      <td>NaN</td>\n",
       "      <td>NaN</td>\n",
       "      <td>NaN</td>\n",
       "      <td>NaN</td>\n",
       "    </tr>\n",
       "    <tr>\n",
       "      <th>weekofmonth</th>\n",
       "      <td>71336</td>\n",
       "      <td>5</td>\n",
       "      <td>w_1</td>\n",
       "      <td>20199</td>\n",
       "      <td>NaN</td>\n",
       "      <td>NaN</td>\n",
       "      <td>NaN</td>\n",
       "      <td>NaN</td>\n",
       "      <td>NaN</td>\n",
       "      <td>NaN</td>\n",
       "      <td>NaN</td>\n",
       "    </tr>\n",
       "    <tr>\n",
       "      <th>isweekend</th>\n",
       "      <td>71336</td>\n",
       "      <td>NaN</td>\n",
       "      <td>NaN</td>\n",
       "      <td>NaN</td>\n",
       "      <td>0.361823</td>\n",
       "      <td>0.480531</td>\n",
       "      <td>0</td>\n",
       "      <td>0</td>\n",
       "      <td>0</td>\n",
       "      <td>1</td>\n",
       "      <td>1</td>\n",
       "    </tr>\n",
       "    <tr>\n",
       "      <th>isrushhour</th>\n",
       "      <td>71336</td>\n",
       "      <td>NaN</td>\n",
       "      <td>NaN</td>\n",
       "      <td>NaN</td>\n",
       "      <td>0.584922</td>\n",
       "      <td>0.492739</td>\n",
       "      <td>0</td>\n",
       "      <td>0</td>\n",
       "      <td>1</td>\n",
       "      <td>1</td>\n",
       "      <td>1</td>\n",
       "    </tr>\n",
       "    <tr>\n",
       "      <th>ispayday</th>\n",
       "      <td>71336</td>\n",
       "      <td>NaN</td>\n",
       "      <td>NaN</td>\n",
       "      <td>NaN</td>\n",
       "      <td>0.515812</td>\n",
       "      <td>0.499753</td>\n",
       "      <td>0</td>\n",
       "      <td>0</td>\n",
       "      <td>1</td>\n",
       "      <td>1</td>\n",
       "      <td>1</td>\n",
       "    </tr>\n",
       "    <tr>\n",
       "      <th>city_pred</th>\n",
       "      <td>71336</td>\n",
       "      <td>20</td>\n",
       "      <td>Bandung</td>\n",
       "      <td>22046</td>\n",
       "      <td>NaN</td>\n",
       "      <td>NaN</td>\n",
       "      <td>NaN</td>\n",
       "      <td>NaN</td>\n",
       "      <td>NaN</td>\n",
       "      <td>NaN</td>\n",
       "      <td>NaN</td>\n",
       "    </tr>\n",
       "    <tr>\n",
       "      <th>street_pred</th>\n",
       "      <td>67529</td>\n",
       "      <td>1426</td>\n",
       "      <td>Sawangan Raya</td>\n",
       "      <td>2451</td>\n",
       "      <td>NaN</td>\n",
       "      <td>NaN</td>\n",
       "      <td>NaN</td>\n",
       "      <td>NaN</td>\n",
       "      <td>NaN</td>\n",
       "      <td>NaN</td>\n",
       "      <td>NaN</td>\n",
       "    </tr>\n",
       "    <tr>\n",
       "      <th>roadtype_pred</th>\n",
       "      <td>71336</td>\n",
       "      <td>10</td>\n",
       "      <td>2.0</td>\n",
       "      <td>25552</td>\n",
       "      <td>NaN</td>\n",
       "      <td>NaN</td>\n",
       "      <td>NaN</td>\n",
       "      <td>NaN</td>\n",
       "      <td>NaN</td>\n",
       "      <td>NaN</td>\n",
       "      <td>NaN</td>\n",
       "    </tr>\n",
       "    <tr>\n",
       "      <th>highway_pred</th>\n",
       "      <td>1404</td>\n",
       "      <td>2</td>\n",
       "      <td>t</td>\n",
       "      <td>801</td>\n",
       "      <td>NaN</td>\n",
       "      <td>NaN</td>\n",
       "      <td>NaN</td>\n",
       "      <td>NaN</td>\n",
       "      <td>NaN</td>\n",
       "      <td>NaN</td>\n",
       "      <td>NaN</td>\n",
       "    </tr>\n",
       "    <tr>\n",
       "      <th>Labels</th>\n",
       "      <td>71336</td>\n",
       "      <td>2</td>\n",
       "      <td>True</td>\n",
       "      <td>47183</td>\n",
       "      <td>NaN</td>\n",
       "      <td>NaN</td>\n",
       "      <td>NaN</td>\n",
       "      <td>NaN</td>\n",
       "      <td>NaN</td>\n",
       "      <td>NaN</td>\n",
       "      <td>NaN</td>\n",
       "    </tr>\n",
       "    <tr>\n",
       "      <th>target</th>\n",
       "      <td>71336</td>\n",
       "      <td>NaN</td>\n",
       "      <td>NaN</td>\n",
       "      <td>NaN</td>\n",
       "      <td>0.661419</td>\n",
       "      <td>0.47323</td>\n",
       "      <td>0</td>\n",
       "      <td>0</td>\n",
       "      <td>1</td>\n",
       "      <td>1</td>\n",
       "      <td>1</td>\n",
       "    </tr>\n",
       "  </tbody>\n",
       "</table>\n",
       "</div>"
      ],
      "text/plain": [
       "               count unique            top   freq      mean       std  min  \\\n",
       "train_test     71336      1          train  71336       NaN       NaN  NaN   \n",
       "daytime        71336      4        evening  34797       NaN       NaN  NaN   \n",
       "weekofmonth    71336      5            w_1  20199       NaN       NaN  NaN   \n",
       "isweekend      71336    NaN            NaN    NaN  0.361823  0.480531    0   \n",
       "isrushhour     71336    NaN            NaN    NaN  0.584922  0.492739    0   \n",
       "ispayday       71336    NaN            NaN    NaN  0.515812  0.499753    0   \n",
       "city_pred      71336     20        Bandung  22046       NaN       NaN  NaN   \n",
       "street_pred    67529   1426  Sawangan Raya   2451       NaN       NaN  NaN   \n",
       "roadtype_pred  71336     10            2.0  25552       NaN       NaN  NaN   \n",
       "highway_pred    1404      2              t    801       NaN       NaN  NaN   \n",
       "Labels         71336      2           True  47183       NaN       NaN  NaN   \n",
       "target         71336    NaN            NaN    NaN  0.661419   0.47323    0   \n",
       "\n",
       "               25%  50%  75%  max  \n",
       "train_test     NaN  NaN  NaN  NaN  \n",
       "daytime        NaN  NaN  NaN  NaN  \n",
       "weekofmonth    NaN  NaN  NaN  NaN  \n",
       "isweekend        0    0    1    1  \n",
       "isrushhour       0    1    1    1  \n",
       "ispayday         0    1    1    1  \n",
       "city_pred      NaN  NaN  NaN  NaN  \n",
       "street_pred    NaN  NaN  NaN  NaN  \n",
       "roadtype_pred  NaN  NaN  NaN  NaN  \n",
       "highway_pred   NaN  NaN  NaN  NaN  \n",
       "Labels         NaN  NaN  NaN  NaN  \n",
       "target           0    1    1    1  "
      ]
     },
     "execution_count": 15,
     "metadata": {},
     "output_type": "execute_result"
    }
   ],
   "source": [
    "data[mask_dev].describe(include='all').T"
   ]
  },
  {
   "cell_type": "code",
   "execution_count": 16,
   "metadata": {},
   "outputs": [
    {
     "data": {
      "text/html": [
       "<div>\n",
       "<style scoped>\n",
       "    .dataframe tbody tr th:only-of-type {\n",
       "        vertical-align: middle;\n",
       "    }\n",
       "\n",
       "    .dataframe tbody tr th {\n",
       "        vertical-align: top;\n",
       "    }\n",
       "\n",
       "    .dataframe thead th {\n",
       "        text-align: right;\n",
       "    }\n",
       "</style>\n",
       "<table border=\"1\" class=\"dataframe\">\n",
       "  <thead>\n",
       "    <tr style=\"text-align: right;\">\n",
       "      <th></th>\n",
       "      <th>count</th>\n",
       "      <th>unique</th>\n",
       "      <th>top</th>\n",
       "      <th>freq</th>\n",
       "      <th>mean</th>\n",
       "      <th>std</th>\n",
       "      <th>min</th>\n",
       "      <th>25%</th>\n",
       "      <th>50%</th>\n",
       "      <th>75%</th>\n",
       "      <th>max</th>\n",
       "    </tr>\n",
       "  </thead>\n",
       "  <tbody>\n",
       "    <tr>\n",
       "      <th>train_test</th>\n",
       "      <td>13841</td>\n",
       "      <td>1</td>\n",
       "      <td>test</td>\n",
       "      <td>13841</td>\n",
       "      <td>NaN</td>\n",
       "      <td>NaN</td>\n",
       "      <td>NaN</td>\n",
       "      <td>NaN</td>\n",
       "      <td>NaN</td>\n",
       "      <td>NaN</td>\n",
       "      <td>NaN</td>\n",
       "    </tr>\n",
       "    <tr>\n",
       "      <th>daytime</th>\n",
       "      <td>13841</td>\n",
       "      <td>4</td>\n",
       "      <td>evening</td>\n",
       "      <td>6492</td>\n",
       "      <td>NaN</td>\n",
       "      <td>NaN</td>\n",
       "      <td>NaN</td>\n",
       "      <td>NaN</td>\n",
       "      <td>NaN</td>\n",
       "      <td>NaN</td>\n",
       "      <td>NaN</td>\n",
       "    </tr>\n",
       "    <tr>\n",
       "      <th>weekofmonth</th>\n",
       "      <td>13841</td>\n",
       "      <td>2</td>\n",
       "      <td>w_4</td>\n",
       "      <td>11986</td>\n",
       "      <td>NaN</td>\n",
       "      <td>NaN</td>\n",
       "      <td>NaN</td>\n",
       "      <td>NaN</td>\n",
       "      <td>NaN</td>\n",
       "      <td>NaN</td>\n",
       "      <td>NaN</td>\n",
       "    </tr>\n",
       "    <tr>\n",
       "      <th>isweekend</th>\n",
       "      <td>13841</td>\n",
       "      <td>NaN</td>\n",
       "      <td>NaN</td>\n",
       "      <td>NaN</td>\n",
       "      <td>0.349108</td>\n",
       "      <td>0.476705</td>\n",
       "      <td>0</td>\n",
       "      <td>0</td>\n",
       "      <td>0</td>\n",
       "      <td>1</td>\n",
       "      <td>1</td>\n",
       "    </tr>\n",
       "    <tr>\n",
       "      <th>isrushhour</th>\n",
       "      <td>13841</td>\n",
       "      <td>NaN</td>\n",
       "      <td>NaN</td>\n",
       "      <td>NaN</td>\n",
       "      <td>0.519471</td>\n",
       "      <td>0.499639</td>\n",
       "      <td>0</td>\n",
       "      <td>0</td>\n",
       "      <td>1</td>\n",
       "      <td>1</td>\n",
       "      <td>1</td>\n",
       "    </tr>\n",
       "    <tr>\n",
       "      <th>ispayday</th>\n",
       "      <td>13841</td>\n",
       "      <td>NaN</td>\n",
       "      <td>NaN</td>\n",
       "      <td>NaN</td>\n",
       "      <td>0.893433</td>\n",
       "      <td>0.308574</td>\n",
       "      <td>0</td>\n",
       "      <td>1</td>\n",
       "      <td>1</td>\n",
       "      <td>1</td>\n",
       "      <td>1</td>\n",
       "    </tr>\n",
       "    <tr>\n",
       "      <th>city_pred</th>\n",
       "      <td>13841</td>\n",
       "      <td>20</td>\n",
       "      <td>Bekasi</td>\n",
       "      <td>4217</td>\n",
       "      <td>NaN</td>\n",
       "      <td>NaN</td>\n",
       "      <td>NaN</td>\n",
       "      <td>NaN</td>\n",
       "      <td>NaN</td>\n",
       "      <td>NaN</td>\n",
       "      <td>NaN</td>\n",
       "    </tr>\n",
       "    <tr>\n",
       "      <th>street_pred</th>\n",
       "      <td>13106</td>\n",
       "      <td>619</td>\n",
       "      <td>Cibarusah Raya</td>\n",
       "      <td>597</td>\n",
       "      <td>NaN</td>\n",
       "      <td>NaN</td>\n",
       "      <td>NaN</td>\n",
       "      <td>NaN</td>\n",
       "      <td>NaN</td>\n",
       "      <td>NaN</td>\n",
       "      <td>NaN</td>\n",
       "    </tr>\n",
       "    <tr>\n",
       "      <th>roadtype_pred</th>\n",
       "      <td>13841</td>\n",
       "      <td>9</td>\n",
       "      <td>2.0</td>\n",
       "      <td>5546</td>\n",
       "      <td>NaN</td>\n",
       "      <td>NaN</td>\n",
       "      <td>NaN</td>\n",
       "      <td>NaN</td>\n",
       "      <td>NaN</td>\n",
       "      <td>NaN</td>\n",
       "      <td>NaN</td>\n",
       "    </tr>\n",
       "    <tr>\n",
       "      <th>highway_pred</th>\n",
       "      <td>500</td>\n",
       "      <td>2</td>\n",
       "      <td>f</td>\n",
       "      <td>265</td>\n",
       "      <td>NaN</td>\n",
       "      <td>NaN</td>\n",
       "      <td>NaN</td>\n",
       "      <td>NaN</td>\n",
       "      <td>NaN</td>\n",
       "      <td>NaN</td>\n",
       "      <td>NaN</td>\n",
       "    </tr>\n",
       "    <tr>\n",
       "      <th>Labels</th>\n",
       "      <td>0</td>\n",
       "      <td>0</td>\n",
       "      <td>NaN</td>\n",
       "      <td>NaN</td>\n",
       "      <td>NaN</td>\n",
       "      <td>NaN</td>\n",
       "      <td>NaN</td>\n",
       "      <td>NaN</td>\n",
       "      <td>NaN</td>\n",
       "      <td>NaN</td>\n",
       "      <td>NaN</td>\n",
       "    </tr>\n",
       "    <tr>\n",
       "      <th>target</th>\n",
       "      <td>13841</td>\n",
       "      <td>NaN</td>\n",
       "      <td>NaN</td>\n",
       "      <td>NaN</td>\n",
       "      <td>-9.22337e+18</td>\n",
       "      <td>0</td>\n",
       "      <td>-9.22337e+18</td>\n",
       "      <td>-9.22337e+18</td>\n",
       "      <td>-9.22337e+18</td>\n",
       "      <td>-9.22337e+18</td>\n",
       "      <td>-9.22337e+18</td>\n",
       "    </tr>\n",
       "  </tbody>\n",
       "</table>\n",
       "</div>"
      ],
      "text/plain": [
       "               count unique             top   freq         mean       std  \\\n",
       "train_test     13841      1            test  13841          NaN       NaN   \n",
       "daytime        13841      4         evening   6492          NaN       NaN   \n",
       "weekofmonth    13841      2             w_4  11986          NaN       NaN   \n",
       "isweekend      13841    NaN             NaN    NaN     0.349108  0.476705   \n",
       "isrushhour     13841    NaN             NaN    NaN     0.519471  0.499639   \n",
       "ispayday       13841    NaN             NaN    NaN     0.893433  0.308574   \n",
       "city_pred      13841     20          Bekasi   4217          NaN       NaN   \n",
       "street_pred    13106    619  Cibarusah Raya    597          NaN       NaN   \n",
       "roadtype_pred  13841      9             2.0   5546          NaN       NaN   \n",
       "highway_pred     500      2               f    265          NaN       NaN   \n",
       "Labels             0      0             NaN    NaN          NaN       NaN   \n",
       "target         13841    NaN             NaN    NaN -9.22337e+18         0   \n",
       "\n",
       "                       min          25%          50%          75%          max  \n",
       "train_test             NaN          NaN          NaN          NaN          NaN  \n",
       "daytime                NaN          NaN          NaN          NaN          NaN  \n",
       "weekofmonth            NaN          NaN          NaN          NaN          NaN  \n",
       "isweekend                0            0            0            1            1  \n",
       "isrushhour               0            0            1            1            1  \n",
       "ispayday                 0            1            1            1            1  \n",
       "city_pred              NaN          NaN          NaN          NaN          NaN  \n",
       "street_pred            NaN          NaN          NaN          NaN          NaN  \n",
       "roadtype_pred          NaN          NaN          NaN          NaN          NaN  \n",
       "highway_pred           NaN          NaN          NaN          NaN          NaN  \n",
       "Labels                 NaN          NaN          NaN          NaN          NaN  \n",
       "target        -9.22337e+18 -9.22337e+18 -9.22337e+18 -9.22337e+18 -9.22337e+18  "
      ]
     },
     "execution_count": 16,
     "metadata": {},
     "output_type": "execute_result"
    }
   ],
   "source": [
    "data[mask_submit].describe(include='all').T"
   ]
  },
  {
   "cell_type": "markdown",
   "metadata": {},
   "source": [
    "## Missing Value Check"
   ]
  },
  {
   "cell_type": "code",
   "execution_count": 17,
   "metadata": {},
   "outputs": [
    {
     "name": "stdout",
     "output_type": "stream",
     "text": [
      "There are 2 columns with missing value\n"
     ]
    }
   ],
   "source": [
    "# Investigate columns with null values\n",
    "missingCol = data[mask_dev].isnull().sum()\n",
    "print(\"There are\", len(missingCol[missingCol != 0]),\"columns with missing value\")"
   ]
  },
  {
   "cell_type": "code",
   "execution_count": 18,
   "metadata": {
    "scrolled": true
   },
   "outputs": [],
   "source": [
    "# Investigate null rate of contained null columns\n",
    "missingRate = []\n",
    "try:\n",
    "    for col in cols_pred:\n",
    "        if data[mask_dev][col].isnull().any():\n",
    "            missingRate.append({'Predictor' : col,\n",
    "                       'Missing rate' : data[mask_dev][col].isnull().sum() / data[mask_dev].shape[0]})\n",
    "    pd.DataFrame(missingRate).set_index('Predictor').sort_values('Missing rate',ascending=False)\n",
    "except: print('no missing predictor')"
   ]
  },
  {
   "cell_type": "markdown",
   "metadata": {},
   "source": [
    "## Outlier Check (IQR based)"
   ]
  },
  {
   "cell_type": "code",
   "execution_count": 19,
   "metadata": {
    "scrolled": true
   },
   "outputs": [],
   "source": [
    "from ia_pkg.function import cnt_outliers, replace_with_thresholds\n",
    "\n",
    "# Check number of 1.5 IQR based outlier\n",
    "try:\n",
    "    cnt_outliers(data[mask_dev],cols_pred_num,plot=True)\n",
    "except:\n",
    "    print('no outlier detected')"
   ]
  },
  {
   "cell_type": "markdown",
   "metadata": {},
   "source": [
    "## Predictor Distribution to Target"
   ]
  },
  {
   "cell_type": "markdown",
   "metadata": {},
   "source": [
    "**Categorical predictor**"
   ]
  },
  {
   "cell_type": "code",
   "execution_count": 20,
   "metadata": {},
   "outputs": [
    {
     "data": {
      "text/markdown": [
       "***"
      ],
      "text/plain": [
       "<IPython.core.display.Markdown object>"
      ]
     },
     "metadata": {},
     "output_type": "display_data"
    },
    {
     "data": {
      "text/markdown": [
       "### daytime"
      ],
      "text/plain": [
       "<IPython.core.display.Markdown object>"
      ]
     },
     "metadata": {},
     "output_type": "display_data"
    },
    {
     "data": {
      "image/png": "[encoded data removed]",
      "text/plain": [
       "<Figure size 720x360 with 1 Axes>"
      ]
     },
     "metadata": {
      "needs_background": "light"
     },
     "output_type": "display_data"
    },
    {
     "data": {
      "text/markdown": [
       "***"
      ],
      "text/plain": [
       "<IPython.core.display.Markdown object>"
      ]
     },
     "metadata": {},
     "output_type": "display_data"
    },
    {
     "data": {
      "text/markdown": [
       "### weekofmonth"
      ],
      "text/plain": [
       "<IPython.core.display.Markdown object>"
      ]
     },
     "metadata": {},
     "output_type": "display_data"
    },
    {
     "data": {
      "image/png": "[encoded data removed]",
      "text/plain": [
       "<Figure size 720x360 with 1 Axes>"
      ]
     },
     "metadata": {
      "needs_background": "light"
     },
     "output_type": "display_data"
    },
    {
     "data": {
      "text/markdown": [
       "***"
      ],
      "text/plain": [
       "<IPython.core.display.Markdown object>"
      ]
     },
     "metadata": {},
     "output_type": "display_data"
    },
    {
     "data": {
      "text/markdown": [
       "### city_pred"
      ],
      "text/plain": [
       "<IPython.core.display.Markdown object>"
      ]
     },
     "metadata": {},
     "output_type": "display_data"
    },
    {
     "data": {
      "image/png": "[encoded data removed]",
      "text/plain": [
       "<Figure size 720x360 with 1 Axes>"
      ]
     },
     "metadata": {
      "needs_background": "light"
     },
     "output_type": "display_data"
    },
    {
     "data": {
      "text/markdown": [
       "***"
      ],
      "text/plain": [
       "<IPython.core.display.Markdown object>"
      ]
     },
     "metadata": {},
     "output_type": "display_data"
    },
    {
     "data": {
      "text/markdown": [
       "### street_pred"
      ],
      "text/plain": [
       "<IPython.core.display.Markdown object>"
      ]
     },
     "metadata": {},
     "output_type": "display_data"
    },
    {
     "data": {
      "image/png": "[encoded data removed]",
      "text/plain": [
       "<Figure size 720x360 with 1 Axes>"
      ]
     },
     "metadata": {
      "needs_background": "light"
     },
     "output_type": "display_data"
    },
    {
     "data": {
      "text/markdown": [
       "***"
      ],
      "text/plain": [
       "<IPython.core.display.Markdown object>"
      ]
     },
     "metadata": {},
     "output_type": "display_data"
    },
    {
     "data": {
      "text/markdown": [
       "### roadtype_pred"
      ],
      "text/plain": [
       "<IPython.core.display.Markdown object>"
      ]
     },
     "metadata": {},
     "output_type": "display_data"
    },
    {
     "data": {
      "image/png": "[encoded data removed]",
      "text/plain": [
       "<Figure size 720x360 with 1 Axes>"
      ]
     },
     "metadata": {
      "needs_background": "light"
     },
     "output_type": "display_data"
    },
    {
     "data": {
      "text/markdown": [
       "***"
      ],
      "text/plain": [
       "<IPython.core.display.Markdown object>"
      ]
     },
     "metadata": {},
     "output_type": "display_data"
    },
    {
     "data": {
      "text/markdown": [
       "### highway_pred"
      ],
      "text/plain": [
       "<IPython.core.display.Markdown object>"
      ]
     },
     "metadata": {},
     "output_type": "display_data"
    },
    {
     "data": {
      "image/png": "[encoded data removed]",
      "text/plain": [
       "<Figure size 720x360 with 1 Axes>"
      ]
     },
     "metadata": {
      "needs_background": "light"
     },
     "output_type": "display_data"
    }
   ],
   "source": [
    "from ia_pkg.plots import stacked_plot, dist_plot\n",
    "stacked_plot(data[mask_dev],\n",
    "            cat_columns=cols_pred_cat,\n",
    "            col_target=col_target)"
   ]
  },
  {
   "cell_type": "markdown",
   "metadata": {},
   "source": [
    "**Numerical Predictor**"
   ]
  },
  {
   "cell_type": "code",
   "execution_count": 21,
   "metadata": {
    "scrolled": true
   },
   "outputs": [
    {
     "data": {
      "text/markdown": [
       "***"
      ],
      "text/plain": [
       "<IPython.core.display.Markdown object>"
      ]
     },
     "metadata": {},
     "output_type": "display_data"
    },
    {
     "data": {
      "text/markdown": [
       "### isweekend"
      ],
      "text/plain": [
       "<IPython.core.display.Markdown object>"
      ]
     },
     "metadata": {},
     "output_type": "display_data"
    },
    {
     "data": {
      "image/png": "[encoded data removed]",
      "text/plain": [
       "<Figure size 576x144 with 2 Axes>"
      ]
     },
     "metadata": {
      "needs_background": "light"
     },
     "output_type": "display_data"
    },
    {
     "data": {
      "text/markdown": [
       "***"
      ],
      "text/plain": [
       "<IPython.core.display.Markdown object>"
      ]
     },
     "metadata": {},
     "output_type": "display_data"
    },
    {
     "data": {
      "text/markdown": [
       "### isrushhour"
      ],
      "text/plain": [
       "<IPython.core.display.Markdown object>"
      ]
     },
     "metadata": {},
     "output_type": "display_data"
    },
    {
     "data": {
      "image/png": "[encoded data removed]",
      "text/plain": [
       "<Figure size 576x144 with 2 Axes>"
      ]
     },
     "metadata": {
      "needs_background": "light"
     },
     "output_type": "display_data"
    },
    {
     "data": {
      "text/markdown": [
       "***"
      ],
      "text/plain": [
       "<IPython.core.display.Markdown object>"
      ]
     },
     "metadata": {},
     "output_type": "display_data"
    },
    {
     "data": {
      "text/markdown": [
       "### ispayday"
      ],
      "text/plain": [
       "<IPython.core.display.Markdown object>"
      ]
     },
     "metadata": {},
     "output_type": "display_data"
    },
    {
     "data": {
      "image/png": "[encoded data removed]",
      "text/plain": [
       "<Figure size 576x144 with 2 Axes>"
      ]
     },
     "metadata": {
      "needs_background": "light"
     },
     "output_type": "display_data"
    }
   ],
   "source": [
    "dist_plot(data[mask_dev],\n",
    "            columns=cols_pred_num,\n",
    "            col_target=col_target)"
   ]
  },
  {
   "cell_type": "markdown",
   "metadata": {},
   "source": [
    "## Data Split"
   ]
  },
  {
   "cell_type": "markdown",
   "metadata": {},
   "source": [
    "- Split data into three parts (train,valid,test)\n",
    "- Adds a new column indicating to which part the observation belong\n",
    "- Split is done in random\n",
    "- Set the random seed so the results are replicable"
   ]
  },
  {
   "cell_type": "code",
   "execution_count": 22,
   "metadata": {},
   "outputs": [
    {
     "name": "stdout",
     "output_type": "stream",
     "text": [
      "train    57068\n",
      "valid     7135\n",
      "test      7133\n",
      "dtype: int64\n"
     ]
    }
   ],
   "source": [
    "from ia_pkg.function import data_split\n",
    "\n",
    "data['data_type'] = 'submit'\n",
    "split = data_split(data[mask_dev],\n",
    "                               sample_sizes=[0.8,0.1,0.1],\n",
    "                               sample_names=['train','test','valid'],\n",
    "                               seed=42)\n",
    "\n",
    "data.at[mask_dev, 'data_type'] = split"
   ]
  },
  {
   "cell_type": "code",
   "execution_count": 23,
   "metadata": {},
   "outputs": [],
   "source": [
    "#masked the sample name\n",
    "train_mask = (data['data_type'] == 'train')\n",
    "valid_mask = (data['data_type'] == 'valid')\n",
    "test_mask = (data['data_type'] == 'test')"
   ]
  },
  {
   "cell_type": "code",
   "execution_count": 24,
   "metadata": {},
   "outputs": [
    {
     "data": {
      "text/plain": [
       "train     57068\n",
       "submit    13841\n",
       "valid      7135\n",
       "test       7133\n",
       "Name: data_type, dtype: int64"
      ]
     },
     "execution_count": 24,
     "metadata": {},
     "output_type": "execute_result"
    }
   ],
   "source": [
    "data['data_type'].value_counts()"
   ]
  },
  {
   "cell_type": "code",
   "execution_count": 25,
   "metadata": {},
   "outputs": [
    {
     "data": {
      "text/html": [
       "<div>\n",
       "<style scoped>\n",
       "    .dataframe tbody tr th:only-of-type {\n",
       "        vertical-align: middle;\n",
       "    }\n",
       "\n",
       "    .dataframe tbody tr th {\n",
       "        vertical-align: top;\n",
       "    }\n",
       "\n",
       "    .dataframe thead th {\n",
       "        text-align: right;\n",
       "    }\n",
       "</style>\n",
       "<table border=\"1\" class=\"dataframe\">\n",
       "  <thead>\n",
       "    <tr style=\"text-align: right;\">\n",
       "      <th></th>\n",
       "      <th>target</th>\n",
       "      <th>rows</th>\n",
       "      <th>target rate</th>\n",
       "    </tr>\n",
       "    <tr>\n",
       "      <th>data_type</th>\n",
       "      <th></th>\n",
       "      <th></th>\n",
       "      <th></th>\n",
       "    </tr>\n",
       "  </thead>\n",
       "  <tbody>\n",
       "    <tr>\n",
       "      <th>test</th>\n",
       "      <td>4606</td>\n",
       "      <td>7133</td>\n",
       "      <td>0.645731</td>\n",
       "    </tr>\n",
       "    <tr>\n",
       "      <th>train</th>\n",
       "      <td>37812</td>\n",
       "      <td>57068</td>\n",
       "      <td>0.662578</td>\n",
       "    </tr>\n",
       "    <tr>\n",
       "      <th>valid</th>\n",
       "      <td>4765</td>\n",
       "      <td>7135</td>\n",
       "      <td>0.667835</td>\n",
       "    </tr>\n",
       "  </tbody>\n",
       "</table>\n",
       "</div>"
      ],
      "text/plain": [
       "           target   rows  target rate\n",
       "data_type                            \n",
       "test         4606   7133     0.645731\n",
       "train       37812  57068     0.662578\n",
       "valid        4765   7135     0.667835"
      ]
     },
     "metadata": {},
     "output_type": "display_data"
    }
   ],
   "source": [
    "data_summary = data[mask_dev].groupby(['data_type']).aggregate({col_target:['sum','count']})\n",
    "data_summary.columns = [col_target, 'rows']\n",
    "data_summary[col_target+' rate'] = data_summary[col_target] / data_summary['rows']\n",
    "\n",
    "display(data_summary)"
   ]
  },
  {
   "cell_type": "markdown",
   "metadata": {},
   "source": [
    "## Data Transformation"
   ]
  },
  {
   "cell_type": "markdown",
   "metadata": {},
   "source": [
    "### Categorical - Woe Encoder"
   ]
  },
  {
   "cell_type": "markdown",
   "metadata": {},
   "source": [
    "WoE method chose to transform the string-type categorical predictor to be in numeric form, WoE estimated the weight of each predictor's unique value for their ability to separate the target(in this case Default/not default).\n",
    "\n",
    "WoE is also flexible with the null value as we can cluster it into 'special segment'. So the imputation would not be needed in this case."
   ]
  },
  {
   "cell_type": "code",
   "execution_count": 26,
   "metadata": {},
   "outputs": [],
   "source": [
    "import category_encoders.woe as ce\n",
    "# from ia_pkg.function import woe_transform\n",
    "\n",
    "# #fit and transform WoE on categorical predictor\n",
    "woe = ce.WOEEncoder(drop_invariant=True)\n",
    "data_woe = woe.fit(data[train_mask][cols_pred_cat],data[train_mask][col_target]).transform(data[cols_pred_cat])\n",
    "\n",
    "# data_woe = woe_transform(data,\n",
    "#                          mask=train_mask,\n",
    "#                          cat_columns=cols_pred_cat,\n",
    "#                          col_target=col_target)"
   ]
  },
  {
   "cell_type": "code",
   "execution_count": 27,
   "metadata": {},
   "outputs": [],
   "source": [
    "#Stored the WoE output on cols_woe\n",
    "data_woe.columns = [i + '_woe' for i in data_woe.columns]\n",
    "cols_woe = list(data_woe.columns)\n",
    "\n",
    "data[cols_woe] = data_woe"
   ]
  },
  {
   "cell_type": "code",
   "execution_count": 28,
   "metadata": {},
   "outputs": [
    {
     "data": {
      "text/html": [
       "<div>\n",
       "<style scoped>\n",
       "    .dataframe tbody tr th:only-of-type {\n",
       "        vertical-align: middle;\n",
       "    }\n",
       "\n",
       "    .dataframe tbody tr th {\n",
       "        vertical-align: top;\n",
       "    }\n",
       "\n",
       "    .dataframe thead tr th {\n",
       "        text-align: left;\n",
       "    }\n",
       "\n",
       "    .dataframe thead tr:last-of-type th {\n",
       "        text-align: right;\n",
       "    }\n",
       "</style>\n",
       "<table border=\"1\" class=\"dataframe\">\n",
       "  <thead>\n",
       "    <tr>\n",
       "      <th></th>\n",
       "      <th></th>\n",
       "      <th>roadtype_pred_woe</th>\n",
       "      <th colspan=\"2\" halign=\"left\">target</th>\n",
       "    </tr>\n",
       "    <tr>\n",
       "      <th></th>\n",
       "      <th></th>\n",
       "      <th>count</th>\n",
       "      <th>sum</th>\n",
       "      <th>mean</th>\n",
       "    </tr>\n",
       "    <tr>\n",
       "      <th>roadtype_pred</th>\n",
       "      <th>roadtype_pred_woe</th>\n",
       "      <th></th>\n",
       "      <th></th>\n",
       "      <th></th>\n",
       "    </tr>\n",
       "  </thead>\n",
       "  <tbody>\n",
       "    <tr>\n",
       "      <th>1.0</th>\n",
       "      <th>-0.296075</th>\n",
       "      <td>5573</td>\n",
       "      <td>3293</td>\n",
       "      <td>0.590885</td>\n",
       "    </tr>\n",
       "    <tr>\n",
       "      <th>17.0</th>\n",
       "      <th>-0.310110</th>\n",
       "      <td>76</td>\n",
       "      <td>48</td>\n",
       "      <td>0.631579</td>\n",
       "    </tr>\n",
       "    <tr>\n",
       "      <th>2.0</th>\n",
       "      <th>-0.097626</th>\n",
       "      <td>25552</td>\n",
       "      <td>16351</td>\n",
       "      <td>0.639911</td>\n",
       "    </tr>\n",
       "    <tr>\n",
       "      <th>20.0</th>\n",
       "      <th>-0.702152</th>\n",
       "      <td>181</td>\n",
       "      <td>86</td>\n",
       "      <td>0.475138</td>\n",
       "    </tr>\n",
       "    <tr>\n",
       "      <th>22.0</th>\n",
       "      <th>0.739826</th>\n",
       "      <td>378</td>\n",
       "      <td>302</td>\n",
       "      <td>0.798942</td>\n",
       "    </tr>\n",
       "    <tr>\n",
       "      <th>4.0</th>\n",
       "      <th>-0.290290</th>\n",
       "      <td>2561</td>\n",
       "      <td>1530</td>\n",
       "      <td>0.597423</td>\n",
       "    </tr>\n",
       "    <tr>\n",
       "      <th>6.0</th>\n",
       "      <th>0.205961</th>\n",
       "      <td>12233</td>\n",
       "      <td>8652</td>\n",
       "      <td>0.707267</td>\n",
       "    </tr>\n",
       "    <tr>\n",
       "      <th>7.0</th>\n",
       "      <th>0.142642</th>\n",
       "      <td>23360</td>\n",
       "      <td>16153</td>\n",
       "      <td>0.691481</td>\n",
       "    </tr>\n",
       "    <tr>\n",
       "      <th>8.0</th>\n",
       "      <th>0.113705</th>\n",
       "      <td>18</td>\n",
       "      <td>12</td>\n",
       "      <td>0.666667</td>\n",
       "    </tr>\n",
       "    <tr>\n",
       "      <th>nan</th>\n",
       "      <th>-0.518923</th>\n",
       "      <td>1404</td>\n",
       "      <td>756</td>\n",
       "      <td>0.538462</td>\n",
       "    </tr>\n",
       "  </tbody>\n",
       "</table>\n",
       "</div>"
      ],
      "text/plain": [
       "                                roadtype_pred_woe target          \n",
       "                                            count    sum      mean\n",
       "roadtype_pred roadtype_pred_woe                                   \n",
       "1.0           -0.296075                      5573   3293  0.590885\n",
       "17.0          -0.310110                        76     48  0.631579\n",
       "2.0           -0.097626                     25552  16351  0.639911\n",
       "20.0          -0.702152                       181     86  0.475138\n",
       "22.0           0.739826                       378    302  0.798942\n",
       "4.0           -0.290290                      2561   1530  0.597423\n",
       "6.0            0.205961                     12233   8652  0.707267\n",
       "7.0            0.142642                     23360  16153  0.691481\n",
       "8.0            0.113705                        18     12  0.666667\n",
       "nan           -0.518923                      1404    756  0.538462"
      ]
     },
     "execution_count": 28,
     "metadata": {},
     "output_type": "execute_result"
    }
   ],
   "source": [
    "woe_change = []\n",
    "#Listed the tranformation result on each unique value on categorical predictor\n",
    "for col,col_woe in zip(cols_pred_cat,cols_woe):\n",
    "    woe_change.append(data[mask_dev][[col,col_woe,col_target]].fillna('Null').groupby([col,col_woe]).agg(\n",
    "        {col_woe: ['count'],\n",
    "         col_target : ['sum','mean']}))\n",
    "\n",
    "for i in range(len(woe_change)):\n",
    "    woe_change[i]\n",
    "woe_change[0].columns = [('branch_code_woe count'),\n",
    "            (   'default_flag count'),\n",
    "            (   'default_flag rate')]\n",
    "pd.DataFrame(woe_change[4])"
   ]
  },
  {
   "cell_type": "markdown",
   "metadata": {},
   "source": [
    "### Numerical - Missing Imputation"
   ]
  },
  {
   "cell_type": "markdown",
   "metadata": {},
   "source": [
    "Missing value imputation is done by filling the mean value to each predictor"
   ]
  },
  {
   "cell_type": "code",
   "execution_count": 29,
   "metadata": {},
   "outputs": [],
   "source": [
    "try:\n",
    "    cols_num_missing = data[mask_dev][cols_pred_num].columns[data[mask_dev][cols_pred_num].isnull().any()].tolist()\n",
    "#filling the missing value with mean\n",
    "    for c in cols_num_missing:\n",
    "        mean = data[mask_dev][c].mean()\n",
    "        data[mask_dev][c+'_imp'] = data[mask_dev][c].fillna(mean,axis=0)\n",
    "except:\n",
    "    print('no operation needed')"
   ]
  },
  {
   "cell_type": "markdown",
   "metadata": {},
   "source": [
    "### Numerical - Standardization"
   ]
  },
  {
   "cell_type": "markdown",
   "metadata": {},
   "source": [
    "Scaling is done on numerical predictors to avoid the outlier/bigger magnitude value effects on the model. Standardization is one of the methods for scaling, it transformed all the values by centering its mean at 0 then scales the variance at 1. \n",
    "\n",
    "The pros of this method is it keeping the shape of the predictor's original distribution"
   ]
  },
  {
   "cell_type": "code",
   "execution_count": 30,
   "metadata": {},
   "outputs": [],
   "source": [
    "from sklearn.preprocessing import StandardScaler\n",
    "#listed the imputation and non-imputation predictor for scaling\n",
    "needed = False\n",
    "\n",
    "if needed:\n",
    "    cols_pred_num2 = list(map(lambda x: x+'_imp' if x in cols_num_missing else x, cols_pred_num))       \n",
    "\n",
    "    scaler = StandardScaler(with_mean=True, with_std=True)\n",
    "    scaler.fit(data[train_mask][cols_pred_num2])\n",
    "    # print(scaler.mean_)\n",
    "    data_sd = scaler.transform(data[train_mask|valid_mask|test_mask][cols_pred_num2])"
   ]
  },
  {
   "cell_type": "code",
   "execution_count": 31,
   "metadata": {
    "scrolled": false
   },
   "outputs": [],
   "source": [
    "# stored the standardscaler output on cols_sd\n",
    "if needed:\n",
    "    cols_sd = [i+'_sd' for i in cols_pred_num]\n",
    "\n",
    "    data[cols_sd] = data_sd\n",
    "    data[cols_sd].head()\n",
    "    \n",
    "else: \n",
    "    cols_sd=[]"
   ]
  },
  {
   "cell_type": "markdown",
   "metadata": {},
   "source": [
    "### Wrapped up all the transformed predictor"
   ]
  },
  {
   "cell_type": "code",
   "execution_count": 32,
   "metadata": {},
   "outputs": [
    {
     "data": {
      "text/plain": [
       "['daytime_woe',\n",
       " 'weekofmonth_woe',\n",
       " 'city_pred_woe',\n",
       " 'street_pred_woe',\n",
       " 'roadtype_pred_woe',\n",
       " 'highway_pred_woe']"
      ]
     },
     "metadata": {},
     "output_type": "display_data"
    }
   ],
   "source": [
    "cols_shortlist = []\n",
    "\n",
    "for c in cols_sd:\n",
    "    cols_shortlist.append(c)\n",
    "for c in cols_woe:\n",
    "    cols_shortlist.append(c)\n",
    "\n",
    "display(cols_shortlist)"
   ]
  },
  {
   "cell_type": "markdown",
   "metadata": {},
   "source": [
    "# Predictor Selection\n",
    "<br>\n",
    "\n",
    "Selecting the best predictor for the model, it applied to all transformed predictors. The selection metrics would be **gini, IV** (Predictive power), and **inter-predictor correlation**"
   ]
  },
  {
   "cell_type": "markdown",
   "metadata": {},
   "source": [
    "## Predictive power comparison\n",
    "\n",
    "Calculates IV and Gini of each predictor, sorts the predictors by their power. The power is calculated for each of the samples (train, validate, test)."
   ]
  },
  {
   "cell_type": "code",
   "execution_count": 33,
   "metadata": {},
   "outputs": [
    {
     "data": {
      "text/html": [
       "<div>\n",
       "<style scoped>\n",
       "    .dataframe tbody tr th:only-of-type {\n",
       "        vertical-align: middle;\n",
       "    }\n",
       "\n",
       "    .dataframe tbody tr th {\n",
       "        vertical-align: top;\n",
       "    }\n",
       "\n",
       "    .dataframe thead th {\n",
       "        text-align: right;\n",
       "    }\n",
       "</style>\n",
       "<table border=\"1\" class=\"dataframe\">\n",
       "  <thead>\n",
       "    <tr style=\"text-align: right;\">\n",
       "      <th></th>\n",
       "      <th>Gini Train</th>\n",
       "      <th>Gini Validate</th>\n",
       "      <th>Gini Test</th>\n",
       "      <th>IV Train</th>\n",
       "      <th>IV Validate</th>\n",
       "      <th>IV Test</th>\n",
       "    </tr>\n",
       "    <tr>\n",
       "      <th>Name</th>\n",
       "      <th></th>\n",
       "      <th></th>\n",
       "      <th></th>\n",
       "      <th></th>\n",
       "      <th></th>\n",
       "      <th></th>\n",
       "    </tr>\n",
       "  </thead>\n",
       "  <tbody>\n",
       "    <tr>\n",
       "      <th>street_pred_woe</th>\n",
       "      <td>0.370362</td>\n",
       "      <td>0.323625</td>\n",
       "      <td>0.324722</td>\n",
       "      <td>0.629452</td>\n",
       "      <td>0.676063</td>\n",
       "      <td>0.651510</td>\n",
       "    </tr>\n",
       "    <tr>\n",
       "      <th>daytime_woe</th>\n",
       "      <td>0.117880</td>\n",
       "      <td>0.127386</td>\n",
       "      <td>0.136243</td>\n",
       "      <td>0.072965</td>\n",
       "      <td>0.065387</td>\n",
       "      <td>0.090110</td>\n",
       "    </tr>\n",
       "    <tr>\n",
       "      <th>city_pred_woe</th>\n",
       "      <td>0.120695</td>\n",
       "      <td>0.106073</td>\n",
       "      <td>0.099249</td>\n",
       "      <td>0.050184</td>\n",
       "      <td>0.053329</td>\n",
       "      <td>0.044059</td>\n",
       "    </tr>\n",
       "    <tr>\n",
       "      <th>roadtype_pred_woe</th>\n",
       "      <td>0.101046</td>\n",
       "      <td>0.105736</td>\n",
       "      <td>0.093149</td>\n",
       "      <td>0.036937</td>\n",
       "      <td>0.042622</td>\n",
       "      <td>0.034005</td>\n",
       "    </tr>\n",
       "    <tr>\n",
       "      <th>weekofmonth_woe</th>\n",
       "      <td>0.044739</td>\n",
       "      <td>0.066529</td>\n",
       "      <td>0.044396</td>\n",
       "      <td>0.011284</td>\n",
       "      <td>0.019083</td>\n",
       "      <td>0.010311</td>\n",
       "    </tr>\n",
       "    <tr>\n",
       "      <th>highway_pred_woe</th>\n",
       "      <td>0.010741</td>\n",
       "      <td>0.013815</td>\n",
       "      <td>0.008766</td>\n",
       "      <td>0.006631</td>\n",
       "      <td>0.008729</td>\n",
       "      <td>0.003956</td>\n",
       "    </tr>\n",
       "  </tbody>\n",
       "</table>\n",
       "</div>"
      ],
      "text/plain": [
       "                   Gini Train  Gini Validate  Gini Test  IV Train  \\\n",
       "Name                                                                \n",
       "street_pred_woe      0.370362       0.323625   0.324722  0.629452   \n",
       "daytime_woe          0.117880       0.127386   0.136243  0.072965   \n",
       "city_pred_woe        0.120695       0.106073   0.099249  0.050184   \n",
       "roadtype_pred_woe    0.101046       0.105736   0.093149  0.036937   \n",
       "weekofmonth_woe      0.044739       0.066529   0.044396  0.011284   \n",
       "highway_pred_woe     0.010741       0.013815   0.008766  0.006631   \n",
       "\n",
       "                   IV Validate   IV Test  \n",
       "Name                                      \n",
       "street_pred_woe       0.676063  0.651510  \n",
       "daytime_woe           0.065387  0.090110  \n",
       "city_pred_woe         0.053329  0.044059  \n",
       "roadtype_pred_woe     0.042622  0.034005  \n",
       "weekofmonth_woe       0.019083  0.010311  \n",
       "highway_pred_woe      0.008729  0.003956  "
      ]
     },
     "metadata": {},
     "output_type": "display_data"
    }
   ],
   "source": [
    "from ia_pkg.metrics import iv,gini\n",
    "\n",
    "power_tab = []\n",
    "for j in range(0,len(cols_shortlist)):\n",
    "    power_tab.append({'Name':cols_shortlist[j]\n",
    "                    ,'Gini Train':gini(data.loc[train_mask,col_target],data.loc[train_mask,cols_shortlist[j]])                    \n",
    "                    ,'Gini Validate':gini(data.loc[valid_mask,col_target],data.loc[valid_mask,cols_shortlist[j]])\n",
    "                    ,'Gini Test':gini(data.loc[test_mask,col_target],data.loc[test_mask,cols_shortlist[j]])\n",
    "                    ,'IV Train':iv(data.loc[train_mask,col_target],data.loc[train_mask,cols_shortlist[j]])\n",
    "                    ,'IV Validate':iv(data.loc[valid_mask,col_target],data.loc[valid_mask,cols_shortlist[j]])\n",
    "                    ,'IV Test':iv(data.loc[test_mask,col_target],data.loc[test_mask,cols_shortlist[j]])     \n",
    "                     })\n",
    "power_out = pd.DataFrame.from_records(power_tab)\n",
    "power_out = power_out.set_index('Name').abs()\n",
    "power_out = power_out.sort_values('Gini Validate',ascending=False)\n",
    "\n",
    "pd.options.display.max_rows = 1000\n",
    "display(power_out)\n",
    "pd.options.display.max_rows = 30"
   ]
  },
  {
   "cell_type": "markdown",
   "metadata": {},
   "source": [
    "## Correlations"
   ]
  },
  {
   "cell_type": "markdown",
   "metadata": {},
   "source": [
    "Show correlation matrix of all predictor"
   ]
  },
  {
   "cell_type": "code",
   "execution_count": 34,
   "metadata": {},
   "outputs": [
    {
     "data": {
      "image/png": "[encoded data removed]",
      "text/plain": [
       "<Figure size 600x500 with 2 Axes>"
      ]
     },
     "metadata": {
      "needs_background": "light"
     },
     "output_type": "display_data"
    }
   ],
   "source": [
    "cormat = data[sorted(cols_shortlist)].corr()\n",
    "\n",
    "plt.rcParams.update({'font.size': 15})\n",
    "sns.set()\n",
    "%matplotlib inline\n",
    "%config InlineBackend.close_figures=True\n",
    "\n",
    "fig, ax = plt.subplots(figsize=(12,10), dpi=50)\n",
    "fig.suptitle('Correlations of Variables',fontsize=25)\n",
    "sns.heatmap(cormat, ax=ax, annot=True, fmt=\"0.1f\", linewidths=.5, annot_kws={\"size\":15},cmap=\"OrRd\")\n",
    "plt.tick_params(labelsize=15)\n",
    "plt.xticks(rotation=90)\n",
    "plt.yticks(rotation=0)\n",
    "\n",
    "plt.show()\n",
    "plt.clf();plt.close()"
   ]
  },
  {
   "cell_type": "code",
   "execution_count": 35,
   "metadata": {},
   "outputs": [
    {
     "data": {
      "text/html": [
       "<div>\n",
       "<style scoped>\n",
       "    .dataframe tbody tr th:only-of-type {\n",
       "        vertical-align: middle;\n",
       "    }\n",
       "\n",
       "    .dataframe tbody tr th {\n",
       "        vertical-align: top;\n",
       "    }\n",
       "\n",
       "    .dataframe thead th {\n",
       "        text-align: right;\n",
       "    }\n",
       "</style>\n",
       "<table border=\"1\" class=\"dataframe\">\n",
       "  <thead>\n",
       "    <tr style=\"text-align: right;\">\n",
       "      <th></th>\n",
       "      <th>predictor_1</th>\n",
       "      <th>predictor_2</th>\n",
       "      <th>corr</th>\n",
       "    </tr>\n",
       "  </thead>\n",
       "  <tbody>\n",
       "  </tbody>\n",
       "</table>\n",
       "</div>"
      ],
      "text/plain": [
       "Empty DataFrame\n",
       "Columns: [predictor_1, predictor_2, corr]\n",
       "Index: []"
      ]
     },
     "execution_count": 35,
     "metadata": {},
     "output_type": "execute_result"
    }
   ],
   "source": [
    "max_ok_correlation = 0.5\n",
    "\n",
    "# find highest pairwise correlation (correlation greater than .. in absolute value)\n",
    "hicors = []\n",
    "for i in range(0,len(cormat)):\n",
    "    for j in range(0,len(cormat)):\n",
    "        if ((cormat.iloc[i][j] > max_ok_correlation or cormat.iloc[i][j] < -max_ok_correlation) and i < j):\n",
    "            hicors.append((i,j,cormat.index[i],cormat.index[j],cormat.iloc[i][j],abs(cormat.iloc[i][j])))\n",
    "hicors.sort(key= lambda x: x[5], reverse=True)\n",
    "\n",
    "hicors2 = pd.DataFrame(list(zip(*list(zip(*hicors))[2:5])), columns = ['predictor_1', 'predictor_2', 'corr'])\n",
    "\n",
    "# print list of highest correlations\n",
    "hicors2"
   ]
  },
  {
   "cell_type": "markdown",
   "metadata": {},
   "source": [
    "Combining output set from these selection methods, we choosing the predictor which placed on top individual predictive power and eliminate which both ranked on bottom(low gini) and having inter-predictor correlation (>0.5)\n",
    "\n",
    "\n",
    "This new predictor set expected can prevent the low quality and mulitcollinearity issue that may occur on the model(e.g. Logistic Regression)"
   ]
  },
  {
   "cell_type": "markdown",
   "metadata": {},
   "source": [
    "# Modeling"
   ]
  },
  {
   "cell_type": "markdown",
   "metadata": {},
   "source": [
    "## XGBoost Session"
   ]
  },
  {
   "cell_type": "markdown",
   "metadata": {},
   "source": [
    "Needs xgboost library to be installed.\n",
    "\n",
    "First we train a gradient boosting model using a \"standard\" set of hyperparameters."
   ]
  },
  {
   "cell_type": "code",
   "execution_count": 36,
   "metadata": {},
   "outputs": [],
   "source": [
    "pred_xgb = cols_pred_num + [c + '_woe' for c in cols_pred_cat]"
   ]
  },
  {
   "cell_type": "markdown",
   "metadata": {},
   "source": [
    "### Train initial model"
   ]
  },
  {
   "cell_type": "code",
   "execution_count": 37,
   "metadata": {
    "scrolled": true
   },
   "outputs": [
    {
     "name": "stdout",
     "output_type": "stream",
     "text": [
      "[0]\ttrain-auc:0.675794\tvalid-auc:0.647776\n",
      "Multiple eval metrics have been passed: 'valid-auc' will be used for early stopping.\n",
      "\n",
      "Will train until valid-auc hasn't improved in 20 rounds.\n",
      "[1]\ttrain-auc:0.679641\tvalid-auc:0.655299\n",
      "[2]\ttrain-auc:0.683475\tvalid-auc:0.659725\n",
      "[3]\ttrain-auc:0.684851\tvalid-auc:0.659695\n",
      "[4]\ttrain-auc:0.685767\tvalid-auc:0.660672\n",
      "[5]\ttrain-auc:0.686346\tvalid-auc:0.660929\n",
      "[6]\ttrain-auc:0.686392\tvalid-auc:0.660887\n",
      "[7]\ttrain-auc:0.686461\tvalid-auc:0.662545\n",
      "[8]\ttrain-auc:0.687169\tvalid-auc:0.661801\n",
      "[9]\ttrain-auc:0.688321\tvalid-auc:0.662765\n",
      "[10]\ttrain-auc:0.688363\tvalid-auc:0.662854\n",
      "[11]\ttrain-auc:0.688948\tvalid-auc:0.663944\n",
      "[12]\ttrain-auc:0.689022\tvalid-auc:0.663908\n",
      "[13]\ttrain-auc:0.689239\tvalid-auc:0.66401\n",
      "[14]\ttrain-auc:0.689963\tvalid-auc:0.664608\n",
      "[15]\ttrain-auc:0.69055\tvalid-auc:0.665378\n",
      "[16]\ttrain-auc:0.690592\tvalid-auc:0.665463\n",
      "[17]\ttrain-auc:0.690603\tvalid-auc:0.665536\n",
      "[18]\ttrain-auc:0.69091\tvalid-auc:0.665686\n",
      "[19]\ttrain-auc:0.69118\tvalid-auc:0.665616\n",
      "[20]\ttrain-auc:0.691248\tvalid-auc:0.665586\n",
      "[21]\ttrain-auc:0.691742\tvalid-auc:0.66603\n",
      "[22]\ttrain-auc:0.691883\tvalid-auc:0.666311\n",
      "[23]\ttrain-auc:0.693226\tvalid-auc:0.666942\n",
      "[24]\ttrain-auc:0.693901\tvalid-auc:0.667198\n",
      "[25]\ttrain-auc:0.694305\tvalid-auc:0.667747\n",
      "[26]\ttrain-auc:0.694693\tvalid-auc:0.668068\n",
      "[27]\ttrain-auc:0.694681\tvalid-auc:0.66799\n",
      "[28]\ttrain-auc:0.694984\tvalid-auc:0.668104\n",
      "[29]\ttrain-auc:0.695287\tvalid-auc:0.668606\n",
      "[30]\ttrain-auc:0.695569\tvalid-auc:0.66896\n",
      "[31]\ttrain-auc:0.69571\tvalid-auc:0.668948\n",
      "[32]\ttrain-auc:0.695786\tvalid-auc:0.668929\n",
      "[33]\ttrain-auc:0.695897\tvalid-auc:0.669253\n",
      "[34]\ttrain-auc:0.696024\tvalid-auc:0.669307\n",
      "[35]\ttrain-auc:0.696878\tvalid-auc:0.669945\n",
      "[36]\ttrain-auc:0.696919\tvalid-auc:0.669925\n",
      "[37]\ttrain-auc:0.697747\tvalid-auc:0.670391\n",
      "[38]\ttrain-auc:0.697746\tvalid-auc:0.670418\n",
      "[39]\ttrain-auc:0.69798\tvalid-auc:0.670876\n",
      "[40]\ttrain-auc:0.697992\tvalid-auc:0.670881\n",
      "[41]\ttrain-auc:0.698535\tvalid-auc:0.671192\n",
      "[42]\ttrain-auc:0.698778\tvalid-auc:0.671309\n",
      "[43]\ttrain-auc:0.698898\tvalid-auc:0.671404\n",
      "[44]\ttrain-auc:0.69896\tvalid-auc:0.67159\n",
      "[45]\ttrain-auc:0.698989\tvalid-auc:0.671603\n",
      "[46]\ttrain-auc:0.699397\tvalid-auc:0.67201\n",
      "[47]\ttrain-auc:0.699547\tvalid-auc:0.672069\n",
      "[48]\ttrain-auc:0.699533\tvalid-auc:0.67212\n",
      "[49]\ttrain-auc:0.699555\tvalid-auc:0.672173\n",
      "[50]\ttrain-auc:0.699669\tvalid-auc:0.672405\n",
      "[51]\ttrain-auc:0.699795\tvalid-auc:0.672563\n",
      "[52]\ttrain-auc:0.700033\tvalid-auc:0.672745\n",
      "[53]\ttrain-auc:0.700062\tvalid-auc:0.672695\n",
      "[54]\ttrain-auc:0.700287\tvalid-auc:0.672882\n",
      "[55]\ttrain-auc:0.700582\tvalid-auc:0.673167\n",
      "[56]\ttrain-auc:0.700718\tvalid-auc:0.673385\n",
      "[57]\ttrain-auc:0.700722\tvalid-auc:0.67336\n",
      "[58]\ttrain-auc:0.700766\tvalid-auc:0.673404\n",
      "[59]\ttrain-auc:0.700794\tvalid-auc:0.673435\n",
      "[60]\ttrain-auc:0.701011\tvalid-auc:0.673733\n",
      "[61]\ttrain-auc:0.70102\tvalid-auc:0.673809\n",
      "[62]\ttrain-auc:0.701337\tvalid-auc:0.673913\n",
      "[63]\ttrain-auc:0.7014\tvalid-auc:0.673948\n",
      "[64]\ttrain-auc:0.701415\tvalid-auc:0.673998\n",
      "[65]\ttrain-auc:0.701423\tvalid-auc:0.673941\n",
      "[66]\ttrain-auc:0.701481\tvalid-auc:0.674013\n",
      "[67]\ttrain-auc:0.701518\tvalid-auc:0.674111\n",
      "[68]\ttrain-auc:0.701546\tvalid-auc:0.674212\n",
      "[69]\ttrain-auc:0.701827\tvalid-auc:0.674398\n",
      "[70]\ttrain-auc:0.70186\tvalid-auc:0.674366\n",
      "[71]\ttrain-auc:0.70187\tvalid-auc:0.674373\n",
      "[72]\ttrain-auc:0.701897\tvalid-auc:0.674402\n",
      "[73]\ttrain-auc:0.702003\tvalid-auc:0.674593\n",
      "[74]\ttrain-auc:0.70204\tvalid-auc:0.674612\n",
      "[75]\ttrain-auc:0.702247\tvalid-auc:0.674754\n",
      "[76]\ttrain-auc:0.702258\tvalid-auc:0.674797\n",
      "[77]\ttrain-auc:0.702261\tvalid-auc:0.674853\n",
      "[78]\ttrain-auc:0.702378\tvalid-auc:0.674943\n",
      "[79]\ttrain-auc:0.702387\tvalid-auc:0.674948\n",
      "[80]\ttrain-auc:0.702447\tvalid-auc:0.675054\n",
      "[81]\ttrain-auc:0.702457\tvalid-auc:0.67508\n",
      "[82]\ttrain-auc:0.702622\tvalid-auc:0.675174\n",
      "[83]\ttrain-auc:0.702634\tvalid-auc:0.675193\n",
      "[84]\ttrain-auc:0.702716\tvalid-auc:0.675227\n",
      "[85]\ttrain-auc:0.702719\tvalid-auc:0.675184\n",
      "[86]\ttrain-auc:0.702727\tvalid-auc:0.67511\n",
      "[87]\ttrain-auc:0.702729\tvalid-auc:0.675104\n",
      "[88]\ttrain-auc:0.702744\tvalid-auc:0.67512\n",
      "[89]\ttrain-auc:0.70284\tvalid-auc:0.675177\n",
      "[90]\ttrain-auc:0.702883\tvalid-auc:0.675218\n",
      "[91]\ttrain-auc:0.702856\tvalid-auc:0.675223\n",
      "[92]\ttrain-auc:0.702867\tvalid-auc:0.675256\n",
      "[93]\ttrain-auc:0.703051\tvalid-auc:0.675471\n",
      "[94]\ttrain-auc:0.703143\tvalid-auc:0.675639\n",
      "[95]\ttrain-auc:0.7032\tvalid-auc:0.675644\n",
      "[96]\ttrain-auc:0.703258\tvalid-auc:0.675835\n",
      "[97]\ttrain-auc:0.703295\tvalid-auc:0.675899\n",
      "[98]\ttrain-auc:0.70343\tvalid-auc:0.67606\n",
      "[99]\ttrain-auc:0.703487\tvalid-auc:0.675851\n",
      "[100]\ttrain-auc:0.70353\tvalid-auc:0.675862\n",
      "[101]\ttrain-auc:0.703562\tvalid-auc:0.676019\n",
      "[102]\ttrain-auc:0.703627\tvalid-auc:0.67614\n",
      "[103]\ttrain-auc:0.703749\tvalid-auc:0.676278\n",
      "[104]\ttrain-auc:0.70375\tvalid-auc:0.676308\n",
      "[105]\ttrain-auc:0.703816\tvalid-auc:0.676337\n",
      "[106]\ttrain-auc:0.703899\tvalid-auc:0.67645\n",
      "[107]\ttrain-auc:0.704008\tvalid-auc:0.676417\n",
      "[108]\ttrain-auc:0.704123\tvalid-auc:0.676484\n",
      "[109]\ttrain-auc:0.704172\tvalid-auc:0.676493\n",
      "[110]\ttrain-auc:0.704234\tvalid-auc:0.676698\n",
      "[111]\ttrain-auc:0.704343\tvalid-auc:0.67679\n",
      "[112]\ttrain-auc:0.704349\tvalid-auc:0.67674\n",
      "[113]\ttrain-auc:0.70436\tvalid-auc:0.676753\n",
      "[114]\ttrain-auc:0.704363\tvalid-auc:0.676745\n",
      "[115]\ttrain-auc:0.704366\tvalid-auc:0.676748\n",
      "[116]\ttrain-auc:0.704493\tvalid-auc:0.676857\n",
      "[117]\ttrain-auc:0.704537\tvalid-auc:0.676878\n",
      "[118]\ttrain-auc:0.704665\tvalid-auc:0.676935\n",
      "[119]\ttrain-auc:0.70467\tvalid-auc:0.676943\n",
      "[120]\ttrain-auc:0.704722\tvalid-auc:0.676855\n",
      "[121]\ttrain-auc:0.70481\tvalid-auc:0.676695\n",
      "[122]\ttrain-auc:0.705003\tvalid-auc:0.677017\n",
      "[123]\ttrain-auc:0.704999\tvalid-auc:0.67705\n",
      "[124]\ttrain-auc:0.705049\tvalid-auc:0.677109\n",
      "[125]\ttrain-auc:0.705052\tvalid-auc:0.677115\n",
      "[126]\ttrain-auc:0.705057\tvalid-auc:0.677112\n",
      "[127]\ttrain-auc:0.705069\tvalid-auc:0.677117\n",
      "[128]\ttrain-auc:0.705296\tvalid-auc:0.677265\n",
      "[129]\ttrain-auc:0.70541\tvalid-auc:0.677412\n",
      "[130]\ttrain-auc:0.705426\tvalid-auc:0.677417\n",
      "[131]\ttrain-auc:0.705453\tvalid-auc:0.677374\n",
      "[132]\ttrain-auc:0.705458\tvalid-auc:0.677387\n",
      "[133]\ttrain-auc:0.705467\tvalid-auc:0.67741\n",
      "[134]\ttrain-auc:0.705867\tvalid-auc:0.677436\n",
      "[135]\ttrain-auc:0.705895\tvalid-auc:0.677465\n",
      "[136]\ttrain-auc:0.705904\tvalid-auc:0.677473\n",
      "[137]\ttrain-auc:0.705898\tvalid-auc:0.677509\n",
      "[138]\ttrain-auc:0.705904\tvalid-auc:0.677513\n",
      "[139]\ttrain-auc:0.705889\tvalid-auc:0.677527\n",
      "[140]\ttrain-auc:0.705978\tvalid-auc:0.67744\n",
      "[141]\ttrain-auc:0.706244\tvalid-auc:0.677572\n",
      "[142]\ttrain-auc:0.706341\tvalid-auc:0.677556\n",
      "[143]\ttrain-auc:0.706376\tvalid-auc:0.677655\n",
      "[144]\ttrain-auc:0.706374\tvalid-auc:0.677713\n",
      "[145]\ttrain-auc:0.706495\tvalid-auc:0.677803\n",
      "[146]\ttrain-auc:0.706558\tvalid-auc:0.67792\n",
      "[147]\ttrain-auc:0.706611\tvalid-auc:0.678158\n",
      "[148]\ttrain-auc:0.706681\tvalid-auc:0.678307\n",
      "[149]\ttrain-auc:0.70676\tvalid-auc:0.678383\n",
      "[150]\ttrain-auc:0.706837\tvalid-auc:0.678411\n",
      "[151]\ttrain-auc:0.706845\tvalid-auc:0.67837\n",
      "[152]\ttrain-auc:0.706889\tvalid-auc:0.678442\n",
      "[153]\ttrain-auc:0.706897\tvalid-auc:0.678508\n",
      "[154]\ttrain-auc:0.706963\tvalid-auc:0.678427\n",
      "[155]\ttrain-auc:0.707047\tvalid-auc:0.678426\n",
      "[156]\ttrain-auc:0.707126\tvalid-auc:0.678613\n",
      "[157]\ttrain-auc:0.707148\tvalid-auc:0.678642\n",
      "[158]\ttrain-auc:0.707218\tvalid-auc:0.678736\n",
      "[159]\ttrain-auc:0.707227\tvalid-auc:0.678699\n",
      "[160]\ttrain-auc:0.707308\tvalid-auc:0.678874\n",
      "[161]\ttrain-auc:0.707311\tvalid-auc:0.678877\n",
      "[162]\ttrain-auc:0.707464\tvalid-auc:0.678917\n",
      "[163]\ttrain-auc:0.707471\tvalid-auc:0.679007\n",
      "[164]\ttrain-auc:0.707516\tvalid-auc:0.678937\n",
      "[165]\ttrain-auc:0.707602\tvalid-auc:0.679045\n",
      "[166]\ttrain-auc:0.707663\tvalid-auc:0.679085\n",
      "[167]\ttrain-auc:0.707685\tvalid-auc:0.679129\n",
      "[168]\ttrain-auc:0.70769\tvalid-auc:0.679136\n",
      "[169]\ttrain-auc:0.707731\tvalid-auc:0.67915\n",
      "[170]\ttrain-auc:0.707766\tvalid-auc:0.679111\n",
      "[171]\ttrain-auc:0.707797\tvalid-auc:0.679153\n",
      "[172]\ttrain-auc:0.707809\tvalid-auc:0.679168\n",
      "[173]\ttrain-auc:0.70782\tvalid-auc:0.679191\n",
      "[174]\ttrain-auc:0.707858\tvalid-auc:0.679258\n",
      "[175]\ttrain-auc:0.707964\tvalid-auc:0.67914\n",
      "[176]\ttrain-auc:0.708003\tvalid-auc:0.679176\n",
      "[177]\ttrain-auc:0.708002\tvalid-auc:0.679154\n",
      "[178]\ttrain-auc:0.70807\tvalid-auc:0.679163\n",
      "[179]\ttrain-auc:0.708164\tvalid-auc:0.679115\n",
      "[180]\ttrain-auc:0.708194\tvalid-auc:0.679106\n",
      "[181]\ttrain-auc:0.708207\tvalid-auc:0.679109\n",
      "[182]\ttrain-auc:0.708265\tvalid-auc:0.679203\n",
      "[183]\ttrain-auc:0.708266\tvalid-auc:0.6792\n",
      "[184]\ttrain-auc:0.708277\tvalid-auc:0.679222\n",
      "[185]\ttrain-auc:0.708515\tvalid-auc:0.679283\n",
      "[186]\ttrain-auc:0.708518\tvalid-auc:0.679274\n"
     ]
    },
    {
     "name": "stdout",
     "output_type": "stream",
     "text": [
      "[187]\ttrain-auc:0.708517\tvalid-auc:0.679272\n",
      "[188]\ttrain-auc:0.708571\tvalid-auc:0.679172\n",
      "[189]\ttrain-auc:0.7086\tvalid-auc:0.679261\n",
      "[190]\ttrain-auc:0.708606\tvalid-auc:0.679267\n",
      "[191]\ttrain-auc:0.708689\tvalid-auc:0.679346\n",
      "[192]\ttrain-auc:0.708748\tvalid-auc:0.679379\n",
      "[193]\ttrain-auc:0.708817\tvalid-auc:0.679475\n",
      "[194]\ttrain-auc:0.708866\tvalid-auc:0.679601\n",
      "[195]\ttrain-auc:0.708921\tvalid-auc:0.679578\n",
      "[196]\ttrain-auc:0.708996\tvalid-auc:0.679621\n",
      "[197]\ttrain-auc:0.709006\tvalid-auc:0.679646\n",
      "[198]\ttrain-auc:0.70909\tvalid-auc:0.67975\n",
      "[199]\ttrain-auc:0.70917\tvalid-auc:0.679826\n"
     ]
    }
   ],
   "source": [
    "from ia_pkg.metrics import gini\n",
    "import xgboost as xgb\n",
    "# pred_xgb.remove('delinquency_score')\n",
    "dt_xgb = data[pred_xgb]\n",
    "\n",
    "xgb_params = {'eta': 0.1,\n",
    "  'max_depth': 3,\n",
    "  'objective': 'binary:logistic',\n",
    "  'eval_metric': 'auc',\n",
    "  'min_child_weight': 30,\n",
    "  'subsample': 0.85}\n",
    "\n",
    "evals_result = {}\n",
    "\n",
    "ibooster= xgb.train(params= xgb_params,\n",
    "                        dtrain= xgb.DMatrix(dt_xgb[train_mask],data[train_mask][col_target]),\n",
    "                        num_boost_round= 200,\n",
    "                        early_stopping_rounds = 20,\n",
    "                        evals= ((xgb.DMatrix(dt_xgb[train_mask],data[train_mask][col_target]),'train'),\n",
    "                                 (xgb.DMatrix(dt_xgb[valid_mask],data[valid_mask][col_target]),'valid')\n",
    "                                ), \n",
    "                        evals_result= evals_result,)\n",
    "\n",
    "ixgb_scored= ibooster.predict(xgb.DMatrix(dt_xgb), ntree_limit=ibooster.best_ntree_limit)"
   ]
  },
  {
   "cell_type": "code",
   "execution_count": 38,
   "metadata": {},
   "outputs": [
    {
     "name": "stdout",
     "output_type": "stream",
     "text": [
      "     Train gini: 0.4183398102307567\n",
      "Validation gini: 0.3596529724033808\n"
     ]
    }
   ],
   "source": [
    "print('     Train gini:',gini(data[train_mask][col_target], ixgb_scored[train_mask]))\n",
    "print('Validation gini:',gini(data[valid_mask][col_target], ixgb_scored[valid_mask]))"
   ]
  },
  {
   "cell_type": "markdown",
   "metadata": {},
   "source": [
    "### Evaluate predictor"
   ]
  },
  {
   "cell_type": "markdown",
   "metadata": {},
   "source": [
    "Predictors evaluated due to their sorted importances on two metrics (weight and gain). At first, we can set the number of predictors which we want to see"
   ]
  },
  {
   "cell_type": "code",
   "execution_count": 39,
   "metadata": {},
   "outputs": [],
   "source": [
    "n_top = 10 #how many best predictors I want to see"
   ]
  },
  {
   "cell_type": "markdown",
   "metadata": {},
   "source": [
    "#### Weight of each predictor"
   ]
  },
  {
   "cell_type": "markdown",
   "metadata": {},
   "source": [
    "Select *n_top* predictors with highest weight (i.e. those which were in most trees)"
   ]
  },
  {
   "cell_type": "code",
   "execution_count": 40,
   "metadata": {},
   "outputs": [],
   "source": [
    "pred_xgb_wgh = [x[0] for x in sorted([(k, v) for k, v in ibooster.get_score(importance_type = 'weight').items()]\\\n",
    "                                     , key=lambda x:x[1], reverse = True)]\n",
    "if len(pred_xgb_wgh) > n_top:\n",
    "    pred_xgb_wgh = pred_xgb_wgh[:n_top]"
   ]
  },
  {
   "cell_type": "markdown",
   "metadata": {},
   "source": [
    "#### Gain of each predictor"
   ]
  },
  {
   "cell_type": "markdown",
   "metadata": {},
   "source": [
    "Select *n_top* predictors with highest gain (i.e. relative contribution of the corresponding feature to the model calculated by taking each feature’s contribution for each tree in the model)"
   ]
  },
  {
   "cell_type": "code",
   "execution_count": 41,
   "metadata": {},
   "outputs": [],
   "source": [
    "pred_xgb_gain = [x[0] for x in sorted([(k, v) for k, v in ibooster.get_score(importance_type = 'gain').items()]\\\n",
    "                                      , key=lambda x:x[1], reverse = True)]\n",
    "if len(pred_xgb_gain) > n_top:\n",
    "    pred_xgb_gain = pred_xgb_gain[:n_top]"
   ]
  },
  {
   "cell_type": "markdown",
   "metadata": {},
   "source": [
    "#### Selected Predictor"
   ]
  },
  {
   "cell_type": "markdown",
   "metadata": {},
   "source": [
    "Select the final predictors as we combining (union or intersection) the output from each metrics"
   ]
  },
  {
   "cell_type": "code",
   "execution_count": 42,
   "metadata": {},
   "outputs": [],
   "source": [
    "def union(lst1, lst2):\n",
    "    final_list  = list(set(lst1) | set(lst2))\n",
    "    return final_list\n",
    "\n",
    "def intersect(lst1, lst2):\n",
    "    final_list = list(set(lst1) & set(lst2))\n",
    "    return final_list"
   ]
  },
  {
   "cell_type": "code",
   "execution_count": 43,
   "metadata": {},
   "outputs": [
    {
     "data": {
      "text/plain": [
       "['roadtype_pred_woe',\n",
       " 'weekofmonth_woe',\n",
       " 'city_pred_woe',\n",
       " 'highway_pred_woe',\n",
       " 'daytime_woe',\n",
       " 'isweekend',\n",
       " 'street_pred_woe',\n",
       " 'ispayday',\n",
       " 'isrushhour']"
      ]
     },
     "metadata": {},
     "output_type": "display_data"
    }
   ],
   "source": [
    "pred_xgb = union(pred_xgb_wgh, pred_xgb_gain)\n",
    "display(pred_xgb)"
   ]
  },
  {
   "cell_type": "code",
   "execution_count": 61,
   "metadata": {},
   "outputs": [],
   "source": [
    "pred_xgb = ['isrushhour',\n",
    "#  'street_pred_woe',\n",
    " 'isweekend',\n",
    " 'ispayday',\n",
    " 'city_pred_woe',\n",
    " 'daytime_woe',\n",
    " 'weekofmonth_woe',\n",
    " 'roadtype_pred_woe',\n",
    " 'highway_pred_woe']"
   ]
  },
  {
   "cell_type": "markdown",
   "metadata": {},
   "source": [
    "### Tuning parameter"
   ]
  },
  {
   "cell_type": "markdown",
   "metadata": {},
   "source": [
    "Hyperparameter tuning applied to two inputs (max_depth and learning rate).\n",
    "Tuning set then will be evaluated on the valid sample.\n",
    "\n",
    "There are two options on the best estimation to choose from.\n",
    "\n",
    "*best_valid* for tuning set that has best gini on valid sample\n",
    "\n",
    "*best_diff* for tuning set that has train-valid lowest gini difference"
   ]
  },
  {
   "cell_type": "code",
   "execution_count": 62,
   "metadata": {},
   "outputs": [
    {
     "name": "stdout",
     "output_type": "stream",
     "text": [
      "[0]\ttrain-auc:0.572038\tvalid-auc:0.57047\n",
      "Multiple eval metrics have been passed: 'valid-auc' will be used for early stopping.\n",
      "\n",
      "Will train until valid-auc hasn't improved in 20 rounds.\n",
      "[1]\ttrain-auc:0.572047\tvalid-auc:0.570503\n",
      "[2]\ttrain-auc:0.572047\tvalid-auc:0.570503\n",
      "[3]\ttrain-auc:0.595128\tvalid-auc:0.588522\n",
      "[4]\ttrain-auc:0.597697\tvalid-auc:0.597084\n",
      "[5]\ttrain-auc:0.599509\tvalid-auc:0.595118\n",
      "[6]\ttrain-auc:0.599481\tvalid-auc:0.595136\n",
      "[7]\ttrain-auc:0.602091\tvalid-auc:0.593949\n",
      "[8]\ttrain-auc:0.602281\tvalid-auc:0.597044\n",
      "[9]\ttrain-auc:0.603085\tvalid-auc:0.595534\n",
      "[10]\ttrain-auc:0.603169\tvalid-auc:0.595636\n",
      "[11]\ttrain-auc:0.60808\tvalid-auc:0.601333\n",
      "[12]\ttrain-auc:0.608204\tvalid-auc:0.601466\n",
      "[13]\ttrain-auc:0.60973\tvalid-auc:0.606009\n",
      "[14]\ttrain-auc:0.612037\tvalid-auc:0.607688\n",
      "[15]\ttrain-auc:0.612203\tvalid-auc:0.60744\n",
      "[16]\ttrain-auc:0.612395\tvalid-auc:0.606936\n",
      "[17]\ttrain-auc:0.613891\tvalid-auc:0.608466\n",
      "[18]\ttrain-auc:0.613877\tvalid-auc:0.609077\n",
      "[19]\ttrain-auc:0.614424\tvalid-auc:0.609268\n",
      "[20]\ttrain-auc:0.61439\tvalid-auc:0.609215\n",
      "[21]\ttrain-auc:0.61546\tvalid-auc:0.611121\n",
      "[22]\ttrain-auc:0.618731\tvalid-auc:0.612499\n",
      "[23]\ttrain-auc:0.619245\tvalid-auc:0.612968\n",
      "[24]\ttrain-auc:0.618958\tvalid-auc:0.612902\n",
      "[25]\ttrain-auc:0.618481\tvalid-auc:0.612838\n",
      "[26]\ttrain-auc:0.619525\tvalid-auc:0.613632\n",
      "[27]\ttrain-auc:0.620387\tvalid-auc:0.614585\n",
      "[28]\ttrain-auc:0.620569\tvalid-auc:0.615577\n",
      "[29]\ttrain-auc:0.621358\tvalid-auc:0.615772\n",
      "[30]\ttrain-auc:0.620876\tvalid-auc:0.615632\n",
      "[31]\ttrain-auc:0.621043\tvalid-auc:0.615853\n",
      "[32]\ttrain-auc:0.621655\tvalid-auc:0.616198\n",
      "[33]\ttrain-auc:0.621577\tvalid-auc:0.617102\n",
      "[34]\ttrain-auc:0.621751\tvalid-auc:0.617635\n",
      "[35]\ttrain-auc:0.621389\tvalid-auc:0.617011\n",
      "[36]\ttrain-auc:0.621092\tvalid-auc:0.617048\n",
      "[37]\ttrain-auc:0.622378\tvalid-auc:0.61787\n",
      "[38]\ttrain-auc:0.622626\tvalid-auc:0.617791\n",
      "[39]\ttrain-auc:0.623466\tvalid-auc:0.618835\n",
      "[40]\ttrain-auc:0.623523\tvalid-auc:0.618709\n",
      "[41]\ttrain-auc:0.623542\tvalid-auc:0.61893\n",
      "[42]\ttrain-auc:0.62411\tvalid-auc:0.619349\n",
      "[43]\ttrain-auc:0.624127\tvalid-auc:0.61953\n",
      "[44]\ttrain-auc:0.623939\tvalid-auc:0.619073\n",
      "[45]\ttrain-auc:0.624157\tvalid-auc:0.619549\n",
      "[46]\ttrain-auc:0.624282\tvalid-auc:0.619782\n",
      "[47]\ttrain-auc:0.624755\tvalid-auc:0.619925\n",
      "[48]\ttrain-auc:0.62482\tvalid-auc:0.619815\n",
      "[49]\ttrain-auc:0.625038\tvalid-auc:0.619998\n",
      "[50]\ttrain-auc:0.625167\tvalid-auc:0.620195\n",
      "[51]\ttrain-auc:0.625231\tvalid-auc:0.620272\n",
      "[52]\ttrain-auc:0.625523\tvalid-auc:0.620294\n",
      "[53]\ttrain-auc:0.625557\tvalid-auc:0.62029\n",
      "[54]\ttrain-auc:0.625668\tvalid-auc:0.620375\n",
      "[55]\ttrain-auc:0.625868\tvalid-auc:0.620604\n",
      "[56]\ttrain-auc:0.625958\tvalid-auc:0.62068\n",
      "[57]\ttrain-auc:0.625965\tvalid-auc:0.620904\n",
      "[58]\ttrain-auc:0.625994\tvalid-auc:0.620895\n",
      "[59]\ttrain-auc:0.625914\tvalid-auc:0.621123\n",
      "[60]\ttrain-auc:0.625976\tvalid-auc:0.621272\n",
      "[61]\ttrain-auc:0.625969\tvalid-auc:0.62139\n",
      "[62]\ttrain-auc:0.625919\tvalid-auc:0.621606\n",
      "[63]\ttrain-auc:0.626061\tvalid-auc:0.621768\n",
      "[64]\ttrain-auc:0.626132\tvalid-auc:0.621852\n",
      "[65]\ttrain-auc:0.626114\tvalid-auc:0.621888\n",
      "[66]\ttrain-auc:0.626128\tvalid-auc:0.621872\n",
      "[67]\ttrain-auc:0.626226\tvalid-auc:0.621922\n",
      "[68]\ttrain-auc:0.626399\tvalid-auc:0.621949\n",
      "[69]\ttrain-auc:0.626489\tvalid-auc:0.621828\n",
      "[70]\ttrain-auc:0.626711\tvalid-auc:0.622118\n",
      "[71]\ttrain-auc:0.626756\tvalid-auc:0.622112\n",
      "[72]\ttrain-auc:0.626864\tvalid-auc:0.622152\n",
      "[73]\ttrain-auc:0.626911\tvalid-auc:0.622515\n",
      "[74]\ttrain-auc:0.626948\tvalid-auc:0.622521\n",
      "[75]\ttrain-auc:0.627473\tvalid-auc:0.623117\n",
      "[76]\ttrain-auc:0.627727\tvalid-auc:0.623356\n",
      "[77]\ttrain-auc:0.628059\tvalid-auc:0.6236\n",
      "[78]\ttrain-auc:0.628036\tvalid-auc:0.623807\n",
      "[79]\ttrain-auc:0.628055\tvalid-auc:0.623725\n",
      "[80]\ttrain-auc:0.628223\tvalid-auc:0.624022\n",
      "[81]\ttrain-auc:0.628369\tvalid-auc:0.624242\n",
      "[82]\ttrain-auc:0.628474\tvalid-auc:0.624091\n",
      "[83]\ttrain-auc:0.628452\tvalid-auc:0.6241\n",
      "[84]\ttrain-auc:0.628543\tvalid-auc:0.624384\n",
      "[85]\ttrain-auc:0.62855\tvalid-auc:0.624333\n",
      "[86]\ttrain-auc:0.628563\tvalid-auc:0.624438\n",
      "[87]\ttrain-auc:0.628491\tvalid-auc:0.624401\n",
      "[88]\ttrain-auc:0.628573\tvalid-auc:0.624572\n",
      "[89]\ttrain-auc:0.62864\tvalid-auc:0.624475\n",
      "[90]\ttrain-auc:0.628713\tvalid-auc:0.624724\n",
      "[91]\ttrain-auc:0.628966\tvalid-auc:0.624595\n",
      "[92]\ttrain-auc:0.628993\tvalid-auc:0.624618\n",
      "[93]\ttrain-auc:0.62895\tvalid-auc:0.624602\n",
      "[94]\ttrain-auc:0.629041\tvalid-auc:0.624824\n",
      "[95]\ttrain-auc:0.629292\tvalid-auc:0.624726\n",
      "[96]\ttrain-auc:0.629431\tvalid-auc:0.624692\n",
      "[97]\ttrain-auc:0.629458\tvalid-auc:0.624683\n",
      "[98]\ttrain-auc:0.629388\tvalid-auc:0.62458\n",
      "[99]\ttrain-auc:0.629528\tvalid-auc:0.624384\n",
      "[100]\ttrain-auc:0.629543\tvalid-auc:0.624388\n",
      "[101]\ttrain-auc:0.629649\tvalid-auc:0.624724\n",
      "[102]\ttrain-auc:0.629848\tvalid-auc:0.625097\n",
      "[103]\ttrain-auc:0.62986\tvalid-auc:0.624795\n",
      "[104]\ttrain-auc:0.629862\tvalid-auc:0.624653\n",
      "[105]\ttrain-auc:0.629822\tvalid-auc:0.624613\n",
      "[106]\ttrain-auc:0.629907\tvalid-auc:0.624751\n",
      "[107]\ttrain-auc:0.629916\tvalid-auc:0.62474\n",
      "[108]\ttrain-auc:0.629884\tvalid-auc:0.624853\n",
      "[109]\ttrain-auc:0.629914\tvalid-auc:0.624785\n",
      "[110]\ttrain-auc:0.630147\tvalid-auc:0.625058\n",
      "[111]\ttrain-auc:0.630153\tvalid-auc:0.62485\n",
      "[112]\ttrain-auc:0.630594\tvalid-auc:0.624979\n",
      "[113]\ttrain-auc:0.630611\tvalid-auc:0.625072\n",
      "[114]\ttrain-auc:0.630636\tvalid-auc:0.625089\n",
      "[115]\ttrain-auc:0.630709\tvalid-auc:0.625091\n",
      "[116]\ttrain-auc:0.630907\tvalid-auc:0.62522\n",
      "[117]\ttrain-auc:0.631013\tvalid-auc:0.625166\n",
      "[118]\ttrain-auc:0.631062\tvalid-auc:0.625442\n",
      "[119]\ttrain-auc:0.631078\tvalid-auc:0.625538\n",
      "[120]\ttrain-auc:0.631058\tvalid-auc:0.625592\n",
      "[121]\ttrain-auc:0.631084\tvalid-auc:0.625788\n",
      "[122]\ttrain-auc:0.631162\tvalid-auc:0.626077\n",
      "[123]\ttrain-auc:0.631615\tvalid-auc:0.626202\n",
      "[124]\ttrain-auc:0.631577\tvalid-auc:0.626204\n",
      "[125]\ttrain-auc:0.631632\tvalid-auc:0.626354\n",
      "[126]\ttrain-auc:0.631656\tvalid-auc:0.626233\n",
      "[127]\ttrain-auc:0.631667\tvalid-auc:0.626385\n",
      "[128]\ttrain-auc:0.631756\tvalid-auc:0.626543\n",
      "[129]\ttrain-auc:0.632159\tvalid-auc:0.626622\n",
      "[130]\ttrain-auc:0.632135\tvalid-auc:0.626636\n",
      "[131]\ttrain-auc:0.632284\tvalid-auc:0.626847\n",
      "[132]\ttrain-auc:0.6323\tvalid-auc:0.626889\n",
      "[133]\ttrain-auc:0.632271\tvalid-auc:0.626856\n",
      "[134]\ttrain-auc:0.632356\tvalid-auc:0.627154\n",
      "[135]\ttrain-auc:0.632521\tvalid-auc:0.627243\n",
      "[136]\ttrain-auc:0.632563\tvalid-auc:0.627186\n",
      "[137]\ttrain-auc:0.632564\tvalid-auc:0.627263\n",
      "[138]\ttrain-auc:0.632637\tvalid-auc:0.627275\n",
      "[139]\ttrain-auc:0.632674\tvalid-auc:0.62747\n",
      "[140]\ttrain-auc:0.632905\tvalid-auc:0.627556\n",
      "[141]\ttrain-auc:0.632979\tvalid-auc:0.627628\n",
      "[142]\ttrain-auc:0.633035\tvalid-auc:0.627578\n",
      "[143]\ttrain-auc:0.633224\tvalid-auc:0.62758\n",
      "[144]\ttrain-auc:0.633251\tvalid-auc:0.627599\n",
      "[145]\ttrain-auc:0.633254\tvalid-auc:0.627614\n",
      "[146]\ttrain-auc:0.633228\tvalid-auc:0.627649\n",
      "[147]\ttrain-auc:0.633452\tvalid-auc:0.627882\n",
      "[148]\ttrain-auc:0.633516\tvalid-auc:0.628235\n",
      "[149]\ttrain-auc:0.633536\tvalid-auc:0.628227\n",
      "[150]\ttrain-auc:0.633528\tvalid-auc:0.62846\n",
      "[151]\ttrain-auc:0.633579\tvalid-auc:0.628543\n",
      "[152]\ttrain-auc:0.633723\tvalid-auc:0.62842\n",
      "[153]\ttrain-auc:0.633754\tvalid-auc:0.62849\n",
      "[154]\ttrain-auc:0.633785\tvalid-auc:0.62854\n",
      "[155]\ttrain-auc:0.633908\tvalid-auc:0.628614\n",
      "[156]\ttrain-auc:0.633945\tvalid-auc:0.628575\n",
      "[157]\ttrain-auc:0.633991\tvalid-auc:0.628597\n",
      "[158]\ttrain-auc:0.634068\tvalid-auc:0.628655\n",
      "[159]\ttrain-auc:0.634262\tvalid-auc:0.628821\n",
      "[160]\ttrain-auc:0.634309\tvalid-auc:0.628801\n",
      "[161]\ttrain-auc:0.63433\tvalid-auc:0.628688\n",
      "[162]\ttrain-auc:0.634302\tvalid-auc:0.628675\n",
      "[163]\ttrain-auc:0.634364\tvalid-auc:0.628746\n",
      "[164]\ttrain-auc:0.634519\tvalid-auc:0.628728\n",
      "[165]\ttrain-auc:0.634543\tvalid-auc:0.6289\n",
      "[166]\ttrain-auc:0.634644\tvalid-auc:0.62893\n",
      "[167]\ttrain-auc:0.634634\tvalid-auc:0.628916\n",
      "[168]\ttrain-auc:0.634621\tvalid-auc:0.628992\n",
      "[169]\ttrain-auc:0.634625\tvalid-auc:0.628997\n",
      "[170]\ttrain-auc:0.634652\tvalid-auc:0.629051\n",
      "[171]\ttrain-auc:0.634721\tvalid-auc:0.629149\n",
      "[172]\ttrain-auc:0.634808\tvalid-auc:0.629117\n",
      "[173]\ttrain-auc:0.634887\tvalid-auc:0.629174\n",
      "[174]\ttrain-auc:0.634923\tvalid-auc:0.629312\n",
      "[175]\ttrain-auc:0.634948\tvalid-auc:0.629317\n",
      "[176]\ttrain-auc:0.634971\tvalid-auc:0.629353\n",
      "[177]\ttrain-auc:0.634996\tvalid-auc:0.629294\n",
      "[178]\ttrain-auc:0.635045\tvalid-auc:0.629331\n",
      "[179]\ttrain-auc:0.635087\tvalid-auc:0.629534\n",
      "[180]\ttrain-auc:0.635191\tvalid-auc:0.629507\n",
      "[181]\ttrain-auc:0.635184\tvalid-auc:0.62955\n",
      "[182]\ttrain-auc:0.635265\tvalid-auc:0.629612\n",
      "[183]\ttrain-auc:0.635249\tvalid-auc:0.629346\n",
      "[184]\ttrain-auc:0.635348\tvalid-auc:0.629304\n",
      "[185]\ttrain-auc:0.635389\tvalid-auc:0.629393\n",
      "[186]\ttrain-auc:0.63538\tvalid-auc:0.62932\n"
     ]
    },
    {
     "name": "stdout",
     "output_type": "stream",
     "text": [
      "[187]\ttrain-auc:0.635356\tvalid-auc:0.629467\n",
      "[188]\ttrain-auc:0.635465\tvalid-auc:0.629453\n",
      "[189]\ttrain-auc:0.635518\tvalid-auc:0.629467\n",
      "[190]\ttrain-auc:0.63548\tvalid-auc:0.629516\n",
      "[191]\ttrain-auc:0.635573\tvalid-auc:0.629677\n",
      "[192]\ttrain-auc:0.635602\tvalid-auc:0.629677\n",
      "[193]\ttrain-auc:0.635598\tvalid-auc:0.629725\n",
      "[194]\ttrain-auc:0.635634\tvalid-auc:0.630002\n",
      "[195]\ttrain-auc:0.635618\tvalid-auc:0.629899\n",
      "[196]\ttrain-auc:0.63566\tvalid-auc:0.629956\n",
      "[197]\ttrain-auc:0.635629\tvalid-auc:0.629923\n",
      "[198]\ttrain-auc:0.635655\tvalid-auc:0.630092\n",
      "[199]\ttrain-auc:0.635695\tvalid-auc:0.630137\n",
      "[0]\ttrain-auc:0.589469\tvalid-auc:0.589303\n",
      "Multiple eval metrics have been passed: 'valid-auc' will be used for early stopping.\n",
      "\n",
      "Will train until valid-auc hasn't improved in 20 rounds.\n",
      "[1]\ttrain-auc:0.599913\tvalid-auc:0.596012\n",
      "[2]\ttrain-auc:0.60071\tvalid-auc:0.596893\n",
      "[3]\ttrain-auc:0.604877\tvalid-auc:0.601879\n",
      "[4]\ttrain-auc:0.60567\tvalid-auc:0.601965\n",
      "[5]\ttrain-auc:0.606078\tvalid-auc:0.599182\n",
      "[6]\ttrain-auc:0.606351\tvalid-auc:0.599453\n",
      "[7]\ttrain-auc:0.608054\tvalid-auc:0.601514\n",
      "[8]\ttrain-auc:0.613875\tvalid-auc:0.606884\n",
      "[9]\ttrain-auc:0.614944\tvalid-auc:0.608096\n",
      "[10]\ttrain-auc:0.617642\tvalid-auc:0.611059\n",
      "[11]\ttrain-auc:0.619023\tvalid-auc:0.612355\n",
      "[12]\ttrain-auc:0.618901\tvalid-auc:0.613084\n",
      "[13]\ttrain-auc:0.619234\tvalid-auc:0.613669\n",
      "[14]\ttrain-auc:0.620201\tvalid-auc:0.613558\n",
      "[15]\ttrain-auc:0.620829\tvalid-auc:0.615147\n",
      "[16]\ttrain-auc:0.624948\tvalid-auc:0.61886\n",
      "[17]\ttrain-auc:0.624942\tvalid-auc:0.618499\n",
      "[18]\ttrain-auc:0.624759\tvalid-auc:0.618121\n",
      "[19]\ttrain-auc:0.624828\tvalid-auc:0.61839\n",
      "[20]\ttrain-auc:0.625154\tvalid-auc:0.618754\n",
      "[21]\ttrain-auc:0.625503\tvalid-auc:0.618659\n",
      "[22]\ttrain-auc:0.627058\tvalid-auc:0.618641\n",
      "[23]\ttrain-auc:0.62815\tvalid-auc:0.619735\n",
      "[24]\ttrain-auc:0.628218\tvalid-auc:0.619964\n",
      "[25]\ttrain-auc:0.628525\tvalid-auc:0.61996\n",
      "[26]\ttrain-auc:0.629563\tvalid-auc:0.620639\n",
      "[27]\ttrain-auc:0.62961\tvalid-auc:0.620788\n",
      "[28]\ttrain-auc:0.630031\tvalid-auc:0.621082\n",
      "[29]\ttrain-auc:0.630473\tvalid-auc:0.621832\n",
      "[30]\ttrain-auc:0.630551\tvalid-auc:0.622004\n",
      "[31]\ttrain-auc:0.631269\tvalid-auc:0.623097\n",
      "[32]\ttrain-auc:0.631656\tvalid-auc:0.62344\n",
      "[33]\ttrain-auc:0.631685\tvalid-auc:0.622796\n",
      "[34]\ttrain-auc:0.63178\tvalid-auc:0.622924\n",
      "[35]\ttrain-auc:0.631865\tvalid-auc:0.622594\n",
      "[36]\ttrain-auc:0.632972\tvalid-auc:0.623528\n",
      "[37]\ttrain-auc:0.633677\tvalid-auc:0.624328\n",
      "[38]\ttrain-auc:0.633551\tvalid-auc:0.624158\n",
      "[39]\ttrain-auc:0.633727\tvalid-auc:0.62446\n",
      "[40]\ttrain-auc:0.633773\tvalid-auc:0.624551\n",
      "[41]\ttrain-auc:0.633983\tvalid-auc:0.624809\n",
      "[42]\ttrain-auc:0.634176\tvalid-auc:0.624955\n",
      "[43]\ttrain-auc:0.634365\tvalid-auc:0.625413\n",
      "[44]\ttrain-auc:0.634844\tvalid-auc:0.626462\n",
      "[45]\ttrain-auc:0.634911\tvalid-auc:0.626568\n",
      "[46]\ttrain-auc:0.634929\tvalid-auc:0.626627\n",
      "[47]\ttrain-auc:0.634991\tvalid-auc:0.626792\n",
      "[48]\ttrain-auc:0.635186\tvalid-auc:0.626925\n",
      "[49]\ttrain-auc:0.63526\tvalid-auc:0.627149\n",
      "[50]\ttrain-auc:0.635276\tvalid-auc:0.627188\n",
      "[51]\ttrain-auc:0.635201\tvalid-auc:0.627135\n",
      "[52]\ttrain-auc:0.63549\tvalid-auc:0.626805\n",
      "[53]\ttrain-auc:0.635722\tvalid-auc:0.627056\n",
      "[54]\ttrain-auc:0.635772\tvalid-auc:0.627157\n",
      "[55]\ttrain-auc:0.635864\tvalid-auc:0.62729\n",
      "[56]\ttrain-auc:0.636132\tvalid-auc:0.627432\n",
      "[57]\ttrain-auc:0.636142\tvalid-auc:0.627526\n",
      "[58]\ttrain-auc:0.636139\tvalid-auc:0.62756\n",
      "[59]\ttrain-auc:0.636213\tvalid-auc:0.627655\n",
      "[60]\ttrain-auc:0.636325\tvalid-auc:0.627806\n",
      "[61]\ttrain-auc:0.636555\tvalid-auc:0.628275\n",
      "[62]\ttrain-auc:0.637041\tvalid-auc:0.628414\n",
      "[63]\ttrain-auc:0.637093\tvalid-auc:0.628484\n",
      "[64]\ttrain-auc:0.637375\tvalid-auc:0.628774\n",
      "[65]\ttrain-auc:0.637621\tvalid-auc:0.629004\n",
      "[66]\ttrain-auc:0.637593\tvalid-auc:0.628878\n",
      "[67]\ttrain-auc:0.637628\tvalid-auc:0.628744\n",
      "[68]\ttrain-auc:0.637755\tvalid-auc:0.628968\n",
      "[69]\ttrain-auc:0.637913\tvalid-auc:0.629345\n",
      "[70]\ttrain-auc:0.638028\tvalid-auc:0.62924\n",
      "[71]\ttrain-auc:0.638042\tvalid-auc:0.629225\n",
      "[72]\ttrain-auc:0.638178\tvalid-auc:0.629311\n",
      "[73]\ttrain-auc:0.638289\tvalid-auc:0.629538\n",
      "[74]\ttrain-auc:0.638317\tvalid-auc:0.629539\n",
      "[75]\ttrain-auc:0.63842\tvalid-auc:0.629723\n",
      "[76]\ttrain-auc:0.638754\tvalid-auc:0.630023\n",
      "[77]\ttrain-auc:0.638897\tvalid-auc:0.630401\n",
      "[78]\ttrain-auc:0.63934\tvalid-auc:0.630492\n",
      "[79]\ttrain-auc:0.639387\tvalid-auc:0.630575\n",
      "[80]\ttrain-auc:0.63947\tvalid-auc:0.630605\n",
      "[81]\ttrain-auc:0.639708\tvalid-auc:0.630512\n",
      "[82]\ttrain-auc:0.639848\tvalid-auc:0.630596\n",
      "[83]\ttrain-auc:0.63985\tvalid-auc:0.630649\n",
      "[84]\ttrain-auc:0.639965\tvalid-auc:0.630792\n",
      "[85]\ttrain-auc:0.640027\tvalid-auc:0.630819\n",
      "[86]\ttrain-auc:0.639999\tvalid-auc:0.630734\n",
      "[87]\ttrain-auc:0.640129\tvalid-auc:0.630772\n",
      "[88]\ttrain-auc:0.640121\tvalid-auc:0.630868\n",
      "[89]\ttrain-auc:0.64021\tvalid-auc:0.630682\n",
      "[90]\ttrain-auc:0.64033\tvalid-auc:0.630714\n",
      "[91]\ttrain-auc:0.640594\tvalid-auc:0.631016\n",
      "[92]\ttrain-auc:0.640682\tvalid-auc:0.631185\n",
      "[93]\ttrain-auc:0.640712\tvalid-auc:0.631146\n",
      "[94]\ttrain-auc:0.641107\tvalid-auc:0.63137\n",
      "[95]\ttrain-auc:0.641269\tvalid-auc:0.631328\n",
      "[96]\ttrain-auc:0.64145\tvalid-auc:0.631139\n",
      "[97]\ttrain-auc:0.641453\tvalid-auc:0.631338\n",
      "[98]\ttrain-auc:0.641545\tvalid-auc:0.631396\n",
      "[99]\ttrain-auc:0.641592\tvalid-auc:0.631379\n",
      "[100]\ttrain-auc:0.641634\tvalid-auc:0.63136\n",
      "[101]\ttrain-auc:0.641811\tvalid-auc:0.631395\n",
      "[102]\ttrain-auc:0.641963\tvalid-auc:0.631603\n",
      "[103]\ttrain-auc:0.642142\tvalid-auc:0.631652\n",
      "[104]\ttrain-auc:0.642189\tvalid-auc:0.631622\n",
      "[105]\ttrain-auc:0.642181\tvalid-auc:0.631611\n",
      "[106]\ttrain-auc:0.642269\tvalid-auc:0.631714\n",
      "[107]\ttrain-auc:0.642305\tvalid-auc:0.631759\n",
      "[108]\ttrain-auc:0.642357\tvalid-auc:0.631802\n",
      "[109]\ttrain-auc:0.642485\tvalid-auc:0.632057\n",
      "[110]\ttrain-auc:0.642566\tvalid-auc:0.632148\n",
      "[111]\ttrain-auc:0.64271\tvalid-auc:0.632116\n",
      "[112]\ttrain-auc:0.642979\tvalid-auc:0.632239\n",
      "[113]\ttrain-auc:0.643005\tvalid-auc:0.632298\n",
      "[114]\ttrain-auc:0.643146\tvalid-auc:0.632496\n",
      "[115]\ttrain-auc:0.64323\tvalid-auc:0.632616\n",
      "[116]\ttrain-auc:0.643548\tvalid-auc:0.633013\n",
      "[117]\ttrain-auc:0.64356\tvalid-auc:0.633122\n",
      "[118]\ttrain-auc:0.643693\tvalid-auc:0.633348\n",
      "[119]\ttrain-auc:0.643848\tvalid-auc:0.633354\n",
      "[120]\ttrain-auc:0.64384\tvalid-auc:0.633224\n",
      "[121]\ttrain-auc:0.643857\tvalid-auc:0.633282\n",
      "[122]\ttrain-auc:0.643933\tvalid-auc:0.633397\n",
      "[123]\ttrain-auc:0.644044\tvalid-auc:0.633349\n",
      "[124]\ttrain-auc:0.64411\tvalid-auc:0.633561\n",
      "[125]\ttrain-auc:0.644158\tvalid-auc:0.633567\n",
      "[126]\ttrain-auc:0.64418\tvalid-auc:0.633563\n",
      "[127]\ttrain-auc:0.644229\tvalid-auc:0.633629\n",
      "[128]\ttrain-auc:0.644376\tvalid-auc:0.633653\n",
      "[129]\ttrain-auc:0.644426\tvalid-auc:0.633714\n",
      "[130]\ttrain-auc:0.64442\tvalid-auc:0.633679\n",
      "[131]\ttrain-auc:0.644493\tvalid-auc:0.633536\n",
      "[132]\ttrain-auc:0.644473\tvalid-auc:0.633474\n",
      "[133]\ttrain-auc:0.644452\tvalid-auc:0.633572\n",
      "[134]\ttrain-auc:0.644513\tvalid-auc:0.633658\n",
      "[135]\ttrain-auc:0.6445\tvalid-auc:0.633691\n",
      "[136]\ttrain-auc:0.644506\tvalid-auc:0.633638\n",
      "[137]\ttrain-auc:0.644546\tvalid-auc:0.633751\n",
      "[138]\ttrain-auc:0.644693\tvalid-auc:0.633943\n",
      "[139]\ttrain-auc:0.644756\tvalid-auc:0.63408\n",
      "[140]\ttrain-auc:0.644861\tvalid-auc:0.634074\n",
      "[141]\ttrain-auc:0.644926\tvalid-auc:0.634314\n",
      "[142]\ttrain-auc:0.645037\tvalid-auc:0.634279\n",
      "[143]\ttrain-auc:0.645286\tvalid-auc:0.634369\n",
      "[144]\ttrain-auc:0.645373\tvalid-auc:0.63455\n",
      "[145]\ttrain-auc:0.64541\tvalid-auc:0.634507\n",
      "[146]\ttrain-auc:0.645534\tvalid-auc:0.634687\n",
      "[147]\ttrain-auc:0.645614\tvalid-auc:0.634642\n",
      "[148]\ttrain-auc:0.645639\tvalid-auc:0.634632\n",
      "[149]\ttrain-auc:0.645651\tvalid-auc:0.634731\n",
      "[150]\ttrain-auc:0.645702\tvalid-auc:0.634783\n",
      "[151]\ttrain-auc:0.64576\tvalid-auc:0.634924\n",
      "[152]\ttrain-auc:0.645781\tvalid-auc:0.634978\n",
      "[153]\ttrain-auc:0.645793\tvalid-auc:0.635038\n",
      "[154]\ttrain-auc:0.645823\tvalid-auc:0.634943\n",
      "[155]\ttrain-auc:0.645911\tvalid-auc:0.634953\n",
      "[156]\ttrain-auc:0.645912\tvalid-auc:0.634943\n",
      "[157]\ttrain-auc:0.645907\tvalid-auc:0.634978\n",
      "[158]\ttrain-auc:0.645942\tvalid-auc:0.635037\n",
      "[159]\ttrain-auc:0.646046\tvalid-auc:0.634959\n",
      "[160]\ttrain-auc:0.646097\tvalid-auc:0.634975\n",
      "[161]\ttrain-auc:0.646146\tvalid-auc:0.63495\n",
      "[162]\ttrain-auc:0.646211\tvalid-auc:0.635051\n",
      "[163]\ttrain-auc:0.646212\tvalid-auc:0.634982\n",
      "[164]\ttrain-auc:0.646214\tvalid-auc:0.635023\n",
      "[165]\ttrain-auc:0.646138\tvalid-auc:0.635083\n",
      "[166]\ttrain-auc:0.646213\tvalid-auc:0.635258\n",
      "[167]\ttrain-auc:0.646231\tvalid-auc:0.63528\n",
      "[168]\ttrain-auc:0.646292\tvalid-auc:0.635204\n",
      "[169]\ttrain-auc:0.6463\tvalid-auc:0.635137\n",
      "[170]\ttrain-auc:0.646289\tvalid-auc:0.6352\n",
      "[171]\ttrain-auc:0.646321\tvalid-auc:0.635227\n",
      "[172]\ttrain-auc:0.646481\tvalid-auc:0.635401\n",
      "[173]\ttrain-auc:0.646502\tvalid-auc:0.635354\n"
     ]
    },
    {
     "name": "stdout",
     "output_type": "stream",
     "text": [
      "[174]\ttrain-auc:0.646509\tvalid-auc:0.635363\n",
      "[175]\ttrain-auc:0.646549\tvalid-auc:0.63533\n",
      "[176]\ttrain-auc:0.646631\tvalid-auc:0.635302\n",
      "[177]\ttrain-auc:0.646663\tvalid-auc:0.635247\n",
      "[178]\ttrain-auc:0.646708\tvalid-auc:0.635228\n",
      "[179]\ttrain-auc:0.646733\tvalid-auc:0.635167\n",
      "[180]\ttrain-auc:0.646735\tvalid-auc:0.635209\n",
      "[181]\ttrain-auc:0.646756\tvalid-auc:0.635093\n",
      "[182]\ttrain-auc:0.646804\tvalid-auc:0.6351\n",
      "[183]\ttrain-auc:0.646968\tvalid-auc:0.635017\n",
      "[184]\ttrain-auc:0.647034\tvalid-auc:0.635075\n",
      "[185]\ttrain-auc:0.647088\tvalid-auc:0.635193\n",
      "[186]\ttrain-auc:0.647114\tvalid-auc:0.635129\n",
      "[187]\ttrain-auc:0.647166\tvalid-auc:0.635156\n",
      "[188]\ttrain-auc:0.647246\tvalid-auc:0.635144\n",
      "[189]\ttrain-auc:0.647289\tvalid-auc:0.635189\n",
      "[190]\ttrain-auc:0.647304\tvalid-auc:0.635228\n",
      "[191]\ttrain-auc:0.647322\tvalid-auc:0.635246\n",
      "[192]\ttrain-auc:0.647325\tvalid-auc:0.6352\n",
      "Stopping. Best iteration:\n",
      "[172]\ttrain-auc:0.646481\tvalid-auc:0.635401\n",
      "\n",
      "[0]\ttrain-auc:0.601635\tvalid-auc:0.602214\n",
      "Multiple eval metrics have been passed: 'valid-auc' will be used for early stopping.\n",
      "\n",
      "Will train until valid-auc hasn't improved in 20 rounds.\n",
      "[1]\ttrain-auc:0.613379\tvalid-auc:0.607551\n",
      "[2]\ttrain-auc:0.615524\tvalid-auc:0.612163\n",
      "[3]\ttrain-auc:0.615966\tvalid-auc:0.613341\n",
      "[4]\ttrain-auc:0.617228\tvalid-auc:0.612958\n",
      "[5]\ttrain-auc:0.618371\tvalid-auc:0.613557\n",
      "[6]\ttrain-auc:0.621031\tvalid-auc:0.616547\n",
      "[7]\ttrain-auc:0.62343\tvalid-auc:0.616926\n",
      "[8]\ttrain-auc:0.623686\tvalid-auc:0.617489\n",
      "[9]\ttrain-auc:0.62414\tvalid-auc:0.619221\n",
      "[10]\ttrain-auc:0.624765\tvalid-auc:0.62057\n",
      "[11]\ttrain-auc:0.627332\tvalid-auc:0.621964\n",
      "[12]\ttrain-auc:0.63137\tvalid-auc:0.624312\n",
      "[13]\ttrain-auc:0.631935\tvalid-auc:0.625035\n",
      "[14]\ttrain-auc:0.632048\tvalid-auc:0.625276\n",
      "[15]\ttrain-auc:0.632732\tvalid-auc:0.624881\n",
      "[16]\ttrain-auc:0.633786\tvalid-auc:0.625259\n",
      "[17]\ttrain-auc:0.634725\tvalid-auc:0.626582\n",
      "[18]\ttrain-auc:0.634886\tvalid-auc:0.625977\n",
      "[19]\ttrain-auc:0.634647\tvalid-auc:0.625632\n",
      "[20]\ttrain-auc:0.634648\tvalid-auc:0.625614\n",
      "[21]\ttrain-auc:0.634951\tvalid-auc:0.626081\n",
      "[22]\ttrain-auc:0.635037\tvalid-auc:0.626499\n",
      "[23]\ttrain-auc:0.636132\tvalid-auc:0.627105\n",
      "[24]\ttrain-auc:0.636409\tvalid-auc:0.627203\n",
      "[25]\ttrain-auc:0.63671\tvalid-auc:0.627269\n",
      "[26]\ttrain-auc:0.637643\tvalid-auc:0.627579\n",
      "[27]\ttrain-auc:0.638276\tvalid-auc:0.628536\n",
      "[28]\ttrain-auc:0.638561\tvalid-auc:0.628511\n",
      "[29]\ttrain-auc:0.638876\tvalid-auc:0.628893\n",
      "[30]\ttrain-auc:0.639091\tvalid-auc:0.629\n",
      "[31]\ttrain-auc:0.639235\tvalid-auc:0.62919\n",
      "[32]\ttrain-auc:0.639705\tvalid-auc:0.629475\n",
      "[33]\ttrain-auc:0.639646\tvalid-auc:0.629382\n",
      "[34]\ttrain-auc:0.63979\tvalid-auc:0.629417\n",
      "[35]\ttrain-auc:0.639917\tvalid-auc:0.629331\n",
      "[36]\ttrain-auc:0.640075\tvalid-auc:0.629439\n",
      "[37]\ttrain-auc:0.640956\tvalid-auc:0.629849\n",
      "[38]\ttrain-auc:0.64093\tvalid-auc:0.629819\n",
      "[39]\ttrain-auc:0.641044\tvalid-auc:0.63002\n",
      "[40]\ttrain-auc:0.641139\tvalid-auc:0.629982\n",
      "[41]\ttrain-auc:0.641524\tvalid-auc:0.630268\n",
      "[42]\ttrain-auc:0.641668\tvalid-auc:0.630282\n",
      "[43]\ttrain-auc:0.641776\tvalid-auc:0.63041\n",
      "[44]\ttrain-auc:0.642139\tvalid-auc:0.63102\n",
      "[45]\ttrain-auc:0.642375\tvalid-auc:0.631024\n",
      "[46]\ttrain-auc:0.642335\tvalid-auc:0.631064\n",
      "[47]\ttrain-auc:0.642675\tvalid-auc:0.630881\n",
      "[48]\ttrain-auc:0.642902\tvalid-auc:0.630781\n",
      "[49]\ttrain-auc:0.64292\tvalid-auc:0.630999\n",
      "[50]\ttrain-auc:0.643143\tvalid-auc:0.630952\n",
      "[51]\ttrain-auc:0.643231\tvalid-auc:0.631133\n",
      "[52]\ttrain-auc:0.643379\tvalid-auc:0.630907\n",
      "[53]\ttrain-auc:0.643586\tvalid-auc:0.630991\n",
      "[54]\ttrain-auc:0.643695\tvalid-auc:0.630905\n",
      "[55]\ttrain-auc:0.643729\tvalid-auc:0.631042\n",
      "[56]\ttrain-auc:0.644042\tvalid-auc:0.631316\n",
      "[57]\ttrain-auc:0.644\tvalid-auc:0.631458\n",
      "[58]\ttrain-auc:0.643979\tvalid-auc:0.631423\n",
      "[59]\ttrain-auc:0.644202\tvalid-auc:0.63188\n",
      "[60]\ttrain-auc:0.644398\tvalid-auc:0.631943\n",
      "[61]\ttrain-auc:0.644456\tvalid-auc:0.631992\n",
      "[62]\ttrain-auc:0.645097\tvalid-auc:0.632563\n",
      "[63]\ttrain-auc:0.645036\tvalid-auc:0.632386\n",
      "[64]\ttrain-auc:0.645231\tvalid-auc:0.632538\n",
      "[65]\ttrain-auc:0.645706\tvalid-auc:0.632795\n",
      "[66]\ttrain-auc:0.645776\tvalid-auc:0.632808\n",
      "[67]\ttrain-auc:0.645841\tvalid-auc:0.632885\n",
      "[68]\ttrain-auc:0.64596\tvalid-auc:0.633005\n",
      "[69]\ttrain-auc:0.646287\tvalid-auc:0.633153\n",
      "[70]\ttrain-auc:0.646433\tvalid-auc:0.633127\n",
      "[71]\ttrain-auc:0.646427\tvalid-auc:0.63311\n",
      "[72]\ttrain-auc:0.646586\tvalid-auc:0.633169\n",
      "[73]\ttrain-auc:0.646781\tvalid-auc:0.632994\n",
      "[74]\ttrain-auc:0.646957\tvalid-auc:0.633143\n",
      "[75]\ttrain-auc:0.647094\tvalid-auc:0.633001\n",
      "[76]\ttrain-auc:0.647198\tvalid-auc:0.633104\n",
      "[77]\ttrain-auc:0.647317\tvalid-auc:0.633183\n",
      "[78]\ttrain-auc:0.647601\tvalid-auc:0.633231\n",
      "[79]\ttrain-auc:0.647659\tvalid-auc:0.633309\n",
      "[80]\ttrain-auc:0.647721\tvalid-auc:0.633354\n",
      "[81]\ttrain-auc:0.647864\tvalid-auc:0.633491\n",
      "[82]\ttrain-auc:0.647941\tvalid-auc:0.633478\n",
      "[83]\ttrain-auc:0.647954\tvalid-auc:0.633505\n",
      "[84]\ttrain-auc:0.64824\tvalid-auc:0.633839\n",
      "[85]\ttrain-auc:0.648353\tvalid-auc:0.633916\n",
      "[86]\ttrain-auc:0.648412\tvalid-auc:0.633883\n",
      "[87]\ttrain-auc:0.648562\tvalid-auc:0.634289\n",
      "[88]\ttrain-auc:0.648645\tvalid-auc:0.634295\n",
      "[89]\ttrain-auc:0.648757\tvalid-auc:0.634365\n",
      "[90]\ttrain-auc:0.648816\tvalid-auc:0.634312\n",
      "[91]\ttrain-auc:0.648966\tvalid-auc:0.63476\n",
      "[92]\ttrain-auc:0.649041\tvalid-auc:0.634784\n",
      "[93]\ttrain-auc:0.649243\tvalid-auc:0.635084\n",
      "[94]\ttrain-auc:0.649568\tvalid-auc:0.635241\n",
      "[95]\ttrain-auc:0.649805\tvalid-auc:0.635393\n",
      "[96]\ttrain-auc:0.64994\tvalid-auc:0.635384\n",
      "[97]\ttrain-auc:0.650011\tvalid-auc:0.635478\n",
      "[98]\ttrain-auc:0.650084\tvalid-auc:0.635664\n",
      "[99]\ttrain-auc:0.650121\tvalid-auc:0.635593\n",
      "[100]\ttrain-auc:0.65014\tvalid-auc:0.635644\n",
      "[101]\ttrain-auc:0.650277\tvalid-auc:0.635733\n",
      "[102]\ttrain-auc:0.650455\tvalid-auc:0.636129\n",
      "[103]\ttrain-auc:0.650573\tvalid-auc:0.635976\n",
      "[104]\ttrain-auc:0.650613\tvalid-auc:0.636027\n",
      "[105]\ttrain-auc:0.650769\tvalid-auc:0.635921\n",
      "[106]\ttrain-auc:0.650879\tvalid-auc:0.636046\n",
      "[107]\ttrain-auc:0.650925\tvalid-auc:0.636052\n",
      "[108]\ttrain-auc:0.65095\tvalid-auc:0.636124\n",
      "[109]\ttrain-auc:0.651037\tvalid-auc:0.636189\n",
      "[110]\ttrain-auc:0.651056\tvalid-auc:0.636215\n",
      "[111]\ttrain-auc:0.651176\tvalid-auc:0.636099\n",
      "[112]\ttrain-auc:0.651239\tvalid-auc:0.636134\n",
      "[113]\ttrain-auc:0.651252\tvalid-auc:0.636121\n",
      "[114]\ttrain-auc:0.651286\tvalid-auc:0.636261\n",
      "[115]\ttrain-auc:0.651295\tvalid-auc:0.636281\n",
      "[116]\ttrain-auc:0.651475\tvalid-auc:0.6365\n",
      "[117]\ttrain-auc:0.651585\tvalid-auc:0.636457\n",
      "[118]\ttrain-auc:0.651686\tvalid-auc:0.636574\n",
      "[119]\ttrain-auc:0.651781\tvalid-auc:0.636736\n",
      "[120]\ttrain-auc:0.651874\tvalid-auc:0.63654\n",
      "[121]\ttrain-auc:0.651914\tvalid-auc:0.636407\n",
      "[122]\ttrain-auc:0.652037\tvalid-auc:0.636405\n",
      "[123]\ttrain-auc:0.652119\tvalid-auc:0.636339\n",
      "[124]\ttrain-auc:0.652119\tvalid-auc:0.636406\n",
      "[125]\ttrain-auc:0.65213\tvalid-auc:0.636415\n",
      "[126]\ttrain-auc:0.652159\tvalid-auc:0.63631\n",
      "[127]\ttrain-auc:0.652254\tvalid-auc:0.636371\n",
      "[128]\ttrain-auc:0.652293\tvalid-auc:0.636264\n",
      "[129]\ttrain-auc:0.652394\tvalid-auc:0.636091\n",
      "[130]\ttrain-auc:0.652422\tvalid-auc:0.636081\n",
      "[131]\ttrain-auc:0.652501\tvalid-auc:0.636179\n",
      "[132]\ttrain-auc:0.652499\tvalid-auc:0.636159\n",
      "[133]\ttrain-auc:0.652547\tvalid-auc:0.636111\n",
      "[134]\ttrain-auc:0.652691\tvalid-auc:0.636251\n",
      "[135]\ttrain-auc:0.652851\tvalid-auc:0.63624\n",
      "[136]\ttrain-auc:0.65287\tvalid-auc:0.636221\n",
      "[137]\ttrain-auc:0.652937\tvalid-auc:0.636197\n",
      "[138]\ttrain-auc:0.652992\tvalid-auc:0.63623\n",
      "[139]\ttrain-auc:0.653093\tvalid-auc:0.636385\n",
      "Stopping. Best iteration:\n",
      "[119]\ttrain-auc:0.651781\tvalid-auc:0.636736\n",
      "\n",
      "[0]\ttrain-auc:0.572038\tvalid-auc:0.57047\n",
      "Multiple eval metrics have been passed: 'valid-auc' will be used for early stopping.\n",
      "\n",
      "Will train until valid-auc hasn't improved in 20 rounds.\n",
      "[1]\ttrain-auc:0.586518\tvalid-auc:0.588036\n",
      "[2]\ttrain-auc:0.599075\tvalid-auc:0.595016\n",
      "[3]\ttrain-auc:0.603379\tvalid-auc:0.599016\n",
      "[4]\ttrain-auc:0.603294\tvalid-auc:0.599042\n",
      "[5]\ttrain-auc:0.603724\tvalid-auc:0.59907\n",
      "[6]\ttrain-auc:0.603511\tvalid-auc:0.598816\n",
      "[7]\ttrain-auc:0.608306\tvalid-auc:0.604758\n",
      "[8]\ttrain-auc:0.610788\tvalid-auc:0.607092\n",
      "[9]\ttrain-auc:0.610727\tvalid-auc:0.607224\n",
      "[10]\ttrain-auc:0.612008\tvalid-auc:0.608588\n",
      "[11]\ttrain-auc:0.612426\tvalid-auc:0.609706\n",
      "[12]\ttrain-auc:0.612007\tvalid-auc:0.607775\n",
      "[13]\ttrain-auc:0.614049\tvalid-auc:0.610259\n",
      "[14]\ttrain-auc:0.614727\tvalid-auc:0.61091\n",
      "[15]\ttrain-auc:0.615105\tvalid-auc:0.61167\n",
      "[16]\ttrain-auc:0.615333\tvalid-auc:0.611715\n",
      "[17]\ttrain-auc:0.615843\tvalid-auc:0.612253\n",
      "[18]\ttrain-auc:0.616884\tvalid-auc:0.61436\n",
      "[19]\ttrain-auc:0.617545\tvalid-auc:0.615186\n",
      "[20]\ttrain-auc:0.618738\tvalid-auc:0.615324\n",
      "[21]\ttrain-auc:0.618966\tvalid-auc:0.615521\n"
     ]
    },
    {
     "name": "stdout",
     "output_type": "stream",
     "text": [
      "[22]\ttrain-auc:0.620937\tvalid-auc:0.617528\n",
      "[23]\ttrain-auc:0.62096\tvalid-auc:0.617621\n",
      "[24]\ttrain-auc:0.621405\tvalid-auc:0.618486\n",
      "[25]\ttrain-auc:0.623115\tvalid-auc:0.61883\n",
      "[26]\ttrain-auc:0.623412\tvalid-auc:0.619096\n",
      "[27]\ttrain-auc:0.623448\tvalid-auc:0.619535\n",
      "[28]\ttrain-auc:0.623614\tvalid-auc:0.619898\n",
      "[29]\ttrain-auc:0.623495\tvalid-auc:0.619845\n",
      "[30]\ttrain-auc:0.623615\tvalid-auc:0.619789\n",
      "[31]\ttrain-auc:0.62408\tvalid-auc:0.620738\n",
      "[32]\ttrain-auc:0.624189\tvalid-auc:0.620767\n",
      "[33]\ttrain-auc:0.624477\tvalid-auc:0.621441\n",
      "[34]\ttrain-auc:0.624859\tvalid-auc:0.621471\n",
      "[35]\ttrain-auc:0.625143\tvalid-auc:0.621468\n",
      "[36]\ttrain-auc:0.625383\tvalid-auc:0.621638\n",
      "[37]\ttrain-auc:0.626123\tvalid-auc:0.622109\n",
      "[38]\ttrain-auc:0.626229\tvalid-auc:0.622141\n",
      "[39]\ttrain-auc:0.626379\tvalid-auc:0.622444\n",
      "[40]\ttrain-auc:0.626433\tvalid-auc:0.622515\n",
      "[41]\ttrain-auc:0.626449\tvalid-auc:0.622549\n",
      "[42]\ttrain-auc:0.627285\tvalid-auc:0.622552\n",
      "[43]\ttrain-auc:0.62757\tvalid-auc:0.623147\n",
      "[44]\ttrain-auc:0.628511\tvalid-auc:0.623558\n",
      "[45]\ttrain-auc:0.628542\tvalid-auc:0.623371\n",
      "[46]\ttrain-auc:0.628569\tvalid-auc:0.623572\n",
      "[47]\ttrain-auc:0.629192\tvalid-auc:0.624193\n",
      "[48]\ttrain-auc:0.6293\tvalid-auc:0.623947\n",
      "[49]\ttrain-auc:0.629672\tvalid-auc:0.624364\n",
      "[50]\ttrain-auc:0.629959\tvalid-auc:0.624887\n",
      "[51]\ttrain-auc:0.629978\tvalid-auc:0.62491\n",
      "[52]\ttrain-auc:0.630348\tvalid-auc:0.624969\n",
      "[53]\ttrain-auc:0.63032\tvalid-auc:0.624928\n",
      "[54]\ttrain-auc:0.630555\tvalid-auc:0.624858\n",
      "[55]\ttrain-auc:0.630607\tvalid-auc:0.625125\n",
      "[56]\ttrain-auc:0.630779\tvalid-auc:0.625226\n",
      "[57]\ttrain-auc:0.630699\tvalid-auc:0.625233\n",
      "[58]\ttrain-auc:0.630697\tvalid-auc:0.625341\n",
      "[59]\ttrain-auc:0.630747\tvalid-auc:0.625533\n",
      "[60]\ttrain-auc:0.630757\tvalid-auc:0.625267\n",
      "[61]\ttrain-auc:0.630831\tvalid-auc:0.625193\n",
      "[62]\ttrain-auc:0.631124\tvalid-auc:0.626034\n",
      "[63]\ttrain-auc:0.631292\tvalid-auc:0.62626\n",
      "[64]\ttrain-auc:0.631223\tvalid-auc:0.62638\n",
      "[65]\ttrain-auc:0.631385\tvalid-auc:0.626813\n",
      "[66]\ttrain-auc:0.631465\tvalid-auc:0.626899\n",
      "[67]\ttrain-auc:0.632079\tvalid-auc:0.626958\n",
      "[68]\ttrain-auc:0.632629\tvalid-auc:0.626973\n",
      "[69]\ttrain-auc:0.632831\tvalid-auc:0.627373\n",
      "[70]\ttrain-auc:0.632802\tvalid-auc:0.627623\n",
      "[71]\ttrain-auc:0.632807\tvalid-auc:0.627585\n",
      "[72]\ttrain-auc:0.632784\tvalid-auc:0.627636\n",
      "[73]\ttrain-auc:0.632834\tvalid-auc:0.627736\n",
      "[74]\ttrain-auc:0.633135\tvalid-auc:0.627759\n",
      "[75]\ttrain-auc:0.633187\tvalid-auc:0.62784\n",
      "[76]\ttrain-auc:0.633558\tvalid-auc:0.628126\n",
      "[77]\ttrain-auc:0.633811\tvalid-auc:0.627934\n",
      "[78]\ttrain-auc:0.633911\tvalid-auc:0.628062\n",
      "[79]\ttrain-auc:0.63391\tvalid-auc:0.628115\n",
      "[80]\ttrain-auc:0.63385\tvalid-auc:0.628148\n",
      "[81]\ttrain-auc:0.634128\tvalid-auc:0.628292\n",
      "[82]\ttrain-auc:0.634206\tvalid-auc:0.628406\n",
      "[83]\ttrain-auc:0.634201\tvalid-auc:0.628578\n",
      "[84]\ttrain-auc:0.634352\tvalid-auc:0.628599\n",
      "[85]\ttrain-auc:0.634391\tvalid-auc:0.628292\n",
      "[86]\ttrain-auc:0.634367\tvalid-auc:0.628243\n",
      "[87]\ttrain-auc:0.634417\tvalid-auc:0.628245\n",
      "[88]\ttrain-auc:0.634366\tvalid-auc:0.628141\n",
      "[89]\ttrain-auc:0.634604\tvalid-auc:0.62812\n",
      "[90]\ttrain-auc:0.634578\tvalid-auc:0.628094\n",
      "[91]\ttrain-auc:0.634616\tvalid-auc:0.628225\n",
      "[92]\ttrain-auc:0.634678\tvalid-auc:0.628355\n",
      "[93]\ttrain-auc:0.634915\tvalid-auc:0.628299\n",
      "[94]\ttrain-auc:0.634956\tvalid-auc:0.628283\n",
      "[95]\ttrain-auc:0.635003\tvalid-auc:0.628278\n",
      "[96]\ttrain-auc:0.634975\tvalid-auc:0.62852\n",
      "[97]\ttrain-auc:0.635099\tvalid-auc:0.628993\n",
      "[98]\ttrain-auc:0.635111\tvalid-auc:0.629024\n",
      "[99]\ttrain-auc:0.635099\tvalid-auc:0.629048\n",
      "[100]\ttrain-auc:0.63516\tvalid-auc:0.629121\n",
      "[101]\ttrain-auc:0.635232\tvalid-auc:0.629433\n",
      "[102]\ttrain-auc:0.635558\tvalid-auc:0.629369\n",
      "[103]\ttrain-auc:0.635562\tvalid-auc:0.629467\n",
      "[104]\ttrain-auc:0.635602\tvalid-auc:0.629431\n",
      "[105]\ttrain-auc:0.635706\tvalid-auc:0.629837\n",
      "[106]\ttrain-auc:0.635702\tvalid-auc:0.629757\n",
      "[107]\ttrain-auc:0.635835\tvalid-auc:0.629896\n",
      "[108]\ttrain-auc:0.635894\tvalid-auc:0.630105\n",
      "[109]\ttrain-auc:0.63594\tvalid-auc:0.630065\n",
      "[110]\ttrain-auc:0.636051\tvalid-auc:0.630215\n",
      "[111]\ttrain-auc:0.63608\tvalid-auc:0.630239\n",
      "[112]\ttrain-auc:0.636088\tvalid-auc:0.630007\n",
      "[113]\ttrain-auc:0.636147\tvalid-auc:0.630157\n",
      "[114]\ttrain-auc:0.636225\tvalid-auc:0.630121\n",
      "[115]\ttrain-auc:0.63631\tvalid-auc:0.630235\n",
      "[116]\ttrain-auc:0.636427\tvalid-auc:0.630452\n",
      "[117]\ttrain-auc:0.636559\tvalid-auc:0.629942\n",
      "[118]\ttrain-auc:0.636576\tvalid-auc:0.630114\n",
      "[119]\ttrain-auc:0.636517\tvalid-auc:0.630359\n",
      "[120]\ttrain-auc:0.636644\tvalid-auc:0.630735\n",
      "[121]\ttrain-auc:0.63664\tvalid-auc:0.630871\n",
      "[122]\ttrain-auc:0.63676\tvalid-auc:0.630952\n",
      "[123]\ttrain-auc:0.636703\tvalid-auc:0.630717\n",
      "[124]\ttrain-auc:0.636618\tvalid-auc:0.63074\n",
      "[125]\ttrain-auc:0.636667\tvalid-auc:0.630844\n",
      "[126]\ttrain-auc:0.636718\tvalid-auc:0.630779\n",
      "[127]\ttrain-auc:0.636884\tvalid-auc:0.630586\n",
      "[128]\ttrain-auc:0.637023\tvalid-auc:0.630363\n",
      "[129]\ttrain-auc:0.637101\tvalid-auc:0.630312\n",
      "[130]\ttrain-auc:0.637099\tvalid-auc:0.630333\n",
      "[131]\ttrain-auc:0.637212\tvalid-auc:0.630486\n",
      "[132]\ttrain-auc:0.637191\tvalid-auc:0.630547\n",
      "[133]\ttrain-auc:0.637188\tvalid-auc:0.630546\n",
      "[134]\ttrain-auc:0.637239\tvalid-auc:0.630478\n",
      "[135]\ttrain-auc:0.637219\tvalid-auc:0.630398\n",
      "[136]\ttrain-auc:0.637236\tvalid-auc:0.62984\n",
      "[137]\ttrain-auc:0.637245\tvalid-auc:0.630105\n",
      "[138]\ttrain-auc:0.637422\tvalid-auc:0.630374\n",
      "[139]\ttrain-auc:0.637403\tvalid-auc:0.630347\n",
      "[140]\ttrain-auc:0.637411\tvalid-auc:0.630149\n",
      "[141]\ttrain-auc:0.637402\tvalid-auc:0.630114\n",
      "[142]\ttrain-auc:0.637416\tvalid-auc:0.630094\n",
      "Stopping. Best iteration:\n",
      "[122]\ttrain-auc:0.63676\tvalid-auc:0.630952\n",
      "\n",
      "[0]\ttrain-auc:0.589469\tvalid-auc:0.589303\n",
      "Multiple eval metrics have been passed: 'valid-auc' will be used for early stopping.\n",
      "\n",
      "Will train until valid-auc hasn't improved in 20 rounds.\n",
      "[1]\ttrain-auc:0.600722\tvalid-auc:0.596879\n",
      "[2]\ttrain-auc:0.60586\tvalid-auc:0.599293\n",
      "[3]\ttrain-auc:0.605641\tvalid-auc:0.598403\n",
      "[4]\ttrain-auc:0.611125\tvalid-auc:0.603418\n",
      "[5]\ttrain-auc:0.621081\tvalid-auc:0.614354\n",
      "[6]\ttrain-auc:0.621021\tvalid-auc:0.614083\n",
      "[7]\ttrain-auc:0.622271\tvalid-auc:0.615104\n",
      "[8]\ttrain-auc:0.623056\tvalid-auc:0.61643\n",
      "[9]\ttrain-auc:0.629384\tvalid-auc:0.622227\n",
      "[10]\ttrain-auc:0.629882\tvalid-auc:0.622544\n",
      "[11]\ttrain-auc:0.630004\tvalid-auc:0.623291\n",
      "[12]\ttrain-auc:0.631237\tvalid-auc:0.623389\n",
      "[13]\ttrain-auc:0.631306\tvalid-auc:0.623683\n",
      "[14]\ttrain-auc:0.631727\tvalid-auc:0.624235\n",
      "[15]\ttrain-auc:0.632003\tvalid-auc:0.624494\n",
      "[16]\ttrain-auc:0.633285\tvalid-auc:0.624675\n",
      "[17]\ttrain-auc:0.63361\tvalid-auc:0.624219\n",
      "[18]\ttrain-auc:0.633781\tvalid-auc:0.624046\n",
      "[19]\ttrain-auc:0.633909\tvalid-auc:0.624432\n",
      "[20]\ttrain-auc:0.634214\tvalid-auc:0.624773\n",
      "[21]\ttrain-auc:0.634159\tvalid-auc:0.625268\n",
      "[22]\ttrain-auc:0.634653\tvalid-auc:0.62573\n",
      "[23]\ttrain-auc:0.635747\tvalid-auc:0.626648\n",
      "[24]\ttrain-auc:0.635774\tvalid-auc:0.62678\n",
      "[25]\ttrain-auc:0.636088\tvalid-auc:0.627334\n",
      "[26]\ttrain-auc:0.63611\tvalid-auc:0.627636\n",
      "[27]\ttrain-auc:0.636225\tvalid-auc:0.627692\n",
      "[28]\ttrain-auc:0.636227\tvalid-auc:0.627944\n",
      "[29]\ttrain-auc:0.636316\tvalid-auc:0.628408\n",
      "[30]\ttrain-auc:0.636569\tvalid-auc:0.628652\n",
      "[31]\ttrain-auc:0.637032\tvalid-auc:0.629134\n",
      "[32]\ttrain-auc:0.637634\tvalid-auc:0.63006\n",
      "[33]\ttrain-auc:0.638147\tvalid-auc:0.629958\n",
      "[34]\ttrain-auc:0.638236\tvalid-auc:0.629873\n",
      "[35]\ttrain-auc:0.638874\tvalid-auc:0.630856\n",
      "[36]\ttrain-auc:0.63894\tvalid-auc:0.631251\n",
      "[37]\ttrain-auc:0.639287\tvalid-auc:0.631715\n",
      "[38]\ttrain-auc:0.63923\tvalid-auc:0.631592\n",
      "[39]\ttrain-auc:0.639188\tvalid-auc:0.63169\n",
      "[40]\ttrain-auc:0.639147\tvalid-auc:0.631659\n",
      "[41]\ttrain-auc:0.639301\tvalid-auc:0.631703\n",
      "[42]\ttrain-auc:0.639479\tvalid-auc:0.631809\n",
      "[43]\ttrain-auc:0.639591\tvalid-auc:0.632057\n",
      "[44]\ttrain-auc:0.640163\tvalid-auc:0.632454\n",
      "[45]\ttrain-auc:0.640303\tvalid-auc:0.632251\n",
      "[46]\ttrain-auc:0.640329\tvalid-auc:0.63202\n",
      "[47]\ttrain-auc:0.640646\tvalid-auc:0.631913\n",
      "[48]\ttrain-auc:0.641305\tvalid-auc:0.632248\n",
      "[49]\ttrain-auc:0.641404\tvalid-auc:0.632413\n",
      "[50]\ttrain-auc:0.641719\tvalid-auc:0.632509\n",
      "[51]\ttrain-auc:0.641769\tvalid-auc:0.63259\n",
      "[52]\ttrain-auc:0.641953\tvalid-auc:0.632244\n",
      "[53]\ttrain-auc:0.642031\tvalid-auc:0.632325\n",
      "[54]\ttrain-auc:0.642112\tvalid-auc:0.632207\n",
      "[55]\ttrain-auc:0.642431\tvalid-auc:0.632563\n",
      "[56]\ttrain-auc:0.642663\tvalid-auc:0.632555\n",
      "[57]\ttrain-auc:0.642587\tvalid-auc:0.632563\n",
      "[58]\ttrain-auc:0.6427\tvalid-auc:0.632676\n",
      "[59]\ttrain-auc:0.642798\tvalid-auc:0.632688\n",
      "[60]\ttrain-auc:0.642811\tvalid-auc:0.632548\n",
      "[61]\ttrain-auc:0.643024\tvalid-auc:0.632719\n",
      "[62]\ttrain-auc:0.643369\tvalid-auc:0.633267\n",
      "[63]\ttrain-auc:0.643745\tvalid-auc:0.633156\n",
      "[64]\ttrain-auc:0.643964\tvalid-auc:0.633102\n"
     ]
    },
    {
     "name": "stdout",
     "output_type": "stream",
     "text": [
      "[65]\ttrain-auc:0.644217\tvalid-auc:0.633234\n",
      "[66]\ttrain-auc:0.644265\tvalid-auc:0.633274\n",
      "[67]\ttrain-auc:0.644431\tvalid-auc:0.63339\n",
      "[68]\ttrain-auc:0.644754\tvalid-auc:0.633789\n",
      "[69]\ttrain-auc:0.644749\tvalid-auc:0.633714\n",
      "[70]\ttrain-auc:0.644973\tvalid-auc:0.633689\n",
      "[71]\ttrain-auc:0.645139\tvalid-auc:0.633528\n",
      "[72]\ttrain-auc:0.645364\tvalid-auc:0.633573\n",
      "[73]\ttrain-auc:0.645507\tvalid-auc:0.633849\n",
      "[74]\ttrain-auc:0.645685\tvalid-auc:0.633825\n",
      "[75]\ttrain-auc:0.645747\tvalid-auc:0.634011\n",
      "[76]\ttrain-auc:0.645807\tvalid-auc:0.633991\n",
      "[77]\ttrain-auc:0.645849\tvalid-auc:0.634071\n",
      "[78]\ttrain-auc:0.646021\tvalid-auc:0.633874\n",
      "[79]\ttrain-auc:0.646088\tvalid-auc:0.633944\n",
      "[80]\ttrain-auc:0.646077\tvalid-auc:0.634008\n",
      "[81]\ttrain-auc:0.646244\tvalid-auc:0.633899\n",
      "[82]\ttrain-auc:0.646324\tvalid-auc:0.63375\n",
      "[83]\ttrain-auc:0.646294\tvalid-auc:0.633607\n",
      "[84]\ttrain-auc:0.646352\tvalid-auc:0.633736\n",
      "[85]\ttrain-auc:0.646406\tvalid-auc:0.633816\n",
      "[86]\ttrain-auc:0.646489\tvalid-auc:0.63383\n",
      "[87]\ttrain-auc:0.6465\tvalid-auc:0.633971\n",
      "[88]\ttrain-auc:0.646524\tvalid-auc:0.634106\n",
      "[89]\ttrain-auc:0.646658\tvalid-auc:0.634291\n",
      "[90]\ttrain-auc:0.646672\tvalid-auc:0.634165\n",
      "[91]\ttrain-auc:0.646705\tvalid-auc:0.634173\n",
      "[92]\ttrain-auc:0.646829\tvalid-auc:0.634126\n",
      "[93]\ttrain-auc:0.646819\tvalid-auc:0.633953\n",
      "[94]\ttrain-auc:0.64694\tvalid-auc:0.633976\n",
      "[95]\ttrain-auc:0.647169\tvalid-auc:0.634463\n",
      "[96]\ttrain-auc:0.647266\tvalid-auc:0.634558\n",
      "[97]\ttrain-auc:0.647431\tvalid-auc:0.634471\n",
      "[98]\ttrain-auc:0.647428\tvalid-auc:0.634466\n",
      "[99]\ttrain-auc:0.647481\tvalid-auc:0.63454\n",
      "[100]\ttrain-auc:0.647468\tvalid-auc:0.634525\n",
      "[101]\ttrain-auc:0.647549\tvalid-auc:0.634486\n",
      "[102]\ttrain-auc:0.647682\tvalid-auc:0.634921\n",
      "[103]\ttrain-auc:0.647782\tvalid-auc:0.634844\n",
      "[104]\ttrain-auc:0.647785\tvalid-auc:0.634804\n",
      "[105]\ttrain-auc:0.647806\tvalid-auc:0.634507\n",
      "[106]\ttrain-auc:0.647854\tvalid-auc:0.634561\n",
      "[107]\ttrain-auc:0.647911\tvalid-auc:0.634429\n",
      "[108]\ttrain-auc:0.64792\tvalid-auc:0.634382\n",
      "[109]\ttrain-auc:0.647972\tvalid-auc:0.634311\n",
      "[110]\ttrain-auc:0.648009\tvalid-auc:0.634392\n",
      "[111]\ttrain-auc:0.648108\tvalid-auc:0.634308\n",
      "[112]\ttrain-auc:0.648418\tvalid-auc:0.634441\n",
      "[113]\ttrain-auc:0.648432\tvalid-auc:0.634508\n",
      "[114]\ttrain-auc:0.648524\tvalid-auc:0.634828\n",
      "[115]\ttrain-auc:0.648529\tvalid-auc:0.634823\n",
      "[116]\ttrain-auc:0.648652\tvalid-auc:0.634942\n",
      "[117]\ttrain-auc:0.648709\tvalid-auc:0.63484\n",
      "[118]\ttrain-auc:0.648739\tvalid-auc:0.634897\n",
      "[119]\ttrain-auc:0.648831\tvalid-auc:0.634867\n",
      "[120]\ttrain-auc:0.648847\tvalid-auc:0.635088\n",
      "[121]\ttrain-auc:0.648858\tvalid-auc:0.635028\n",
      "[122]\ttrain-auc:0.64884\tvalid-auc:0.635015\n",
      "[123]\ttrain-auc:0.648837\tvalid-auc:0.634825\n",
      "[124]\ttrain-auc:0.648836\tvalid-auc:0.634857\n",
      "[125]\ttrain-auc:0.648963\tvalid-auc:0.634873\n",
      "[126]\ttrain-auc:0.648995\tvalid-auc:0.634753\n",
      "[127]\ttrain-auc:0.648999\tvalid-auc:0.634783\n",
      "[128]\ttrain-auc:0.649064\tvalid-auc:0.634906\n",
      "[129]\ttrain-auc:0.649101\tvalid-auc:0.634832\n",
      "[130]\ttrain-auc:0.649152\tvalid-auc:0.634849\n",
      "[131]\ttrain-auc:0.649254\tvalid-auc:0.634752\n",
      "[132]\ttrain-auc:0.649277\tvalid-auc:0.634774\n",
      "[133]\ttrain-auc:0.649205\tvalid-auc:0.634945\n",
      "[134]\ttrain-auc:0.649212\tvalid-auc:0.634988\n",
      "[135]\ttrain-auc:0.649319\tvalid-auc:0.635035\n",
      "[136]\ttrain-auc:0.649358\tvalid-auc:0.635001\n",
      "[137]\ttrain-auc:0.649399\tvalid-auc:0.63507\n",
      "[138]\ttrain-auc:0.649422\tvalid-auc:0.635076\n",
      "[139]\ttrain-auc:0.64954\tvalid-auc:0.634833\n",
      "[140]\ttrain-auc:0.649613\tvalid-auc:0.634651\n",
      "Stopping. Best iteration:\n",
      "[120]\ttrain-auc:0.648847\tvalid-auc:0.635088\n",
      "\n",
      "[0]\ttrain-auc:0.601635\tvalid-auc:0.602214\n",
      "Multiple eval metrics have been passed: 'valid-auc' will be used for early stopping.\n",
      "\n",
      "Will train until valid-auc hasn't improved in 20 rounds.\n",
      "[1]\ttrain-auc:0.614224\tvalid-auc:0.607899\n",
      "[2]\ttrain-auc:0.615402\tvalid-auc:0.612623\n",
      "[3]\ttrain-auc:0.620874\tvalid-auc:0.616519\n",
      "[4]\ttrain-auc:0.628563\tvalid-auc:0.620457\n",
      "[5]\ttrain-auc:0.628099\tvalid-auc:0.621626\n",
      "[6]\ttrain-auc:0.628985\tvalid-auc:0.620701\n",
      "[7]\ttrain-auc:0.629965\tvalid-auc:0.620955\n",
      "[8]\ttrain-auc:0.633089\tvalid-auc:0.622704\n",
      "[9]\ttrain-auc:0.634121\tvalid-auc:0.623491\n",
      "[10]\ttrain-auc:0.635789\tvalid-auc:0.625444\n",
      "[11]\ttrain-auc:0.636481\tvalid-auc:0.626086\n",
      "[12]\ttrain-auc:0.637272\tvalid-auc:0.625611\n",
      "[13]\ttrain-auc:0.63818\tvalid-auc:0.626234\n",
      "[14]\ttrain-auc:0.638431\tvalid-auc:0.626802\n",
      "[15]\ttrain-auc:0.638869\tvalid-auc:0.627658\n",
      "[16]\ttrain-auc:0.639449\tvalid-auc:0.628628\n",
      "[17]\ttrain-auc:0.639523\tvalid-auc:0.628885\n",
      "[18]\ttrain-auc:0.639844\tvalid-auc:0.629376\n",
      "[19]\ttrain-auc:0.640176\tvalid-auc:0.629606\n",
      "[20]\ttrain-auc:0.640579\tvalid-auc:0.629846\n",
      "[21]\ttrain-auc:0.640501\tvalid-auc:0.629745\n",
      "[22]\ttrain-auc:0.640967\tvalid-auc:0.62928\n",
      "[23]\ttrain-auc:0.641336\tvalid-auc:0.629584\n",
      "[24]\ttrain-auc:0.64193\tvalid-auc:0.630112\n",
      "[25]\ttrain-auc:0.642127\tvalid-auc:0.629954\n",
      "[26]\ttrain-auc:0.642222\tvalid-auc:0.630141\n",
      "[27]\ttrain-auc:0.642288\tvalid-auc:0.629899\n",
      "[28]\ttrain-auc:0.642596\tvalid-auc:0.630709\n",
      "[29]\ttrain-auc:0.643387\tvalid-auc:0.63118\n",
      "[30]\ttrain-auc:0.643858\tvalid-auc:0.631244\n",
      "[31]\ttrain-auc:0.644165\tvalid-auc:0.631937\n",
      "[32]\ttrain-auc:0.644858\tvalid-auc:0.632291\n",
      "[33]\ttrain-auc:0.645451\tvalid-auc:0.632425\n",
      "[34]\ttrain-auc:0.645873\tvalid-auc:0.632314\n",
      "[35]\ttrain-auc:0.646518\tvalid-auc:0.632724\n",
      "[36]\ttrain-auc:0.64664\tvalid-auc:0.633263\n",
      "[37]\ttrain-auc:0.646804\tvalid-auc:0.632946\n",
      "[38]\ttrain-auc:0.646954\tvalid-auc:0.632994\n",
      "[39]\ttrain-auc:0.64705\tvalid-auc:0.63305\n",
      "[40]\ttrain-auc:0.647182\tvalid-auc:0.633077\n",
      "[41]\ttrain-auc:0.647492\tvalid-auc:0.633268\n",
      "[42]\ttrain-auc:0.647743\tvalid-auc:0.633335\n",
      "[43]\ttrain-auc:0.647793\tvalid-auc:0.633508\n",
      "[44]\ttrain-auc:0.648221\tvalid-auc:0.633938\n",
      "[45]\ttrain-auc:0.64828\tvalid-auc:0.634\n",
      "[46]\ttrain-auc:0.648561\tvalid-auc:0.634012\n",
      "[47]\ttrain-auc:0.648776\tvalid-auc:0.633773\n",
      "[48]\ttrain-auc:0.649421\tvalid-auc:0.633937\n",
      "[49]\ttrain-auc:0.649481\tvalid-auc:0.633884\n",
      "[50]\ttrain-auc:0.649687\tvalid-auc:0.633806\n",
      "[51]\ttrain-auc:0.649741\tvalid-auc:0.633948\n",
      "[52]\ttrain-auc:0.650337\tvalid-auc:0.634137\n",
      "[53]\ttrain-auc:0.65044\tvalid-auc:0.634172\n",
      "[54]\ttrain-auc:0.650524\tvalid-auc:0.633983\n",
      "[55]\ttrain-auc:0.650591\tvalid-auc:0.63409\n",
      "[56]\ttrain-auc:0.65087\tvalid-auc:0.634495\n",
      "[57]\ttrain-auc:0.651068\tvalid-auc:0.63434\n",
      "[58]\ttrain-auc:0.651284\tvalid-auc:0.634582\n",
      "[59]\ttrain-auc:0.651415\tvalid-auc:0.634485\n",
      "[60]\ttrain-auc:0.651338\tvalid-auc:0.634184\n",
      "[61]\ttrain-auc:0.651435\tvalid-auc:0.634336\n",
      "[62]\ttrain-auc:0.651828\tvalid-auc:0.634735\n",
      "[63]\ttrain-auc:0.652213\tvalid-auc:0.635057\n",
      "[64]\ttrain-auc:0.65223\tvalid-auc:0.635042\n",
      "[65]\ttrain-auc:0.652365\tvalid-auc:0.634921\n",
      "[66]\ttrain-auc:0.652522\tvalid-auc:0.634947\n",
      "[67]\ttrain-auc:0.652699\tvalid-auc:0.63506\n",
      "[68]\ttrain-auc:0.652835\tvalid-auc:0.635308\n",
      "[69]\ttrain-auc:0.652965\tvalid-auc:0.635155\n",
      "[70]\ttrain-auc:0.65307\tvalid-auc:0.635204\n",
      "[71]\ttrain-auc:0.653162\tvalid-auc:0.635138\n",
      "[72]\ttrain-auc:0.653241\tvalid-auc:0.634988\n",
      "[73]\ttrain-auc:0.653479\tvalid-auc:0.635056\n",
      "[74]\ttrain-auc:0.653668\tvalid-auc:0.635015\n",
      "[75]\ttrain-auc:0.653768\tvalid-auc:0.635011\n",
      "[76]\ttrain-auc:0.653797\tvalid-auc:0.635029\n",
      "[77]\ttrain-auc:0.653843\tvalid-auc:0.635086\n",
      "[78]\ttrain-auc:0.654165\tvalid-auc:0.635093\n",
      "[79]\ttrain-auc:0.654181\tvalid-auc:0.635296\n",
      "[80]\ttrain-auc:0.654236\tvalid-auc:0.635304\n",
      "[81]\ttrain-auc:0.654322\tvalid-auc:0.635374\n",
      "[82]\ttrain-auc:0.654437\tvalid-auc:0.635282\n",
      "[83]\ttrain-auc:0.654485\tvalid-auc:0.635473\n",
      "[84]\ttrain-auc:0.654664\tvalid-auc:0.635533\n",
      "[85]\ttrain-auc:0.654703\tvalid-auc:0.635669\n",
      "[86]\ttrain-auc:0.654899\tvalid-auc:0.635722\n",
      "[87]\ttrain-auc:0.655045\tvalid-auc:0.635506\n",
      "[88]\ttrain-auc:0.655018\tvalid-auc:0.635646\n",
      "[89]\ttrain-auc:0.655159\tvalid-auc:0.635526\n",
      "[90]\ttrain-auc:0.655173\tvalid-auc:0.635361\n",
      "[91]\ttrain-auc:0.655199\tvalid-auc:0.635456\n",
      "[92]\ttrain-auc:0.655301\tvalid-auc:0.635307\n",
      "[93]\ttrain-auc:0.655309\tvalid-auc:0.635327\n",
      "[94]\ttrain-auc:0.655345\tvalid-auc:0.635079\n",
      "[95]\ttrain-auc:0.655502\tvalid-auc:0.635012\n",
      "[96]\ttrain-auc:0.655757\tvalid-auc:0.634819\n",
      "[97]\ttrain-auc:0.655778\tvalid-auc:0.634848\n",
      "[98]\ttrain-auc:0.655815\tvalid-auc:0.634801\n",
      "[99]\ttrain-auc:0.655849\tvalid-auc:0.634842\n",
      "[100]\ttrain-auc:0.655858\tvalid-auc:0.634761\n",
      "[101]\ttrain-auc:0.655972\tvalid-auc:0.635067\n",
      "[102]\ttrain-auc:0.656048\tvalid-auc:0.635147\n",
      "[103]\ttrain-auc:0.656259\tvalid-auc:0.635172\n",
      "[104]\ttrain-auc:0.656265\tvalid-auc:0.635128\n",
      "[105]\ttrain-auc:0.656303\tvalid-auc:0.634981\n",
      "[106]\ttrain-auc:0.656335\tvalid-auc:0.634898\n",
      "Stopping. Best iteration:\n",
      "[86]\ttrain-auc:0.654899\tvalid-auc:0.635722\n",
      "\n",
      "[0]\ttrain-auc:0.572038\tvalid-auc:0.57047\n"
     ]
    },
    {
     "name": "stdout",
     "output_type": "stream",
     "text": [
      "Multiple eval metrics have been passed: 'valid-auc' will be used for early stopping.\n",
      "\n",
      "Will train until valid-auc hasn't improved in 20 rounds.\n",
      "[1]\ttrain-auc:0.595308\tvalid-auc:0.588537\n",
      "[2]\ttrain-auc:0.595214\tvalid-auc:0.588569\n",
      "[3]\ttrain-auc:0.599401\tvalid-auc:0.588284\n",
      "[4]\ttrain-auc:0.6044\tvalid-auc:0.597158\n",
      "[5]\ttrain-auc:0.607718\tvalid-auc:0.600827\n",
      "[6]\ttrain-auc:0.617405\tvalid-auc:0.607542\n",
      "[7]\ttrain-auc:0.619317\tvalid-auc:0.610668\n",
      "[8]\ttrain-auc:0.617157\tvalid-auc:0.609301\n",
      "[9]\ttrain-auc:0.619192\tvalid-auc:0.611877\n",
      "[10]\ttrain-auc:0.620095\tvalid-auc:0.61365\n",
      "[11]\ttrain-auc:0.619846\tvalid-auc:0.615797\n",
      "[12]\ttrain-auc:0.620379\tvalid-auc:0.61565\n",
      "[13]\ttrain-auc:0.623645\tvalid-auc:0.618744\n",
      "[14]\ttrain-auc:0.624163\tvalid-auc:0.619082\n",
      "[15]\ttrain-auc:0.625125\tvalid-auc:0.619356\n",
      "[16]\ttrain-auc:0.626826\tvalid-auc:0.620737\n",
      "[17]\ttrain-auc:0.627528\tvalid-auc:0.621376\n",
      "[18]\ttrain-auc:0.62772\tvalid-auc:0.621821\n",
      "[19]\ttrain-auc:0.627394\tvalid-auc:0.621592\n",
      "[20]\ttrain-auc:0.627924\tvalid-auc:0.622114\n",
      "[21]\ttrain-auc:0.627902\tvalid-auc:0.622118\n",
      "[22]\ttrain-auc:0.628049\tvalid-auc:0.622395\n",
      "[23]\ttrain-auc:0.62918\tvalid-auc:0.623728\n",
      "[24]\ttrain-auc:0.629332\tvalid-auc:0.624755\n",
      "[25]\ttrain-auc:0.629974\tvalid-auc:0.624067\n",
      "[26]\ttrain-auc:0.629851\tvalid-auc:0.624153\n",
      "[27]\ttrain-auc:0.630044\tvalid-auc:0.624351\n",
      "[28]\ttrain-auc:0.630183\tvalid-auc:0.624677\n",
      "[29]\ttrain-auc:0.63034\tvalid-auc:0.624909\n",
      "[30]\ttrain-auc:0.630603\tvalid-auc:0.625305\n",
      "[31]\ttrain-auc:0.630693\tvalid-auc:0.625417\n",
      "[32]\ttrain-auc:0.630843\tvalid-auc:0.625656\n",
      "[33]\ttrain-auc:0.630901\tvalid-auc:0.625088\n",
      "[34]\ttrain-auc:0.630936\tvalid-auc:0.624988\n",
      "[35]\ttrain-auc:0.631292\tvalid-auc:0.626072\n",
      "[36]\ttrain-auc:0.631374\tvalid-auc:0.626896\n",
      "[37]\ttrain-auc:0.631771\tvalid-auc:0.62651\n",
      "[38]\ttrain-auc:0.631964\tvalid-auc:0.626583\n",
      "[39]\ttrain-auc:0.632021\tvalid-auc:0.626734\n",
      "[40]\ttrain-auc:0.632214\tvalid-auc:0.626993\n",
      "[41]\ttrain-auc:0.632232\tvalid-auc:0.627483\n",
      "[42]\ttrain-auc:0.632255\tvalid-auc:0.627121\n",
      "[43]\ttrain-auc:0.632448\tvalid-auc:0.627763\n",
      "[44]\ttrain-auc:0.633131\tvalid-auc:0.628135\n",
      "[45]\ttrain-auc:0.633212\tvalid-auc:0.628156\n",
      "[46]\ttrain-auc:0.633244\tvalid-auc:0.628363\n",
      "[47]\ttrain-auc:0.633501\tvalid-auc:0.628559\n",
      "[48]\ttrain-auc:0.633795\tvalid-auc:0.628517\n",
      "[49]\ttrain-auc:0.633835\tvalid-auc:0.628564\n",
      "[50]\ttrain-auc:0.634122\tvalid-auc:0.628893\n",
      "[51]\ttrain-auc:0.634067\tvalid-auc:0.628745\n",
      "[52]\ttrain-auc:0.634234\tvalid-auc:0.629043\n",
      "[53]\ttrain-auc:0.63416\tvalid-auc:0.629081\n",
      "[54]\ttrain-auc:0.63449\tvalid-auc:0.628767\n",
      "[55]\ttrain-auc:0.634471\tvalid-auc:0.629012\n",
      "[56]\ttrain-auc:0.634563\tvalid-auc:0.629327\n",
      "[57]\ttrain-auc:0.634607\tvalid-auc:0.6295\n",
      "[58]\ttrain-auc:0.634553\tvalid-auc:0.629529\n",
      "[59]\ttrain-auc:0.634663\tvalid-auc:0.629625\n",
      "[60]\ttrain-auc:0.63487\tvalid-auc:0.629721\n",
      "[61]\ttrain-auc:0.635081\tvalid-auc:0.630011\n",
      "[62]\ttrain-auc:0.635088\tvalid-auc:0.629941\n",
      "[63]\ttrain-auc:0.635038\tvalid-auc:0.629881\n",
      "[64]\ttrain-auc:0.635067\tvalid-auc:0.630045\n",
      "[65]\ttrain-auc:0.635127\tvalid-auc:0.630315\n",
      "[66]\ttrain-auc:0.635259\tvalid-auc:0.630271\n",
      "[67]\ttrain-auc:0.635352\tvalid-auc:0.630634\n",
      "[68]\ttrain-auc:0.635578\tvalid-auc:0.630972\n",
      "[69]\ttrain-auc:0.635798\tvalid-auc:0.631012\n",
      "[70]\ttrain-auc:0.635784\tvalid-auc:0.631061\n",
      "[71]\ttrain-auc:0.636209\tvalid-auc:0.6309\n",
      "[72]\ttrain-auc:0.636382\tvalid-auc:0.630686\n",
      "[73]\ttrain-auc:0.636615\tvalid-auc:0.631472\n",
      "[74]\ttrain-auc:0.636865\tvalid-auc:0.631396\n",
      "[75]\ttrain-auc:0.636914\tvalid-auc:0.631595\n",
      "[76]\ttrain-auc:0.636955\tvalid-auc:0.631654\n",
      "[77]\ttrain-auc:0.637048\tvalid-auc:0.631849\n",
      "[78]\ttrain-auc:0.637\tvalid-auc:0.63165\n",
      "[79]\ttrain-auc:0.637007\tvalid-auc:0.631626\n",
      "[80]\ttrain-auc:0.637009\tvalid-auc:0.631794\n",
      "[81]\ttrain-auc:0.637011\tvalid-auc:0.631073\n",
      "[82]\ttrain-auc:0.63711\tvalid-auc:0.631194\n",
      "[83]\ttrain-auc:0.637109\tvalid-auc:0.631296\n",
      "[84]\ttrain-auc:0.637107\tvalid-auc:0.631311\n",
      "[85]\ttrain-auc:0.637214\tvalid-auc:0.631316\n",
      "[86]\ttrain-auc:0.637242\tvalid-auc:0.631308\n",
      "[87]\ttrain-auc:0.63725\tvalid-auc:0.631339\n",
      "[88]\ttrain-auc:0.637381\tvalid-auc:0.631534\n",
      "[89]\ttrain-auc:0.637477\tvalid-auc:0.631624\n",
      "[90]\ttrain-auc:0.637582\tvalid-auc:0.632197\n",
      "[91]\ttrain-auc:0.637586\tvalid-auc:0.632273\n",
      "[92]\ttrain-auc:0.637667\tvalid-auc:0.632431\n",
      "[93]\ttrain-auc:0.637737\tvalid-auc:0.632502\n",
      "[94]\ttrain-auc:0.637756\tvalid-auc:0.632505\n",
      "[95]\ttrain-auc:0.637833\tvalid-auc:0.63263\n",
      "[96]\ttrain-auc:0.637973\tvalid-auc:0.632531\n",
      "[97]\ttrain-auc:0.637975\tvalid-auc:0.632803\n",
      "[98]\ttrain-auc:0.637908\tvalid-auc:0.632239\n",
      "[99]\ttrain-auc:0.637975\tvalid-auc:0.632161\n",
      "[100]\ttrain-auc:0.637998\tvalid-auc:0.632195\n",
      "[101]\ttrain-auc:0.63799\tvalid-auc:0.632374\n",
      "[102]\ttrain-auc:0.638196\tvalid-auc:0.632963\n",
      "[103]\ttrain-auc:0.638172\tvalid-auc:0.632516\n",
      "[104]\ttrain-auc:0.63825\tvalid-auc:0.632385\n",
      "[105]\ttrain-auc:0.638397\tvalid-auc:0.631989\n",
      "[106]\ttrain-auc:0.638447\tvalid-auc:0.6318\n",
      "[107]\ttrain-auc:0.638501\tvalid-auc:0.63181\n",
      "[108]\ttrain-auc:0.638565\tvalid-auc:0.631937\n",
      "[109]\ttrain-auc:0.638597\tvalid-auc:0.631889\n",
      "[110]\ttrain-auc:0.638643\tvalid-auc:0.632097\n",
      "[111]\ttrain-auc:0.638661\tvalid-auc:0.631829\n",
      "[112]\ttrain-auc:0.638621\tvalid-auc:0.631531\n",
      "[113]\ttrain-auc:0.638772\tvalid-auc:0.631606\n",
      "[114]\ttrain-auc:0.638787\tvalid-auc:0.631598\n",
      "[115]\ttrain-auc:0.638815\tvalid-auc:0.631618\n",
      "[116]\ttrain-auc:0.639013\tvalid-auc:0.631682\n",
      "[117]\ttrain-auc:0.639072\tvalid-auc:0.631363\n",
      "[118]\ttrain-auc:0.639117\tvalid-auc:0.631501\n",
      "[119]\ttrain-auc:0.639126\tvalid-auc:0.631367\n",
      "[120]\ttrain-auc:0.639126\tvalid-auc:0.631324\n",
      "[121]\ttrain-auc:0.639164\tvalid-auc:0.631231\n",
      "[122]\ttrain-auc:0.639193\tvalid-auc:0.631281\n",
      "Stopping. Best iteration:\n",
      "[102]\ttrain-auc:0.638196\tvalid-auc:0.632963\n",
      "\n",
      "[0]\ttrain-auc:0.589469\tvalid-auc:0.589303\n",
      "Multiple eval metrics have been passed: 'valid-auc' will be used for early stopping.\n",
      "\n",
      "Will train until valid-auc hasn't improved in 20 rounds.\n",
      "[1]\ttrain-auc:0.603835\tvalid-auc:0.595362\n",
      "[2]\ttrain-auc:0.606348\tvalid-auc:0.598652\n",
      "[3]\ttrain-auc:0.614064\tvalid-auc:0.610297\n",
      "[4]\ttrain-auc:0.617791\tvalid-auc:0.615301\n",
      "[5]\ttrain-auc:0.620683\tvalid-auc:0.616036\n",
      "[6]\ttrain-auc:0.624961\tvalid-auc:0.618008\n",
      "[7]\ttrain-auc:0.63131\tvalid-auc:0.62258\n",
      "[8]\ttrain-auc:0.631528\tvalid-auc:0.623584\n",
      "[9]\ttrain-auc:0.631543\tvalid-auc:0.623722\n",
      "[10]\ttrain-auc:0.632911\tvalid-auc:0.624396\n",
      "[11]\ttrain-auc:0.63365\tvalid-auc:0.624322\n",
      "[12]\ttrain-auc:0.634635\tvalid-auc:0.62557\n",
      "[13]\ttrain-auc:0.634479\tvalid-auc:0.625535\n",
      "[14]\ttrain-auc:0.634257\tvalid-auc:0.625431\n",
      "[15]\ttrain-auc:0.634676\tvalid-auc:0.626408\n",
      "[16]\ttrain-auc:0.63588\tvalid-auc:0.628189\n",
      "[17]\ttrain-auc:0.636064\tvalid-auc:0.628345\n",
      "[18]\ttrain-auc:0.636937\tvalid-auc:0.628802\n",
      "[19]\ttrain-auc:0.637149\tvalid-auc:0.628883\n",
      "[20]\ttrain-auc:0.637103\tvalid-auc:0.629226\n",
      "[21]\ttrain-auc:0.637262\tvalid-auc:0.629318\n",
      "[22]\ttrain-auc:0.637758\tvalid-auc:0.630337\n",
      "[23]\ttrain-auc:0.638372\tvalid-auc:0.630588\n",
      "[24]\ttrain-auc:0.638508\tvalid-auc:0.63084\n",
      "[25]\ttrain-auc:0.638781\tvalid-auc:0.630767\n",
      "[26]\ttrain-auc:0.639189\tvalid-auc:0.630563\n",
      "[27]\ttrain-auc:0.639312\tvalid-auc:0.631162\n",
      "[28]\ttrain-auc:0.63997\tvalid-auc:0.631013\n",
      "[29]\ttrain-auc:0.64015\tvalid-auc:0.631835\n",
      "[30]\ttrain-auc:0.640288\tvalid-auc:0.632205\n",
      "[31]\ttrain-auc:0.640411\tvalid-auc:0.632602\n",
      "[32]\ttrain-auc:0.640586\tvalid-auc:0.632787\n",
      "[33]\ttrain-auc:0.640992\tvalid-auc:0.632515\n",
      "[34]\ttrain-auc:0.641172\tvalid-auc:0.632601\n",
      "[35]\ttrain-auc:0.641693\tvalid-auc:0.632831\n",
      "[36]\ttrain-auc:0.642111\tvalid-auc:0.633263\n",
      "[37]\ttrain-auc:0.642376\tvalid-auc:0.633241\n",
      "[38]\ttrain-auc:0.642457\tvalid-auc:0.633722\n",
      "[39]\ttrain-auc:0.642693\tvalid-auc:0.63386\n",
      "[40]\ttrain-auc:0.642717\tvalid-auc:0.633934\n",
      "[41]\ttrain-auc:0.642888\tvalid-auc:0.634179\n",
      "[42]\ttrain-auc:0.643102\tvalid-auc:0.634199\n",
      "[43]\ttrain-auc:0.64335\tvalid-auc:0.634561\n",
      "[44]\ttrain-auc:0.644151\tvalid-auc:0.634942\n",
      "[45]\ttrain-auc:0.644114\tvalid-auc:0.634653\n",
      "[46]\ttrain-auc:0.64405\tvalid-auc:0.634606\n",
      "[47]\ttrain-auc:0.644593\tvalid-auc:0.634447\n",
      "[48]\ttrain-auc:0.644909\tvalid-auc:0.63469\n",
      "[49]\ttrain-auc:0.645087\tvalid-auc:0.634818\n",
      "[50]\ttrain-auc:0.645179\tvalid-auc:0.635011\n",
      "[51]\ttrain-auc:0.645109\tvalid-auc:0.634892\n",
      "[52]\ttrain-auc:0.64545\tvalid-auc:0.634901\n",
      "[53]\ttrain-auc:0.645532\tvalid-auc:0.634793\n",
      "[54]\ttrain-auc:0.645522\tvalid-auc:0.63475\n",
      "[55]\ttrain-auc:0.645864\tvalid-auc:0.634525\n",
      "[56]\ttrain-auc:0.646125\tvalid-auc:0.634532\n",
      "[57]\ttrain-auc:0.646204\tvalid-auc:0.634379\n",
      "[58]\ttrain-auc:0.646284\tvalid-auc:0.634766\n",
      "[59]\ttrain-auc:0.646443\tvalid-auc:0.634603\n",
      "[60]\ttrain-auc:0.646448\tvalid-auc:0.634163\n",
      "[61]\ttrain-auc:0.646652\tvalid-auc:0.6342\n"
     ]
    },
    {
     "name": "stdout",
     "output_type": "stream",
     "text": [
      "[62]\ttrain-auc:0.646997\tvalid-auc:0.634478\n",
      "[63]\ttrain-auc:0.647156\tvalid-auc:0.634633\n",
      "[64]\ttrain-auc:0.647253\tvalid-auc:0.634893\n",
      "[65]\ttrain-auc:0.647245\tvalid-auc:0.634612\n",
      "[66]\ttrain-auc:0.647428\tvalid-auc:0.634825\n",
      "[67]\ttrain-auc:0.647335\tvalid-auc:0.634883\n",
      "[68]\ttrain-auc:0.647597\tvalid-auc:0.635121\n",
      "[69]\ttrain-auc:0.647689\tvalid-auc:0.634915\n",
      "[70]\ttrain-auc:0.647778\tvalid-auc:0.634706\n",
      "[71]\ttrain-auc:0.647943\tvalid-auc:0.634603\n",
      "[72]\ttrain-auc:0.647994\tvalid-auc:0.634714\n",
      "[73]\ttrain-auc:0.648162\tvalid-auc:0.634738\n",
      "[74]\ttrain-auc:0.648387\tvalid-auc:0.634621\n",
      "[75]\ttrain-auc:0.648407\tvalid-auc:0.634685\n",
      "[76]\ttrain-auc:0.648467\tvalid-auc:0.634807\n",
      "[77]\ttrain-auc:0.648598\tvalid-auc:0.635178\n",
      "[78]\ttrain-auc:0.648665\tvalid-auc:0.634941\n",
      "[79]\ttrain-auc:0.648631\tvalid-auc:0.634425\n",
      "[80]\ttrain-auc:0.648706\tvalid-auc:0.634358\n",
      "[81]\ttrain-auc:0.64873\tvalid-auc:0.634597\n",
      "[82]\ttrain-auc:0.64887\tvalid-auc:0.634453\n",
      "[83]\ttrain-auc:0.648848\tvalid-auc:0.634469\n",
      "[84]\ttrain-auc:0.648901\tvalid-auc:0.634608\n",
      "[85]\ttrain-auc:0.648947\tvalid-auc:0.634857\n",
      "[86]\ttrain-auc:0.648982\tvalid-auc:0.634799\n",
      "[87]\ttrain-auc:0.649091\tvalid-auc:0.634614\n",
      "[88]\ttrain-auc:0.649214\tvalid-auc:0.63493\n",
      "[89]\ttrain-auc:0.64924\tvalid-auc:0.634827\n",
      "[90]\ttrain-auc:0.649227\tvalid-auc:0.63459\n",
      "[91]\ttrain-auc:0.649315\tvalid-auc:0.634825\n",
      "[92]\ttrain-auc:0.649313\tvalid-auc:0.634851\n",
      "[93]\ttrain-auc:0.649349\tvalid-auc:0.634882\n",
      "[94]\ttrain-auc:0.649336\tvalid-auc:0.63487\n",
      "[95]\ttrain-auc:0.649732\tvalid-auc:0.63509\n",
      "[96]\ttrain-auc:0.64971\tvalid-auc:0.634977\n",
      "[97]\ttrain-auc:0.649708\tvalid-auc:0.634818\n",
      "Stopping. Best iteration:\n",
      "[77]\ttrain-auc:0.648598\tvalid-auc:0.635178\n",
      "\n",
      "[0]\ttrain-auc:0.601635\tvalid-auc:0.602214\n",
      "Multiple eval metrics have been passed: 'valid-auc' will be used for early stopping.\n",
      "\n",
      "Will train until valid-auc hasn't improved in 20 rounds.\n",
      "[1]\ttrain-auc:0.614837\tvalid-auc:0.609535\n",
      "[2]\ttrain-auc:0.618368\tvalid-auc:0.611526\n",
      "[3]\ttrain-auc:0.621558\tvalid-auc:0.613189\n",
      "[4]\ttrain-auc:0.630633\tvalid-auc:0.619509\n",
      "[5]\ttrain-auc:0.634141\tvalid-auc:0.621973\n",
      "[6]\ttrain-auc:0.635606\tvalid-auc:0.624402\n",
      "[7]\ttrain-auc:0.636645\tvalid-auc:0.625769\n",
      "[8]\ttrain-auc:0.638744\tvalid-auc:0.627157\n",
      "[9]\ttrain-auc:0.638988\tvalid-auc:0.627521\n",
      "[10]\ttrain-auc:0.639788\tvalid-auc:0.627948\n",
      "[11]\ttrain-auc:0.640417\tvalid-auc:0.628369\n",
      "[12]\ttrain-auc:0.640741\tvalid-auc:0.628678\n",
      "[13]\ttrain-auc:0.641236\tvalid-auc:0.6295\n",
      "[14]\ttrain-auc:0.641383\tvalid-auc:0.629179\n",
      "[15]\ttrain-auc:0.642559\tvalid-auc:0.630177\n",
      "[16]\ttrain-auc:0.642772\tvalid-auc:0.630831\n",
      "[17]\ttrain-auc:0.642953\tvalid-auc:0.631155\n",
      "[18]\ttrain-auc:0.643498\tvalid-auc:0.631832\n",
      "[19]\ttrain-auc:0.6438\tvalid-auc:0.631782\n",
      "[20]\ttrain-auc:0.644425\tvalid-auc:0.632308\n",
      "[21]\ttrain-auc:0.644684\tvalid-auc:0.632236\n",
      "[22]\ttrain-auc:0.645159\tvalid-auc:0.632558\n",
      "[23]\ttrain-auc:0.645331\tvalid-auc:0.632131\n",
      "[24]\ttrain-auc:0.645696\tvalid-auc:0.632141\n",
      "[25]\ttrain-auc:0.646171\tvalid-auc:0.632467\n",
      "[26]\ttrain-auc:0.646911\tvalid-auc:0.632778\n",
      "[27]\ttrain-auc:0.64691\tvalid-auc:0.632811\n",
      "[28]\ttrain-auc:0.64694\tvalid-auc:0.6328\n",
      "[29]\ttrain-auc:0.647239\tvalid-auc:0.633393\n",
      "[30]\ttrain-auc:0.647756\tvalid-auc:0.633221\n",
      "[31]\ttrain-auc:0.647992\tvalid-auc:0.633045\n",
      "[32]\ttrain-auc:0.648389\tvalid-auc:0.633833\n",
      "[33]\ttrain-auc:0.648856\tvalid-auc:0.633915\n",
      "[34]\ttrain-auc:0.648962\tvalid-auc:0.633234\n",
      "[35]\ttrain-auc:0.649076\tvalid-auc:0.633555\n",
      "[36]\ttrain-auc:0.649759\tvalid-auc:0.634024\n",
      "[37]\ttrain-auc:0.650018\tvalid-auc:0.634217\n",
      "[38]\ttrain-auc:0.650371\tvalid-auc:0.634005\n",
      "[39]\ttrain-auc:0.650717\tvalid-auc:0.634727\n",
      "[40]\ttrain-auc:0.650745\tvalid-auc:0.634532\n",
      "[41]\ttrain-auc:0.651174\tvalid-auc:0.634699\n",
      "[42]\ttrain-auc:0.651283\tvalid-auc:0.634717\n",
      "[43]\ttrain-auc:0.651469\tvalid-auc:0.634891\n",
      "[44]\ttrain-auc:0.651657\tvalid-auc:0.634779\n",
      "[45]\ttrain-auc:0.651987\tvalid-auc:0.634915\n",
      "[46]\ttrain-auc:0.652004\tvalid-auc:0.634854\n",
      "[47]\ttrain-auc:0.652264\tvalid-auc:0.634734\n",
      "[48]\ttrain-auc:0.652476\tvalid-auc:0.635124\n",
      "[49]\ttrain-auc:0.652674\tvalid-auc:0.634883\n",
      "[50]\ttrain-auc:0.652936\tvalid-auc:0.634862\n",
      "[51]\ttrain-auc:0.653087\tvalid-auc:0.634768\n",
      "[52]\ttrain-auc:0.653401\tvalid-auc:0.63517\n",
      "[53]\ttrain-auc:0.653785\tvalid-auc:0.635119\n",
      "[54]\ttrain-auc:0.653882\tvalid-auc:0.635004\n",
      "[55]\ttrain-auc:0.653963\tvalid-auc:0.635156\n",
      "[56]\ttrain-auc:0.654258\tvalid-auc:0.635133\n",
      "[57]\ttrain-auc:0.654619\tvalid-auc:0.635293\n",
      "[58]\ttrain-auc:0.654854\tvalid-auc:0.635688\n",
      "[59]\ttrain-auc:0.654881\tvalid-auc:0.63551\n",
      "[60]\ttrain-auc:0.654854\tvalid-auc:0.635377\n",
      "[61]\ttrain-auc:0.654814\tvalid-auc:0.635504\n",
      "[62]\ttrain-auc:0.654956\tvalid-auc:0.63611\n",
      "[63]\ttrain-auc:0.655097\tvalid-auc:0.636285\n",
      "[64]\ttrain-auc:0.655138\tvalid-auc:0.636168\n",
      "[65]\ttrain-auc:0.655155\tvalid-auc:0.636237\n",
      "[66]\ttrain-auc:0.655251\tvalid-auc:0.636558\n",
      "[67]\ttrain-auc:0.655337\tvalid-auc:0.636347\n",
      "[68]\ttrain-auc:0.655536\tvalid-auc:0.636625\n",
      "[69]\ttrain-auc:0.655657\tvalid-auc:0.636944\n",
      "[70]\ttrain-auc:0.655773\tvalid-auc:0.636461\n",
      "[71]\ttrain-auc:0.655794\tvalid-auc:0.636311\n",
      "[72]\ttrain-auc:0.655938\tvalid-auc:0.636265\n",
      "[73]\ttrain-auc:0.656266\tvalid-auc:0.637012\n",
      "[74]\ttrain-auc:0.656345\tvalid-auc:0.636634\n",
      "[75]\ttrain-auc:0.656314\tvalid-auc:0.636877\n",
      "[76]\ttrain-auc:0.65634\tvalid-auc:0.636964\n",
      "[77]\ttrain-auc:0.656585\tvalid-auc:0.636772\n",
      "[78]\ttrain-auc:0.656728\tvalid-auc:0.63658\n",
      "[79]\ttrain-auc:0.65682\tvalid-auc:0.636371\n",
      "[80]\ttrain-auc:0.656839\tvalid-auc:0.636529\n",
      "[81]\ttrain-auc:0.65688\tvalid-auc:0.636687\n",
      "[82]\ttrain-auc:0.656951\tvalid-auc:0.636375\n",
      "[83]\ttrain-auc:0.657023\tvalid-auc:0.636569\n",
      "[84]\ttrain-auc:0.657267\tvalid-auc:0.636045\n",
      "[85]\ttrain-auc:0.657371\tvalid-auc:0.635923\n",
      "[86]\ttrain-auc:0.657347\tvalid-auc:0.635885\n",
      "[87]\ttrain-auc:0.65751\tvalid-auc:0.635974\n",
      "[88]\ttrain-auc:0.657499\tvalid-auc:0.636383\n",
      "[89]\ttrain-auc:0.657471\tvalid-auc:0.636486\n",
      "[90]\ttrain-auc:0.657549\tvalid-auc:0.636356\n",
      "[91]\ttrain-auc:0.65769\tvalid-auc:0.636788\n",
      "[92]\ttrain-auc:0.657704\tvalid-auc:0.636638\n",
      "[93]\ttrain-auc:0.657741\tvalid-auc:0.6366\n",
      "Stopping. Best iteration:\n",
      "[73]\ttrain-auc:0.656266\tvalid-auc:0.637012\n",
      "\n"
     ]
    }
   ],
   "source": [
    "from ia_pkg.metrics import gini\n",
    "\n",
    "import xgboost as xgb\n",
    "\n",
    "dt_xgb = data[pred_xgb]\n",
    "\n",
    "col_result = ['eta', 'max_depth', 'gini_train', 'gini_valid', 'difference']\n",
    "result = pd.DataFrame(columns = col_result)\n",
    "grid_params = {\n",
    "            'eta' : [0.1,0.2,0.3],\n",
    "            'max_depth' : [2,3,4]\n",
    "#               'min_child_weight' : [10,20,30,40,50],\n",
    "#               'subsample' : [0.5, 0.6, 0.7, 0.8, 0.9]      \n",
    "}\n",
    "\n",
    "flag = False\n",
    "\n",
    "for eta in grid_params['eta']:\n",
    "    for max_depth in grid_params['max_depth']:\n",
    "        xgb_params = {'eta': eta,\n",
    "                            'max_depth': max_depth,\n",
    "                            'objective': 'binary:logistic',\n",
    "                            'eval_metric': 'auc',\n",
    "                            'min_child_weight': 30,\n",
    "                            'subsample': 0.85}\n",
    "\n",
    "        evals_result = {}\n",
    "\n",
    "        tbooster = xgb.train(params = xgb_params,\n",
    "                                    dtrain = xgb.DMatrix(dt_xgb[train_mask],data[train_mask][col_target]),\n",
    "                                    num_boost_round = 200,\n",
    "                                    early_stopping_rounds = 20,\n",
    "                                    evals = ((xgb.DMatrix(dt_xgb[train_mask],data[train_mask][col_target]),'train'),\n",
    "                                             (xgb.DMatrix(dt_xgb[valid_mask],data[valid_mask][col_target]),'valid')\n",
    "                                            ), \n",
    "                                    evals_result = evals_result,)\n",
    "\n",
    "        txgb_scored = tbooster.predict(xgb.DMatrix(dt_xgb), ntree_limit=tbooster.best_ntree_limit)\n",
    "        gini_train = gini(data[train_mask][col_target], txgb_scored[train_mask])\n",
    "        gini_valid = gini(data[valid_mask][col_target], txgb_scored[valid_mask])\n",
    "        added = [eta, max_depth, gini_train, gini_valid, (gini_train-gini_valid)]\n",
    "        if flag == False:\n",
    "            result = pd.DataFrame([added], columns = col_result)\n",
    "            flag = True\n",
    "        else:\n",
    "            result = pd.concat([result, pd.DataFrame([added], columns = col_result)], axis=0)"
   ]
  },
  {
   "cell_type": "code",
   "execution_count": 63,
   "metadata": {},
   "outputs": [
    {
     "data": {
      "text/html": [
       "<div>\n",
       "<style scoped>\n",
       "    .dataframe tbody tr th:only-of-type {\n",
       "        vertical-align: middle;\n",
       "    }\n",
       "\n",
       "    .dataframe tbody tr th {\n",
       "        vertical-align: top;\n",
       "    }\n",
       "\n",
       "    .dataframe thead th {\n",
       "        text-align: right;\n",
       "    }\n",
       "</style>\n",
       "<table border=\"1\" class=\"dataframe\">\n",
       "  <thead>\n",
       "    <tr style=\"text-align: right;\">\n",
       "      <th></th>\n",
       "      <th>eta</th>\n",
       "      <th>max_depth</th>\n",
       "      <th>gini_train</th>\n",
       "      <th>gini_valid</th>\n",
       "      <th>difference</th>\n",
       "    </tr>\n",
       "  </thead>\n",
       "  <tbody>\n",
       "    <tr>\n",
       "      <th>0</th>\n",
       "      <td>0.1</td>\n",
       "      <td>2</td>\n",
       "      <td>0.271391</td>\n",
       "      <td>0.260274</td>\n",
       "      <td>0.011116</td>\n",
       "    </tr>\n",
       "    <tr>\n",
       "      <th>0</th>\n",
       "      <td>0.1</td>\n",
       "      <td>3</td>\n",
       "      <td>0.292962</td>\n",
       "      <td>0.270802</td>\n",
       "      <td>0.022161</td>\n",
       "    </tr>\n",
       "    <tr>\n",
       "      <th>0</th>\n",
       "      <td>0.1</td>\n",
       "      <td>4</td>\n",
       "      <td>0.303562</td>\n",
       "      <td>0.273473</td>\n",
       "      <td>0.030089</td>\n",
       "    </tr>\n",
       "    <tr>\n",
       "      <th>0</th>\n",
       "      <td>0.2</td>\n",
       "      <td>2</td>\n",
       "      <td>0.273521</td>\n",
       "      <td>0.261905</td>\n",
       "      <td>0.011616</td>\n",
       "    </tr>\n",
       "    <tr>\n",
       "      <th>0</th>\n",
       "      <td>0.2</td>\n",
       "      <td>3</td>\n",
       "      <td>0.297694</td>\n",
       "      <td>0.270176</td>\n",
       "      <td>0.027518</td>\n",
       "    </tr>\n",
       "    <tr>\n",
       "      <th>0</th>\n",
       "      <td>0.2</td>\n",
       "      <td>4</td>\n",
       "      <td>0.309798</td>\n",
       "      <td>0.271444</td>\n",
       "      <td>0.038354</td>\n",
       "    </tr>\n",
       "    <tr>\n",
       "      <th>0</th>\n",
       "      <td>0.3</td>\n",
       "      <td>2</td>\n",
       "      <td>0.276391</td>\n",
       "      <td>0.265927</td>\n",
       "      <td>0.010465</td>\n",
       "    </tr>\n",
       "    <tr>\n",
       "      <th>0</th>\n",
       "      <td>0.3</td>\n",
       "      <td>3</td>\n",
       "      <td>0.297195</td>\n",
       "      <td>0.270356</td>\n",
       "      <td>0.026839</td>\n",
       "    </tr>\n",
       "    <tr>\n",
       "      <th>0</th>\n",
       "      <td>0.3</td>\n",
       "      <td>4</td>\n",
       "      <td>0.312532</td>\n",
       "      <td>0.274024</td>\n",
       "      <td>0.038508</td>\n",
       "    </tr>\n",
       "  </tbody>\n",
       "</table>\n",
       "</div>"
      ],
      "text/plain": [
       "   eta  max_depth  gini_train  gini_valid  difference\n",
       "0  0.1          2    0.271391    0.260274    0.011116\n",
       "0  0.1          3    0.292962    0.270802    0.022161\n",
       "0  0.1          4    0.303562    0.273473    0.030089\n",
       "0  0.2          2    0.273521    0.261905    0.011616\n",
       "0  0.2          3    0.297694    0.270176    0.027518\n",
       "0  0.2          4    0.309798    0.271444    0.038354\n",
       "0  0.3          2    0.276391    0.265927    0.010465\n",
       "0  0.3          3    0.297195    0.270356    0.026839\n",
       "0  0.3          4    0.312532    0.274024    0.038508"
      ]
     },
     "metadata": {},
     "output_type": "display_data"
    }
   ],
   "source": [
    "display(result)"
   ]
  },
  {
   "cell_type": "code",
   "execution_count": 64,
   "metadata": {},
   "outputs": [
    {
     "name": "stdout",
     "output_type": "stream",
     "text": [
      "hyperparameter for best_valid:  {'eta': [0.3], 'max_depth': [4]}\n",
      "hyperparameter for best_diff,  {'eta': [0.3], 'max_depth': [2]}\n"
     ]
    }
   ],
   "source": [
    "best_valid = result.loc[result['gini_valid'] == result['gini_valid'].max(),['eta', 'max_depth']].to_dict('list')\n",
    "best_diff = result.loc[result['difference'] == result['difference'].min(),['eta', 'max_depth']].to_dict('list')\n",
    "\n",
    "print('hyperparameter for best_valid: ', best_valid)\n",
    "print('hyperparameter for best_diff, ', best_diff)"
   ]
  },
  {
   "cell_type": "markdown",
   "metadata": {},
   "source": [
    "### Final Model"
   ]
  },
  {
   "cell_type": "code",
   "execution_count": 65,
   "metadata": {
    "scrolled": true
   },
   "outputs": [
    {
     "name": "stdout",
     "output_type": "stream",
     "text": [
      "[0]\ttrain-auc:0.589469\tvalid-auc:0.589303\n",
      "Multiple eval metrics have been passed: 'valid-auc' will be used for early stopping.\n",
      "\n",
      "Will train until valid-auc hasn't improved in 20 rounds.\n",
      "[1]\ttrain-auc:0.600722\tvalid-auc:0.596879\n",
      "[2]\ttrain-auc:0.60586\tvalid-auc:0.599293\n",
      "[3]\ttrain-auc:0.605641\tvalid-auc:0.598403\n",
      "[4]\ttrain-auc:0.611125\tvalid-auc:0.603418\n",
      "[5]\ttrain-auc:0.621081\tvalid-auc:0.614354\n",
      "[6]\ttrain-auc:0.621021\tvalid-auc:0.614083\n",
      "[7]\ttrain-auc:0.622271\tvalid-auc:0.615104\n",
      "[8]\ttrain-auc:0.623056\tvalid-auc:0.61643\n",
      "[9]\ttrain-auc:0.629384\tvalid-auc:0.622227\n",
      "[10]\ttrain-auc:0.629882\tvalid-auc:0.622544\n",
      "[11]\ttrain-auc:0.630004\tvalid-auc:0.623291\n",
      "[12]\ttrain-auc:0.631237\tvalid-auc:0.623389\n",
      "[13]\ttrain-auc:0.631306\tvalid-auc:0.623683\n",
      "[14]\ttrain-auc:0.631727\tvalid-auc:0.624235\n",
      "[15]\ttrain-auc:0.632003\tvalid-auc:0.624494\n",
      "[16]\ttrain-auc:0.633285\tvalid-auc:0.624675\n",
      "[17]\ttrain-auc:0.63361\tvalid-auc:0.624219\n",
      "[18]\ttrain-auc:0.633781\tvalid-auc:0.624046\n",
      "[19]\ttrain-auc:0.633909\tvalid-auc:0.624432\n",
      "[20]\ttrain-auc:0.634214\tvalid-auc:0.624773\n",
      "[21]\ttrain-auc:0.634159\tvalid-auc:0.625268\n",
      "[22]\ttrain-auc:0.634653\tvalid-auc:0.62573\n",
      "[23]\ttrain-auc:0.635747\tvalid-auc:0.626648\n",
      "[24]\ttrain-auc:0.635774\tvalid-auc:0.62678\n",
      "[25]\ttrain-auc:0.636088\tvalid-auc:0.627334\n",
      "[26]\ttrain-auc:0.63611\tvalid-auc:0.627636\n",
      "[27]\ttrain-auc:0.636225\tvalid-auc:0.627692\n",
      "[28]\ttrain-auc:0.636227\tvalid-auc:0.627944\n",
      "[29]\ttrain-auc:0.636316\tvalid-auc:0.628408\n",
      "[30]\ttrain-auc:0.636569\tvalid-auc:0.628652\n",
      "[31]\ttrain-auc:0.637032\tvalid-auc:0.629134\n",
      "[32]\ttrain-auc:0.637634\tvalid-auc:0.63006\n",
      "[33]\ttrain-auc:0.638147\tvalid-auc:0.629958\n",
      "[34]\ttrain-auc:0.638236\tvalid-auc:0.629873\n",
      "[35]\ttrain-auc:0.638874\tvalid-auc:0.630856\n",
      "[36]\ttrain-auc:0.63894\tvalid-auc:0.631251\n",
      "[37]\ttrain-auc:0.639287\tvalid-auc:0.631715\n",
      "[38]\ttrain-auc:0.63923\tvalid-auc:0.631592\n",
      "[39]\ttrain-auc:0.639188\tvalid-auc:0.63169\n",
      "[40]\ttrain-auc:0.639147\tvalid-auc:0.631659\n",
      "[41]\ttrain-auc:0.639301\tvalid-auc:0.631703\n",
      "[42]\ttrain-auc:0.639479\tvalid-auc:0.631809\n",
      "[43]\ttrain-auc:0.639591\tvalid-auc:0.632057\n",
      "[44]\ttrain-auc:0.640163\tvalid-auc:0.632454\n",
      "[45]\ttrain-auc:0.640303\tvalid-auc:0.632251\n",
      "[46]\ttrain-auc:0.640329\tvalid-auc:0.63202\n",
      "[47]\ttrain-auc:0.640646\tvalid-auc:0.631913\n",
      "[48]\ttrain-auc:0.641305\tvalid-auc:0.632248\n",
      "[49]\ttrain-auc:0.641404\tvalid-auc:0.632413\n",
      "[50]\ttrain-auc:0.641719\tvalid-auc:0.632509\n",
      "[51]\ttrain-auc:0.641769\tvalid-auc:0.63259\n",
      "[52]\ttrain-auc:0.641953\tvalid-auc:0.632244\n",
      "[53]\ttrain-auc:0.642031\tvalid-auc:0.632325\n",
      "[54]\ttrain-auc:0.642112\tvalid-auc:0.632207\n",
      "[55]\ttrain-auc:0.642431\tvalid-auc:0.632563\n",
      "[56]\ttrain-auc:0.642663\tvalid-auc:0.632555\n",
      "[57]\ttrain-auc:0.642587\tvalid-auc:0.632563\n",
      "[58]\ttrain-auc:0.6427\tvalid-auc:0.632676\n",
      "[59]\ttrain-auc:0.642798\tvalid-auc:0.632688\n",
      "[60]\ttrain-auc:0.642811\tvalid-auc:0.632548\n",
      "[61]\ttrain-auc:0.643024\tvalid-auc:0.632719\n",
      "[62]\ttrain-auc:0.643369\tvalid-auc:0.633267\n",
      "[63]\ttrain-auc:0.643745\tvalid-auc:0.633156\n",
      "[64]\ttrain-auc:0.643964\tvalid-auc:0.633102\n",
      "[65]\ttrain-auc:0.644217\tvalid-auc:0.633234\n",
      "[66]\ttrain-auc:0.644265\tvalid-auc:0.633274\n",
      "[67]\ttrain-auc:0.644431\tvalid-auc:0.63339\n",
      "[68]\ttrain-auc:0.644754\tvalid-auc:0.633789\n",
      "[69]\ttrain-auc:0.644749\tvalid-auc:0.633714\n",
      "[70]\ttrain-auc:0.644973\tvalid-auc:0.633689\n",
      "[71]\ttrain-auc:0.645139\tvalid-auc:0.633528\n",
      "[72]\ttrain-auc:0.645364\tvalid-auc:0.633573\n",
      "[73]\ttrain-auc:0.645507\tvalid-auc:0.633849\n",
      "[74]\ttrain-auc:0.645685\tvalid-auc:0.633825\n",
      "[75]\ttrain-auc:0.645747\tvalid-auc:0.634011\n",
      "[76]\ttrain-auc:0.645807\tvalid-auc:0.633991\n",
      "[77]\ttrain-auc:0.645849\tvalid-auc:0.634071\n",
      "[78]\ttrain-auc:0.646021\tvalid-auc:0.633874\n",
      "[79]\ttrain-auc:0.646088\tvalid-auc:0.633944\n",
      "[80]\ttrain-auc:0.646077\tvalid-auc:0.634008\n",
      "[81]\ttrain-auc:0.646244\tvalid-auc:0.633899\n",
      "[82]\ttrain-auc:0.646324\tvalid-auc:0.63375\n",
      "[83]\ttrain-auc:0.646294\tvalid-auc:0.633607\n",
      "[84]\ttrain-auc:0.646352\tvalid-auc:0.633736\n",
      "[85]\ttrain-auc:0.646406\tvalid-auc:0.633816\n",
      "[86]\ttrain-auc:0.646489\tvalid-auc:0.63383\n",
      "[87]\ttrain-auc:0.6465\tvalid-auc:0.633971\n",
      "[88]\ttrain-auc:0.646524\tvalid-auc:0.634106\n",
      "[89]\ttrain-auc:0.646658\tvalid-auc:0.634291\n",
      "[90]\ttrain-auc:0.646672\tvalid-auc:0.634165\n",
      "[91]\ttrain-auc:0.646705\tvalid-auc:0.634173\n",
      "[92]\ttrain-auc:0.646829\tvalid-auc:0.634126\n",
      "[93]\ttrain-auc:0.646819\tvalid-auc:0.633953\n",
      "[94]\ttrain-auc:0.64694\tvalid-auc:0.633976\n",
      "[95]\ttrain-auc:0.647169\tvalid-auc:0.634463\n",
      "[96]\ttrain-auc:0.647266\tvalid-auc:0.634558\n",
      "[97]\ttrain-auc:0.647431\tvalid-auc:0.634471\n",
      "[98]\ttrain-auc:0.647428\tvalid-auc:0.634466\n",
      "[99]\ttrain-auc:0.647481\tvalid-auc:0.63454\n",
      "[100]\ttrain-auc:0.647468\tvalid-auc:0.634525\n",
      "[101]\ttrain-auc:0.647549\tvalid-auc:0.634486\n",
      "[102]\ttrain-auc:0.647682\tvalid-auc:0.634921\n",
      "[103]\ttrain-auc:0.647782\tvalid-auc:0.634844\n",
      "[104]\ttrain-auc:0.647785\tvalid-auc:0.634804\n",
      "[105]\ttrain-auc:0.647806\tvalid-auc:0.634507\n",
      "[106]\ttrain-auc:0.647854\tvalid-auc:0.634561\n",
      "[107]\ttrain-auc:0.647911\tvalid-auc:0.634429\n",
      "[108]\ttrain-auc:0.64792\tvalid-auc:0.634382\n",
      "[109]\ttrain-auc:0.647972\tvalid-auc:0.634311\n",
      "[110]\ttrain-auc:0.648009\tvalid-auc:0.634392\n",
      "[111]\ttrain-auc:0.648108\tvalid-auc:0.634308\n",
      "[112]\ttrain-auc:0.648418\tvalid-auc:0.634441\n",
      "[113]\ttrain-auc:0.648432\tvalid-auc:0.634508\n",
      "[114]\ttrain-auc:0.648524\tvalid-auc:0.634828\n",
      "[115]\ttrain-auc:0.648529\tvalid-auc:0.634823\n",
      "[116]\ttrain-auc:0.648652\tvalid-auc:0.634942\n",
      "[117]\ttrain-auc:0.648709\tvalid-auc:0.63484\n",
      "[118]\ttrain-auc:0.648739\tvalid-auc:0.634897\n",
      "[119]\ttrain-auc:0.648831\tvalid-auc:0.634867\n",
      "[120]\ttrain-auc:0.648847\tvalid-auc:0.635088\n",
      "[121]\ttrain-auc:0.648858\tvalid-auc:0.635028\n",
      "[122]\ttrain-auc:0.64884\tvalid-auc:0.635015\n",
      "[123]\ttrain-auc:0.648837\tvalid-auc:0.634825\n",
      "[124]\ttrain-auc:0.648836\tvalid-auc:0.634857\n",
      "[125]\ttrain-auc:0.648963\tvalid-auc:0.634873\n",
      "[126]\ttrain-auc:0.648995\tvalid-auc:0.634753\n",
      "[127]\ttrain-auc:0.648999\tvalid-auc:0.634783\n",
      "[128]\ttrain-auc:0.649064\tvalid-auc:0.634906\n",
      "[129]\ttrain-auc:0.649101\tvalid-auc:0.634832\n",
      "[130]\ttrain-auc:0.649152\tvalid-auc:0.634849\n",
      "[131]\ttrain-auc:0.649254\tvalid-auc:0.634752\n",
      "[132]\ttrain-auc:0.649277\tvalid-auc:0.634774\n",
      "[133]\ttrain-auc:0.649205\tvalid-auc:0.634945\n",
      "[134]\ttrain-auc:0.649212\tvalid-auc:0.634988\n",
      "[135]\ttrain-auc:0.649319\tvalid-auc:0.635035\n",
      "[136]\ttrain-auc:0.649358\tvalid-auc:0.635001\n",
      "[137]\ttrain-auc:0.649399\tvalid-auc:0.63507\n",
      "[138]\ttrain-auc:0.649422\tvalid-auc:0.635076\n",
      "[139]\ttrain-auc:0.64954\tvalid-auc:0.634833\n",
      "[140]\ttrain-auc:0.649613\tvalid-auc:0.634651\n",
      "Stopping. Best iteration:\n",
      "[120]\ttrain-auc:0.648847\tvalid-auc:0.635088\n",
      "\n"
     ]
    }
   ],
   "source": [
    "import xgboost as xgb\n",
    "\n",
    "dt_xgb = data[pred_xgb]\n",
    "# tuning = best_diff # set hyperparameter\n",
    "\n",
    "xgb_params = {'eta': 0.2,\n",
    "    'max_depth': 3,\n",
    "    'objective': 'binary:logistic',\n",
    "    'eval_metric': 'auc',\n",
    "    'min_child_weight': 30,\n",
    "    'subsample': 0.85}\n",
    "\n",
    "evals_result = {}\n",
    "\n",
    "booster = xgb.train(params = xgb_params,\n",
    "                        dtrain = xgb.DMatrix(dt_xgb[train_mask],data[train_mask][col_target]),\n",
    "                        num_boost_round = 500,\n",
    "                        early_stopping_rounds = 20,\n",
    "                        evals = ((xgb.DMatrix(dt_xgb[train_mask],data[train_mask][col_target]),'train'),\n",
    "                                 (xgb.DMatrix(dt_xgb[valid_mask],data[valid_mask][col_target]),'valid')\n",
    "                                ), \n",
    "                        evals_result = evals_result,)\n",
    "\n",
    "xgb_scored = booster.predict(xgb.DMatrix(dt_xgb), ntree_limit=booster.best_ntree_limit)"
   ]
  },
  {
   "cell_type": "markdown",
   "metadata": {},
   "source": [
    "### Evaluate final model"
   ]
  },
  {
   "cell_type": "code",
   "execution_count": 66,
   "metadata": {},
   "outputs": [
    {
     "name": "stdout",
     "output_type": "stream",
     "text": [
      "     Train gini: 0.29769409360265775\n",
      "Validation gini: 0.2701756389992074\n"
     ]
    }
   ],
   "source": [
    "print('     Train gini:',gini(data[train_mask][col_target], xgb_scored[train_mask]))\n",
    "print('Validation gini:',gini(data[valid_mask][col_target], xgb_scored[valid_mask]))"
   ]
  },
  {
   "cell_type": "markdown",
   "metadata": {},
   "source": [
    "#### Gain Importance"
   ]
  },
  {
   "cell_type": "code",
   "execution_count": 67,
   "metadata": {},
   "outputs": [
    {
     "data": {
      "image/png": "[encoded data removed]",
      "text/plain": [
       "<Figure size 864x648 with 1 Axes>"
      ]
     },
     "metadata": {
      "needs_background": "light"
     },
     "output_type": "display_data"
    }
   ],
   "source": [
    "fs = booster.get_score(importance_type = 'gain') # available importance types: 'gain', 'cover', 'weight'\n",
    "imp = sorted([(k, v) for k, v in fs.items()], key = lambda x:x[1], reverse = True)\n",
    "imp.reverse()\n",
    "\n",
    "fig = plt.figure(figsize=(12,9))\n",
    "ax = fig.add_subplot(111)\n",
    "ax.barh(range(len(imp)), [v for k, v in imp], color=\"blue\",  align='center')\n",
    "plt.yticks(range(len(imp)), [k for k, v in imp], fontsize=15)\n",
    "plt.xticks(fontsize=15)\n",
    "plt.xlabel('Importance',fontsize=15)\n",
    "plt.ylim([-1, len(imp)])\n",
    "plt.xlim([0, max([v for k, v in imp])*1.2])\n",
    "plt.show()"
   ]
  },
  {
   "cell_type": "markdown",
   "metadata": {},
   "source": [
    "# Score the dataset"
   ]
  },
  {
   "cell_type": "markdown",
   "metadata": {},
   "source": [
    "Create a new column with the prediction (probability of default)."
   ]
  },
  {
   "cell_type": "code",
   "execution_count": 68,
   "metadata": {},
   "outputs": [
    {
     "name": "stdout",
     "output_type": "stream",
     "text": [
      "Column XGB_SCORE with the prediction added/modified. Number of columns: 20\n"
     ]
    }
   ],
   "source": [
    "col_score = 'XGB_SCORE'\n",
    "\n",
    "data[col_score] = xgb_scored\n",
    "print('Column',col_score,'with the prediction added/modified. Number of columns:',data.shape[1])"
   ]
  },
  {
   "cell_type": "markdown",
   "metadata": {},
   "source": [
    "# Performance characteristics\n",
    "Performance characteristics of the models (Gini, Lift, KS) and their visualisations."
   ]
  },
  {
   "cell_type": "code",
   "execution_count": 69,
   "metadata": {},
   "outputs": [],
   "source": [
    "from ia_pkg.metrics import gini, lift, kolmogorov_smirnov\n",
    "lift_perc = 10"
   ]
  },
  {
   "cell_type": "markdown",
   "metadata": {},
   "source": [
    "## Performance per sample"
   ]
  },
  {
   "cell_type": "code",
   "execution_count": 70,
   "metadata": {},
   "outputs": [],
   "source": [
    "perf = pd.DataFrame({'sample':[\n",
    "    'train',\n",
    "    'valid',\n",
    "    'test'    \n",
    "    ], 'XGB_gini':[\n",
    "    gini(data[train_mask][col_target],data[train_mask][col_score]) #train\n",
    "    ,gini(data[valid_mask][col_target],data[valid_mask][col_score]) #valid\n",
    "    ,gini(data[test_mask][col_target],data[test_mask][col_score]) #test\n",
    "    ], 'XGB_lift'+str(lift_perc):[\n",
    "    lift(data[train_mask][col_target],-data[train_mask][col_score],lift_perc) #train\n",
    "    ,lift(data[valid_mask][col_target],-data[valid_mask][col_score],lift_perc) #valid\n",
    "    ,lift(data[test_mask][col_target],-data[test_mask][col_score],lift_perc) #test\n",
    "    ], 'XGB_KS':[\n",
    "    kolmogorov_smirnov(data[train_mask][col_score],data[train_mask][col_target]) #train\n",
    "    ,kolmogorov_smirnov(data[valid_mask][col_score],data[valid_mask][col_target]) #valid\n",
    "    ,kolmogorov_smirnov(data[test_mask][col_score],data[test_mask][col_target]) #test\n",
    "    ]}).set_index('sample')"
   ]
  },
  {
   "cell_type": "code",
   "execution_count": 71,
   "metadata": {},
   "outputs": [
    {
     "data": {
      "text/html": [
       "<div>\n",
       "<style scoped>\n",
       "    .dataframe tbody tr th:only-of-type {\n",
       "        vertical-align: middle;\n",
       "    }\n",
       "\n",
       "    .dataframe tbody tr th {\n",
       "        vertical-align: top;\n",
       "    }\n",
       "\n",
       "    .dataframe thead th {\n",
       "        text-align: right;\n",
       "    }\n",
       "</style>\n",
       "<table border=\"1\" class=\"dataframe\">\n",
       "  <thead>\n",
       "    <tr style=\"text-align: right;\">\n",
       "      <th></th>\n",
       "      <th>XGB_gini</th>\n",
       "      <th>XGB_lift10</th>\n",
       "      <th>XGB_KS</th>\n",
       "    </tr>\n",
       "    <tr>\n",
       "      <th>sample</th>\n",
       "      <th></th>\n",
       "      <th></th>\n",
       "      <th></th>\n",
       "    </tr>\n",
       "  </thead>\n",
       "  <tbody>\n",
       "    <tr>\n",
       "      <th>train</th>\n",
       "      <td>0.297694</td>\n",
       "      <td>1.220511</td>\n",
       "      <td>0.214028</td>\n",
       "    </tr>\n",
       "    <tr>\n",
       "      <th>valid</th>\n",
       "      <td>0.270176</td>\n",
       "      <td>1.209187</td>\n",
       "      <td>0.194738</td>\n",
       "    </tr>\n",
       "    <tr>\n",
       "      <th>test</th>\n",
       "      <td>0.264462</td>\n",
       "      <td>1.194230</td>\n",
       "      <td>0.195299</td>\n",
       "    </tr>\n",
       "  </tbody>\n",
       "</table>\n",
       "</div>"
      ],
      "text/plain": [
       "        XGB_gini  XGB_lift10    XGB_KS\n",
       "sample                                \n",
       "train   0.297694    1.220511  0.214028\n",
       "valid   0.270176    1.209187  0.194738\n",
       "test    0.264462    1.194230  0.195299"
      ]
     },
     "metadata": {},
     "output_type": "display_data"
    }
   ],
   "source": [
    "display(perf)"
   ]
  },
  {
   "cell_type": "markdown",
   "metadata": {},
   "source": [
    "## F1 score on default threshold"
   ]
  },
  {
   "cell_type": "code",
   "execution_count": 72,
   "metadata": {},
   "outputs": [
    {
     "name": "stdout",
     "output_type": "stream",
     "text": [
      "F-Score: 0.79249\n"
     ]
    }
   ],
   "source": [
    "score = f1_score(data[test_mask][col_target], np.where(data[test_mask][col_score]>=0.5,1,0))\n",
    "print('F-Score: %.5f' % score)"
   ]
  },
  {
   "cell_type": "markdown",
   "metadata": {},
   "source": [
    "## ROC Curve"
   ]
  },
  {
   "cell_type": "code",
   "execution_count": 73,
   "metadata": {},
   "outputs": [
    {
     "name": "stdout",
     "output_type": "stream",
     "text": [
      "Best Threshold=0.675732, G-Mean=0.591\n"
     ]
    },
    {
     "data": {
      "image/png": "[encoded data removed]",
      "text/plain": [
       "<Figure size 432x288 with 1 Axes>"
      ]
     },
     "metadata": {
      "needs_background": "light"
     },
     "output_type": "display_data"
    }
   ],
   "source": [
    "# calculate roc curves\n",
    "fpr, tpr, th = roc_curve(data[test_mask][col_target], \n",
    "                                 data[test_mask][col_score])\n",
    "# calculate the g-mean for each threshold\n",
    "gmeans = sqrt(tpr * (1-fpr))\n",
    "\n",
    "# locate the index of the largest g-mean\n",
    "ix = argmax(gmeans)\n",
    "print('Best Threshold=%f, G-Mean=%.3f' % (th[ix], gmeans[ix]))\n",
    "\n",
    "# plot the roc curve for the model\n",
    "plt.plot([0,1], [0,1], linestyle='--', label='No Skill')\n",
    "plt.plot(fpr, tpr, marker='.', label='Logistic')\n",
    "plt.scatter(fpr[ix], tpr[ix], marker='o', color='black', label='Best')\n",
    "# axis labels\n",
    "plt.xlabel('False Positive Rate')\n",
    "plt.ylabel('True Positive Rate')\n",
    "plt.legend()\n",
    "# show the plot\n",
    "plt.show()"
   ]
  },
  {
   "cell_type": "markdown",
   "metadata": {},
   "source": [
    "## Score Linearity on Holdout Sample"
   ]
  },
  {
   "cell_type": "code",
   "execution_count": 74,
   "metadata": {},
   "outputs": [
    {
     "data": {
      "image/png": "[encoded data removed]",
      "text/plain": [
       "<Figure size 720x432 with 2 Axes>"
      ]
     },
     "metadata": {
      "needs_background": "light"
     },
     "output_type": "display_data"
    }
   ],
   "source": [
    "from ia_pkg.plots import plot_score_linearity\n",
    "plot_score_linearity(data[test_mask],\n",
    "                    col_score=col_score,\n",
    "                    col_target=col_target,\n",
    "                    bins=10)"
   ]
  },
  {
   "cell_type": "markdown",
   "metadata": {},
   "source": [
    "##  Simulating threshold for best F1"
   ]
  },
  {
   "cell_type": "code",
   "execution_count": 79,
   "metadata": {},
   "outputs": [
    {
     "name": "stdout",
     "output_type": "stream",
     "text": [
      "Threshold=0.455, F-Score=0.79633\n"
     ]
    }
   ],
   "source": [
    "def to_labels(pos_probs, threshold):\n",
    "    return (pos_probs >= threshold).astype('int')\n",
    "\n",
    "# define thresholds\n",
    "thresholds = arange(0, 1, 0.001)\n",
    "# evaluate each threshold\n",
    "scores = [f1_score(data[test_mask][col_target], to_labels(data[test_mask][col_score], t)) for t in thresholds]\n",
    "# get best threshold\n",
    "ix = argmax(scores)\n",
    "print('Threshold=%.3f, F-Score=%.5f' % (thresholds[ix], scores[ix]))"
   ]
  },
  {
   "cell_type": "markdown",
   "metadata": {},
   "source": [
    "# Save Submit"
   ]
  },
  {
   "cell_type": "code",
   "execution_count": 80,
   "metadata": {},
   "outputs": [],
   "source": [
    "# save dataset\n",
    "submit = np.where(data[mask_submit][col_score] > thresholds[ix], True,False)\n",
    "data.at[mask_submit, 'Labels'] = submit\n",
    "data[mask_submit]['Labels'].to_csv('2_dsi_pred.csv')"
   ]
  },
  {
   "cell_type": "code",
   "execution_count": 81,
   "metadata": {},
   "outputs": [
    {
     "data": {
      "text/plain": [
       "Ids\n",
       "2e6992a84_2020-11-25_18    True\n",
       "2e68e62f4_2020-11-29_20    True\n",
       "2e68e81a4_2020-11-27_10    True\n",
       "2e69eec04_2020-11-24_7     True\n",
       "2e698e4a4_2020-11-27_8     True\n",
       "Name: Labels, dtype: object"
      ]
     },
     "execution_count": 81,
     "metadata": {},
     "output_type": "execute_result"
    }
   ],
   "source": [
    "data[mask_submit]['Labels'].head()"
   ]
  },
  {
   "cell_type": "code",
   "execution_count": 82,
   "metadata": {},
   "outputs": [
    {
     "data": {
      "text/plain": [
       "True     11690\n",
       "False     2151\n",
       "Name: Labels, dtype: int64"
      ]
     },
     "execution_count": 82,
     "metadata": {},
     "output_type": "execute_result"
    }
   ],
   "source": [
    "data[mask_submit]['Labels'].value_counts()"
   ]
  },
  {
   "cell_type": "code",
   "execution_count": null,
   "metadata": {},
   "outputs": [],
   "source": []
  }
 ],
 "metadata": {
  "kernelspec": {
   "display_name": "Python 3",
   "language": "python",
   "name": "python3"
  },
  "language_info": {
   "codemirror_mode": {
    "name": "ipython",
    "version": 3
   },
   "file_extension": ".py",
   "mimetype": "text/x-python",
   "name": "python",
   "nbconvert_exporter": "python",
   "pygments_lexer": "ipython3",
   "version": "3.7.3"
  },
  "toc": {
   "base_numbering": 1,
   "nav_menu": {
    "height": "518px",
    "width": "517px"
   },
   "number_sections": true,
   "sideBar": true,
   "skip_h1_title": false,
   "title_cell": "Table of Contents",
   "title_sidebar": "Contents",
   "toc_cell": false,
   "toc_position": {
    "height": "826px",
    "left": "89px",
    "top": "180px",
    "width": "371.6px"
   },
   "toc_section_display": true,
   "toc_window_display": true
  }
 },
 "nbformat": 4,
 "nbformat_minor": 2
}
